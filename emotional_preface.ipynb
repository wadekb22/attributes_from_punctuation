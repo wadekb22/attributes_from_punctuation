{
 "cells": [
  {
   "cell_type": "code",
   "execution_count": 12,
   "metadata": {},
   "outputs": [],
   "source": [
    "import re\n",
    "import string\n",
    "import pandas as pd\n",
    "import numpy as np\n",
    "from collections import Counter\n",
    "import csv"
   ]
  },
  {
   "cell_type": "code",
   "execution_count": 7,
   "metadata": {},
   "outputs": [],
   "source": [
    "# Define our dictionary for punctuation to word conversion\n",
    "\n",
    "marks = ['.',',',':',';','?','!','-','(',')','\"',\"'\",'~']\n",
    "marks_to_wrds = {'.':'prd', ',':'cmma', ':':'coln', ';':'smicln', '?':'qstn', '!':'xclm', '-':'dsh', '(':'lftparen', ')':'rghtparen', '\"':'dblqt', \"'\":'snglqt', '~':'elpss'}"
   ]
  },
  {
   "cell_type": "code",
   "execution_count": 2,
   "metadata": {},
   "outputs": [],
   "source": [
    "data = pd.read_csv('stats_clean.csv', error_bad_lines = False, encoding = 'latin1')\n",
    "data = data.dropna()"
   ]
  },
  {
   "cell_type": "code",
   "execution_count": 3,
   "metadata": {},
   "outputs": [
    {
     "name": "stdout",
     "output_type": "stream",
     "text": [
      "ellipses are replaced\n",
      "urls removed\n",
      "blank chars removed\n",
      "changed to lowercase\n"
     ]
    }
   ],
   "source": [
    "## Data cleaning\n",
    "# Replace '...' with '~'\n",
    "data['text'] = data['text'].str.replace(r\"\\.\\.\\.\", \"~\")\n",
    "print(\"ellipses are replaced\")\n",
    "\n",
    "# Remove URLs\n",
    "data['text'] = data['text'].str.replace(r\"\\[.*?\\]\\(https?:\\/\\/.*?\\)\",\"\")\n",
    "print(\"urls removed\")\n",
    "\n",
    "# Remove blank characters\n",
    "data['text'] = data['text'].str.replace(r\"&#x200B;\",\"\")\n",
    "print(\"blank chars removed\")\n",
    "\n",
    "# to lowercase\n",
    "data['text'] = data['text'].str.lower()\n",
    "print(\"changed to lowercase\")"
   ]
  },
  {
   "cell_type": "code",
   "execution_count": 4,
   "metadata": {},
   "outputs": [],
   "source": [
    "bins = [0, 24.5, 43.5, 55.5, 74.5, 100]\n",
    "gen_labels = [\"GenZ\", \"GenY\", \"GenX\", \"BabyBoomers\", \"Traditionalists\"]\n",
    "data['age'] = pd.cut(data['age'], bins=bins, labels=gen_labels)"
   ]
  },
  {
   "cell_type": "code",
   "execution_count": 5,
   "metadata": {},
   "outputs": [],
   "source": [
    "# Create even sample across gender\n",
    "\n",
    "#BBs and trads too small a set\n",
    "data = data[(data['age']!='BabyBoomers') & (data['age']!='Traditionalists')]\n",
    "\n",
    "samps = []\n",
    "for a in data.age.unique():\n",
    "    m = data[(data['age']==a) & (data['gender']=='Male')]\n",
    "    m_size = len(m)\n",
    "    samps.append(m)\n",
    "    f = data[(data['age']==a) & (data['gender']=='Female')].sample(n=m_size, random_state=1)\n",
    "    samps.append(f)\n",
    "even_data = pd.concat(samps)\n",
    "data = even_data"
   ]
  },
  {
   "cell_type": "code",
   "execution_count": 34,
   "metadata": {},
   "outputs": [],
   "source": [
    "## Convert text to itemset data\n",
    "# Concatenate all the comments into one long string.\n",
    "\n",
    "# data to use\n",
    "df = data\n",
    "\n",
    "punc_pat = df['text'].str.extractall(r\"(?P<first>[\\w']+)\\s+(?P<second>[\\w']+)\\s+(?P<third>[\\w']+)\\s+(?P<fourth>[\\w']+)\\b\\s?(?P<punc>[.,:;?!\\-()\\\"~])\")\n",
    "itemset = punc_pat.join(data[['gender','age','author']].reindex(punc_pat.index,level=0))\n",
    "itemset['punc'] = itemset['punc'].map(marks_to_wrds)"
   ]
  },
  {
   "cell_type": "code",
   "execution_count": 30,
   "metadata": {},
   "outputs": [],
   "source": [
    "## Build VAD dataset\n",
    "\n",
    "vad = {}\n",
    "\n",
    "vad_file = \"vad.txt\"\n",
    "\n",
    "with open(vad_file, \"r\") as in_file:\n",
    "    reader = csv.DictReader(in_file,delimiter=\"\\t\")\n",
    "    for row in reader:\n",
    "        vad[row['Word']] = np.array([float(row['Valence']), float(row['Arousal']), float(row['Dominance'])])"
   ]
  },
  {
   "cell_type": "code",
   "execution_count": 96,
   "metadata": {
    "scrolled": true
   },
   "outputs": [
    {
     "name": "stdout",
     "output_type": "stream",
     "text": [
      "0% Completed\n",
      "1% Completed\n",
      "2% Completed\n",
      "3% Completed\n",
      "4% Completed\n",
      "5% Completed\n",
      "6% Completed\n",
      "7% Completed\n",
      "8% Completed\n",
      "9% Completed\n",
      "10% Completed\n",
      "11% Completed\n",
      "12% Completed\n",
      "13% Completed\n",
      "14% Completed\n",
      "15% Completed\n",
      "16% Completed\n",
      "17% Completed\n",
      "18% Completed\n",
      "19% Completed\n",
      "20% Completed\n",
      "21% Completed\n",
      "22% Completed\n",
      "23% Completed\n",
      "24% Completed\n",
      "25% Completed\n",
      "26% Completed\n",
      "27% Completed\n",
      "28% Completed\n",
      "29% Completed\n",
      "30% Completed\n",
      "31% Completed\n",
      "32% Completed\n",
      "33% Completed\n",
      "34% Completed\n",
      "35% Completed\n",
      "36% Completed\n",
      "37% Completed\n",
      "38% Completed\n",
      "39% Completed\n",
      "40% Completed\n",
      "41% Completed\n",
      "42% Completed\n",
      "43% Completed\n",
      "44% Completed\n",
      "45% Completed\n",
      "46% Completed\n",
      "47% Completed\n",
      "48% Completed\n",
      "49% Completed\n",
      "50% Completed\n",
      "51% Completed\n",
      "52% Completed\n",
      "53% Completed\n",
      "54% Completed\n",
      "55% Completed\n",
      "56% Completed\n",
      "57% Completed\n",
      "58% Completed\n",
      "59% Completed\n",
      "60% Completed\n",
      "61% Completed\n",
      "62% Completed\n",
      "63% Completed\n",
      "64% Completed\n",
      "65% Completed\n",
      "66% Completed\n",
      "67% Completed\n",
      "68% Completed\n",
      "69% Completed\n",
      "70% Completed\n",
      "71% Completed\n",
      "72% Completed\n",
      "73% Completed\n",
      "74% Completed\n",
      "75% Completed\n",
      "76% Completed\n",
      "77% Completed\n",
      "78% Completed\n",
      "79% Completed\n",
      "80% Completed\n",
      "81% Completed\n",
      "82% Completed\n",
      "83% Completed\n",
      "84% Completed\n",
      "85% Completed\n",
      "86% Completed\n",
      "87% Completed\n",
      "88% Completed\n",
      "89% Completed\n",
      "90% Completed\n",
      "91% Completed\n",
      "92% Completed\n",
      "93% Completed\n",
      "94% Completed\n",
      "95% Completed\n",
      "96% Completed\n",
      "97% Completed\n",
      "98% Completed\n",
      "99% Completed\n"
     ]
    }
   ],
   "source": [
    "## Main method\n",
    "\n",
    "out = []\n",
    "size = len(itemset.author.unique())\n",
    "tot_count = 0\n",
    "for auth in itemset.author.unique():\n",
    "    tot_count += 1\n",
    "    subset = itemset[itemset['author']==auth]\n",
    "    demo_row = [subset.iloc[0]['age'], subset.iloc[0]['gender']]\n",
    "    if tot_count % int(size/100) == 0:\n",
    "        print(f\"{int(tot_count/size*100)}% Completed\")\n",
    "    for punc in subset.punc.unique():\n",
    "        \n",
    "        val = np.array([float(0), float(0), float(0)])\n",
    "        count = 0\n",
    "\n",
    "        p_subset = subset[subset['punc']==punc]\n",
    "        p_subset = p_subset[['first','second','third']].values.tolist()\n",
    "\n",
    "        for row in p_subset:\n",
    "            for wrd in row:\n",
    "                if wrd in vad:\n",
    "                    count += 1\n",
    "                    val = val + (vad[wrd]-val)/count\n",
    "        out_row = demo_row + [punc] + val.tolist()\n",
    "        out.append(out_row)"
   ]
  },
  {
   "cell_type": "code",
   "execution_count": 79,
   "metadata": {
    "scrolled": true
   },
   "outputs": [
    {
     "name": "stdout",
     "output_type": "stream",
     "text": [
      "0% Completed\n",
      "1% Completed\n",
      "2% Completed\n",
      "3% Completed\n",
      "4% Completed\n",
      "5% Completed\n",
      "6% Completed\n",
      "7% Completed\n",
      "8% Completed\n",
      "9% Completed\n",
      "10% Completed\n",
      "11% Completed\n",
      "12% Completed\n",
      "13% Completed\n",
      "14% Completed\n",
      "15% Completed\n",
      "16% Completed\n",
      "17% Completed\n",
      "18% Completed\n",
      "19% Completed\n",
      "20% Completed\n",
      "21% Completed\n",
      "22% Completed\n",
      "23% Completed\n",
      "24% Completed\n",
      "25% Completed\n",
      "26% Completed\n",
      "27% Completed\n",
      "28% Completed\n",
      "29% Completed\n",
      "30% Completed\n",
      "31% Completed\n",
      "32% Completed\n",
      "33% Completed\n",
      "34% Completed\n",
      "35% Completed\n",
      "36% Completed\n",
      "37% Completed\n",
      "38% Completed\n",
      "39% Completed\n",
      "40% Completed\n",
      "41% Completed\n",
      "42% Completed\n",
      "43% Completed\n"
     ]
    },
    {
     "ename": "KeyboardInterrupt",
     "evalue": "",
     "output_type": "error",
     "traceback": [
      "\u001b[1;31m---------------------------------------------------------------------------\u001b[0m",
      "\u001b[1;31mKeyboardInterrupt\u001b[0m                         Traceback (most recent call last)",
      "\u001b[1;32m<ipython-input-79-401114436612>\u001b[0m in \u001b[0;36m<module>\u001b[1;34m\u001b[0m\n\u001b[0;32m      6\u001b[0m \u001b[1;32mfor\u001b[0m \u001b[0mauth\u001b[0m \u001b[1;32min\u001b[0m \u001b[0mdata\u001b[0m\u001b[1;33m.\u001b[0m\u001b[0mauthor\u001b[0m\u001b[1;33m.\u001b[0m\u001b[0munique\u001b[0m\u001b[1;33m(\u001b[0m\u001b[1;33m)\u001b[0m\u001b[1;33m:\u001b[0m\u001b[1;33m\u001b[0m\u001b[1;33m\u001b[0m\u001b[0m\n\u001b[0;32m      7\u001b[0m     \u001b[0mtot_count\u001b[0m \u001b[1;33m+=\u001b[0m \u001b[1;36m1\u001b[0m\u001b[1;33m\u001b[0m\u001b[1;33m\u001b[0m\u001b[0m\n\u001b[1;32m----> 8\u001b[1;33m     \u001b[0msubset\u001b[0m \u001b[1;33m=\u001b[0m \u001b[0mitemset\u001b[0m\u001b[1;33m[\u001b[0m\u001b[0mitemset\u001b[0m\u001b[1;33m[\u001b[0m\u001b[1;34m'author'\u001b[0m\u001b[1;33m]\u001b[0m\u001b[1;33m==\u001b[0m\u001b[0mauth\u001b[0m\u001b[1;33m]\u001b[0m\u001b[1;33m\u001b[0m\u001b[1;33m\u001b[0m\u001b[0m\n\u001b[0m\u001b[0;32m      9\u001b[0m     \u001b[0mdemo_row\u001b[0m \u001b[1;33m=\u001b[0m \u001b[1;33m[\u001b[0m\u001b[0mdata\u001b[0m\u001b[1;33m.\u001b[0m\u001b[0miloc\u001b[0m\u001b[1;33m[\u001b[0m\u001b[1;36m0\u001b[0m\u001b[1;33m]\u001b[0m\u001b[1;33m[\u001b[0m\u001b[1;34m'age'\u001b[0m\u001b[1;33m]\u001b[0m\u001b[1;33m,\u001b[0m \u001b[0mdata\u001b[0m\u001b[1;33m.\u001b[0m\u001b[0miloc\u001b[0m\u001b[1;33m[\u001b[0m\u001b[1;36m0\u001b[0m\u001b[1;33m]\u001b[0m\u001b[1;33m[\u001b[0m\u001b[1;34m'gender'\u001b[0m\u001b[1;33m]\u001b[0m\u001b[1;33m]\u001b[0m\u001b[1;33m\u001b[0m\u001b[1;33m\u001b[0m\u001b[0m\n\u001b[0;32m     10\u001b[0m     \u001b[1;32mif\u001b[0m \u001b[0mtot_count\u001b[0m \u001b[1;33m%\u001b[0m \u001b[0mint\u001b[0m\u001b[1;33m(\u001b[0m\u001b[0msize\u001b[0m\u001b[1;33m/\u001b[0m\u001b[1;36m100\u001b[0m\u001b[1;33m)\u001b[0m \u001b[1;33m==\u001b[0m \u001b[1;36m0\u001b[0m\u001b[1;33m:\u001b[0m\u001b[1;33m\u001b[0m\u001b[1;33m\u001b[0m\u001b[0m\n",
      "\u001b[1;32m~\\anaconda3\\lib\\site-packages\\pandas\\core\\ops\\common.py\u001b[0m in \u001b[0;36mnew_method\u001b[1;34m(self, other)\u001b[0m\n\u001b[0;32m     62\u001b[0m         \u001b[0mother\u001b[0m \u001b[1;33m=\u001b[0m \u001b[0mitem_from_zerodim\u001b[0m\u001b[1;33m(\u001b[0m\u001b[0mother\u001b[0m\u001b[1;33m)\u001b[0m\u001b[1;33m\u001b[0m\u001b[1;33m\u001b[0m\u001b[0m\n\u001b[0;32m     63\u001b[0m \u001b[1;33m\u001b[0m\u001b[0m\n\u001b[1;32m---> 64\u001b[1;33m         \u001b[1;32mreturn\u001b[0m \u001b[0mmethod\u001b[0m\u001b[1;33m(\u001b[0m\u001b[0mself\u001b[0m\u001b[1;33m,\u001b[0m \u001b[0mother\u001b[0m\u001b[1;33m)\u001b[0m\u001b[1;33m\u001b[0m\u001b[1;33m\u001b[0m\u001b[0m\n\u001b[0m\u001b[0;32m     65\u001b[0m \u001b[1;33m\u001b[0m\u001b[0m\n\u001b[0;32m     66\u001b[0m     \u001b[1;32mreturn\u001b[0m \u001b[0mnew_method\u001b[0m\u001b[1;33m\u001b[0m\u001b[1;33m\u001b[0m\u001b[0m\n",
      "\u001b[1;32m~\\anaconda3\\lib\\site-packages\\pandas\\core\\ops\\__init__.py\u001b[0m in \u001b[0;36mwrapper\u001b[1;34m(self, other)\u001b[0m\n\u001b[0;32m    524\u001b[0m         \u001b[0mrvalues\u001b[0m \u001b[1;33m=\u001b[0m \u001b[0mextract_array\u001b[0m\u001b[1;33m(\u001b[0m\u001b[0mother\u001b[0m\u001b[1;33m,\u001b[0m \u001b[0mextract_numpy\u001b[0m\u001b[1;33m=\u001b[0m\u001b[1;32mTrue\u001b[0m\u001b[1;33m)\u001b[0m\u001b[1;33m\u001b[0m\u001b[1;33m\u001b[0m\u001b[0m\n\u001b[0;32m    525\u001b[0m \u001b[1;33m\u001b[0m\u001b[0m\n\u001b[1;32m--> 526\u001b[1;33m         \u001b[0mres_values\u001b[0m \u001b[1;33m=\u001b[0m \u001b[0mcomparison_op\u001b[0m\u001b[1;33m(\u001b[0m\u001b[0mlvalues\u001b[0m\u001b[1;33m,\u001b[0m \u001b[0mrvalues\u001b[0m\u001b[1;33m,\u001b[0m \u001b[0mop\u001b[0m\u001b[1;33m)\u001b[0m\u001b[1;33m\u001b[0m\u001b[1;33m\u001b[0m\u001b[0m\n\u001b[0m\u001b[0;32m    527\u001b[0m \u001b[1;33m\u001b[0m\u001b[0m\n\u001b[0;32m    528\u001b[0m         \u001b[1;32mreturn\u001b[0m \u001b[0m_construct_result\u001b[0m\u001b[1;33m(\u001b[0m\u001b[0mself\u001b[0m\u001b[1;33m,\u001b[0m \u001b[0mres_values\u001b[0m\u001b[1;33m,\u001b[0m \u001b[0mindex\u001b[0m\u001b[1;33m=\u001b[0m\u001b[0mself\u001b[0m\u001b[1;33m.\u001b[0m\u001b[0mindex\u001b[0m\u001b[1;33m,\u001b[0m \u001b[0mname\u001b[0m\u001b[1;33m=\u001b[0m\u001b[0mres_name\u001b[0m\u001b[1;33m)\u001b[0m\u001b[1;33m\u001b[0m\u001b[1;33m\u001b[0m\u001b[0m\n",
      "\u001b[1;32m~\\anaconda3\\lib\\site-packages\\pandas\\core\\ops\\array_ops.py\u001b[0m in \u001b[0;36mcomparison_op\u001b[1;34m(left, right, op)\u001b[0m\n\u001b[0;32m    245\u001b[0m \u001b[1;33m\u001b[0m\u001b[0m\n\u001b[0;32m    246\u001b[0m     \u001b[1;32melif\u001b[0m \u001b[0mis_object_dtype\u001b[0m\u001b[1;33m(\u001b[0m\u001b[0mlvalues\u001b[0m\u001b[1;33m.\u001b[0m\u001b[0mdtype\u001b[0m\u001b[1;33m)\u001b[0m\u001b[1;33m:\u001b[0m\u001b[1;33m\u001b[0m\u001b[1;33m\u001b[0m\u001b[0m\n\u001b[1;32m--> 247\u001b[1;33m         \u001b[0mres_values\u001b[0m \u001b[1;33m=\u001b[0m \u001b[0mcomp_method_OBJECT_ARRAY\u001b[0m\u001b[1;33m(\u001b[0m\u001b[0mop\u001b[0m\u001b[1;33m,\u001b[0m \u001b[0mlvalues\u001b[0m\u001b[1;33m,\u001b[0m \u001b[0mrvalues\u001b[0m\u001b[1;33m)\u001b[0m\u001b[1;33m\u001b[0m\u001b[1;33m\u001b[0m\u001b[0m\n\u001b[0m\u001b[0;32m    248\u001b[0m \u001b[1;33m\u001b[0m\u001b[0m\n\u001b[0;32m    249\u001b[0m     \u001b[1;32melse\u001b[0m\u001b[1;33m:\u001b[0m\u001b[1;33m\u001b[0m\u001b[1;33m\u001b[0m\u001b[0m\n",
      "\u001b[1;32m~\\anaconda3\\lib\\site-packages\\pandas\\core\\ops\\array_ops.py\u001b[0m in \u001b[0;36mcomp_method_OBJECT_ARRAY\u001b[1;34m(op, x, y)\u001b[0m\n\u001b[0;32m     56\u001b[0m     \u001b[1;32melse\u001b[0m\u001b[1;33m:\u001b[0m\u001b[1;33m\u001b[0m\u001b[1;33m\u001b[0m\u001b[0m\n\u001b[0;32m     57\u001b[0m         \u001b[0mresult\u001b[0m \u001b[1;33m=\u001b[0m \u001b[0mlibops\u001b[0m\u001b[1;33m.\u001b[0m\u001b[0mscalar_compare\u001b[0m\u001b[1;33m(\u001b[0m\u001b[0mx\u001b[0m\u001b[1;33m.\u001b[0m\u001b[0mravel\u001b[0m\u001b[1;33m(\u001b[0m\u001b[1;33m)\u001b[0m\u001b[1;33m,\u001b[0m \u001b[0my\u001b[0m\u001b[1;33m,\u001b[0m \u001b[0mop\u001b[0m\u001b[1;33m)\u001b[0m\u001b[1;33m\u001b[0m\u001b[1;33m\u001b[0m\u001b[0m\n\u001b[1;32m---> 58\u001b[1;33m     \u001b[1;32mreturn\u001b[0m \u001b[0mresult\u001b[0m\u001b[1;33m.\u001b[0m\u001b[0mreshape\u001b[0m\u001b[1;33m(\u001b[0m\u001b[0mx\u001b[0m\u001b[1;33m.\u001b[0m\u001b[0mshape\u001b[0m\u001b[1;33m)\u001b[0m\u001b[1;33m\u001b[0m\u001b[1;33m\u001b[0m\u001b[0m\n\u001b[0m\u001b[0;32m     59\u001b[0m \u001b[1;33m\u001b[0m\u001b[0m\n\u001b[0;32m     60\u001b[0m \u001b[1;33m\u001b[0m\u001b[0m\n",
      "\u001b[1;31mKeyboardInterrupt\u001b[0m: "
     ]
    }
   ],
   "source": [
    "## Main method, any punc\n",
    "\n",
    "out1 = []\n",
    "size = len(itemset.author.unique())\n",
    "tot_count = 0\n",
    "for auth in data.author.unique():\n",
    "    tot_count += 1\n",
    "    subset = itemset[itemset['author']==auth]\n",
    "    demo_row = [data.iloc[0]['age'], data.iloc[0]['gender']]\n",
    "    if tot_count % int(size/100) == 0:\n",
    "        print(f\"{int(tot_count/size*100)}% Completed\")\n",
    "        \n",
    "    val = np.array([float(0), float(0), float(0)])\n",
    "    count = 0\n",
    "\n",
    "    p_subset = subset\n",
    "    p_subset = p_subset[['first','second','third']].values.tolist()\n",
    "\n",
    "    for row in p_subset:\n",
    "        for wrd in row:\n",
    "            if wrd in vad:\n",
    "                count += 1\n",
    "                val = val + (vad[wrd]-val)/count\n",
    "    out_row = demo_row + [\"all\"] + val.tolist()\n",
    "    out1.append(out_row)"
   ]
  },
  {
   "cell_type": "code",
   "execution_count": null,
   "metadata": {},
   "outputs": [],
   "source": [
    "## Main method, all authors\n",
    "\n",
    "out2 = []\n",
    "size = len(itemset.author.unique())\n",
    "\n",
    "subset = itemset\n",
    "demo_row = [\"all\", \"all\"]\n",
    "for punc in subset.punc.unique():\n",
    "\n",
    "    val = np.array([float(0), float(0), float(0)])\n",
    "    count = 0\n",
    "\n",
    "    p_subset = subset[subset['punc']==punc]\n",
    "    p_subset = p_subset[['first','second','third']].values.tolist()\n",
    "\n",
    "    for row in p_subset:\n",
    "        for wrd in row:\n",
    "            if wrd in vad:\n",
    "                count += 1\n",
    "                val = val + (vad[wrd]-val)/count\n",
    "    out_row = demo_row + [punc] + val.tolist()\n",
    "    out2.append(out_row)"
   ]
  },
  {
   "cell_type": "code",
   "execution_count": 98,
   "metadata": {},
   "outputs": [],
   "source": [
    "working = out.copy()"
   ]
  },
  {
   "cell_type": "code",
   "execution_count": 99,
   "metadata": {},
   "outputs": [],
   "source": [
    "working = [i for i in working if (i[3] != 0 and i[4] != 0 and i[5] != 0)]"
   ]
  },
  {
   "cell_type": "code",
   "execution_count": 100,
   "metadata": {},
   "outputs": [],
   "source": [
    "out_filename = \"vad_scores_noempty.csv\"\n",
    "head = [\"age\",\"gender\",\"punc\",\"valence\",\"arousal\",\"dominance\"]\n",
    "\n",
    "with open(out_filename, 'w', newline='') as out_file:\n",
    "    writer = csv.writer(out_file)\n",
    "    writer.writerow(head)\n",
    "    writer.writerows(working)"
   ]
  },
  {
   "cell_type": "code",
   "execution_count": null,
   "metadata": {},
   "outputs": [],
   "source": []
  }
 ],
 "metadata": {
  "kernelspec": {
   "display_name": "Python 3",
   "language": "python",
   "name": "python3"
  },
  "language_info": {
   "codemirror_mode": {
    "name": "ipython",
    "version": 3
   },
   "file_extension": ".py",
   "mimetype": "text/x-python",
   "name": "python",
   "nbconvert_exporter": "python",
   "pygments_lexer": "ipython3",
   "version": "3.7.6"
  }
 },
 "nbformat": 4,
 "nbformat_minor": 4
}
