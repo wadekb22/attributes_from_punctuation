{
 "cells": [
  {
   "cell_type": "code",
   "execution_count": null,
   "metadata": {
    "collapsed": true
   },
   "outputs": [],
   "source": [
    "# LEFT TO DO:\n",
    " \n",
    "'''\n",
    "- Integrate this code into the main data_collection.ipynb, specifically, get the appropriate parts under the generate_stats function. \n",
    "- Work on outputting the stats correctly.\n",
    "- F6 as in Darmon's work?\n",
    "\n",
    "'''\n"
   ]
  },
  {
   "cell_type": "code",
   "execution_count": 32,
   "metadata": {},
   "outputs": [],
   "source": [
    "import re\n",
    "import itertools\n",
    "import pandas as pd\n",
    "from statistics import mean\n",
    "from string import punctuation\n",
    "from itertools import chain"
   ]
  },
  {
   "cell_type": "code",
   "execution_count": 3,
   "metadata": {
    "collapsed": true
   },
   "outputs": [],
   "source": [
    "# Helper function which splits text input into individual sentances. Used in generation of f4.\n",
    "\n",
    "acronyms = \"([A-Z][.][A-Z][.](?:[A-Z][.])?)\"\n",
    "alphabets= \"([A-Za-z])\"\n",
    "digits = \"([0-9])\"\n",
    "prefixes = \"(Mr|St|Mrs|Ms|Dr)[.]\"\n",
    "suffixes = \"(Inc|Ltd|Jr|Sr|Co)\"\n",
    "starters = \"(Mr|Mrs|Ms|Dr|He\\s|She\\s|It\\s|They\\s|Their\\s|Our\\s|We\\s|But\\s|However\\s|That\\s|This\\s|Wherever)\"\n",
    "websites = \"[.](com|net|org|io|gov)\"\n",
    "\n",
    "def split_into_sentences(text):\n",
    "    text = \" \" + text + \"  \"\n",
    "    text = text.replace(\"\\n\",\" \")\n",
    "    text = re.sub(prefixes,\"\\\\1<prd>\",text)\n",
    "    text = re.sub(websites,\"<prd>\\\\1\",text)\n",
    "    if \"Ph.D\" in text: text = text.replace(\"Ph.D.\",\"Ph<prd>D<prd>\")\n",
    "    text = re.sub(\"\\s\" + alphabets + \"[.] \",\" \\\\1<prd> \",text)\n",
    "    text = re.sub(acronyms+\" \"+starters,\"\\\\1<stop> \\\\2\",text)\n",
    "    text = re.sub(alphabets + \"[.]\" + alphabets + \"[.]\" + alphabets + \"[.]\",\"\\\\1<prd>\\\\2<prd>\\\\3<prd>\",text)\n",
    "    text = re.sub(alphabets + \"[.]\" + alphabets + \"[.]\",\"\\\\1<prd>\\\\2<prd>\",text)\n",
    "    text = re.sub(\" \"+suffixes+\"[.] \"+starters,\" \\\\1<stop> \\\\2\",text)\n",
    "    text = re.sub(\" \"+suffixes+\"[.]\",\" \\\\1<prd>\",text)\n",
    "    text = re.sub(\" \" + alphabets + \"[.]\",\" \\\\1<prd>\",text)\n",
    "    text = re.sub(digits + \"[.]\" + digits,\"\\\\1<prd>\\\\2\",text) \n",
    "    if \"”\" in text: text = text.replace(\".”\",\"”.\")\n",
    "    if \"\\\"\" in text: text = text.replace(\".\\\"\",\"\\\".\")\n",
    "    if \"!\" in text: text = text.replace(\"!\\\"\",\"\\\"!\")\n",
    "    if \"?\" in text: text = text.replace(\"?\\\"\",\"\\\"?\")\n",
    "    text = text.replace(\".\",\".<stop>\")\n",
    "    text = text.replace(\"?\",\"?<stop>\")\n",
    "    text = text.replace(\"!\",\"!<stop>\")\n",
    "    text = text.replace(\"<prd>\",\".\")\n",
    "    sentences = text.split(\"<stop>\")\n",
    "    sentences = sentences[:-1]\n",
    "    sentences = [s.strip() for s in sentences]\n",
    "    return sentences"
   ]
  },
  {
   "cell_type": "code",
   "execution_count": 23,
   "metadata": {
    "collapsed": true
   },
   "outputs": [],
   "source": [
    "# Input, our array of the ten most recent comments from a single Redditor.\n",
    "comment_list = [\"35, I have a pretty good job but I don't love it. I'm still trying to figure out what I want to be when I grow up. Situation could be a lot worse but I'm at a point where I want to do something I enjoy.\", \"My family (live with my real mom and step dad) act like me being outed by older sister never happened. And on top of all of this I'm struggling trying to study for my math ged which I failed six times with being 1 point shy from passing. If I fail it again, its another two months of waiting to retake it.\", \"I'm really not sure how i'm supposed to feel anymore knowing that most of my life I was just wasting my time.\", \"I'm an IT apprentice and was about a month away from finishing my level 4 course. My training provider has just closed down due to a fraud investigation so now im in a position of trying to find a provider for my specific course so I can finish. And there's no guarantee my years work can be transferred so I may not even be able to get my certificate without another years of work.\", \"29 and I don't like being a mum\", \"I was going to complain about being a 24yo male who's single and doesn't want to be but some of these responses make mine a drop in the bucket compared to the waters some of you face. Best of luck to all of you.\", \"Split up with my long term so of 5 years and decided to go for a complete career change. Going to pack in this life and go travel for a bit. Experience the world and figure out what it is I want.\", \"I'm 30, diagnosed last year with ADHS, failed university this year, just needed to write my thesis, no intimacy with my girlfriend of 2 years anymore. Yeah Life!\", \"32, alcoholic, narcissistic, sociopath, broke, in debt, and i feel eventually my finances will magically fix themselves. I’m also a cocky piece of shit who doesn’t take advice or think there’s anything wrong with me. I truthfully think I’m ok. I need help. So much.\", \"My dad has lung cancer and is refusing treatment, which is fine. He's a 68 year old man who loves to drink and smoke and has accepted the hand he was dealt. He doesn't have to go through treatment if he doesn't want too.\"]"
   ]
  },
  {
   "cell_type": "code",
   "execution_count": 4,
   "metadata": {},
   "outputs": [],
   "source": [
    "# Create read-only reddit instance\n",
    "import praw\n",
    "\n",
    "# This should be moved to a private praw.ini file at some point\n",
    "reddit = praw.Reddit(\n",
    " client_id=\"kuf-S39ElN0SpA\",\n",
    " client_secret=\"XVSM3GfyGRbhbdeXh-s3AtNqnP2FCg\",\n",
    " user_agent=\"pc:attributes.from.punctuation:v1.0.0 (by u/dscc440bot)\"\n",
    ")"
   ]
  },
  {
   "cell_type": "code",
   "execution_count": 18,
   "metadata": {},
   "outputs": [],
   "source": [
    "comment_list = []  # contains strings of comment text\n",
    "redditor = \"CatSuyac\"\n",
    "start_time = 1596240000\n",
    "end_time = 1604188800\n",
    "redditor = reddit.redditor(redditor)\n",
    "    \n",
    "try:\n",
    "    for comment in redditor.comments.new(limit=None):\n",
    "        if comment.created_utc > start_time and comment.created_utc < end_time:  # Check if comment is within time range\n",
    "            comment_list.append(comment.body)\n",
    "except:\n",
    "    print(\"Account not valid (probably suspended).\")"
   ]
  },
  {
   "cell_type": "code",
   "execution_count": 19,
   "metadata": {},
   "outputs": [
    {
     "data": {
      "text/plain": [
       "['Ohh lol. It wouldn’t be a hidden secret if I said yes',\n",
       " 'I’m not too sure what you mean, can you elaborate?',\n",
       " 'Yes I like to swim, no I don’t swim with a leg on. \\n\\nAnd yeah I have crutches spare, but they haven’t been touched in months',\n",
       " 'I wear my leg pretty much 24/7. Only take it off when sleeping, showering  or swimming. But I don’t have any issues doing it in front of people. I’m not too sure what games are my current favourite, I haven’t played anything in quite a while truth truth be told. I played among us with a few of my class mates and that was cool',\n",
       " 'Not really. It’s more that I smile every time I see a 4 fingered cartoon and make jokes about how I’m the ideal human since most characters and portrayed in the same way as me',\n",
       " 'All good lol, just found it funny how reddit cropped my preview image so you can’t really see features. I’ll let you off this time, but don’t let it happen again, yes that is a threat.',\n",
       " 'This is a weird one. It’s really hard to describe the feeling as it’s not a universal feeling, and each person perceives it differently, phantom pains for me were quite good. I only suffered from them frequently in the first 2 months post op, they would happen every couple of minutes, however, as of today, I haven’t had a phantom pain in over 4 months. The best way to describe them? Imagine you’ve been walking all day long, climbing steep hills, and then had to go to the gym and focus on your legs, that feeling of pain and strain after the end of the day that’s left in your ankle and lower leg, the way to describe phantoms is that feeling but someone is forcing you to tense your sore muscles as hard as you can, and it’s localised (for me) entirely in your ankle area. The pain pulsates in a way, when I had them frequent, they happened for 20 seconds and then stopped for a few minutes, over and over again all day long. For me, It isn’t pain that will make you drop, it’s more like a nuisance, almost as if you are walking and randomly one of your steps sends a sharp pain through your foot and stops. This was really long because it’s just so difficult to explain the sensation. And especially if you haven’t experienced it before, it’s almost alien. \\n\\nIn conclusion - the most similar thing I can compare it to is a cramp',\n",
       " 'I can very much confirm that I am not a girl lol',\n",
       " 'Both hands',\n",
       " '1. I’m in The UK. it’s completely free. Every bit of the it. \\n\\n2. No, it’s the same weight as a normal leg, but the only difference is, it feels heavier because it’s an attachment as opposed to a part of your body, you don’t have muscles wrapped around the metal of your prosthesis so it feels heavier and all the muscle is in the socket as opposed to down the entire leg like normal',\n",
       " 'As I’ve already stated. I’m missing both my pinkies',\n",
       " 'I’ve never actually been bullied.  And the simpsons is one of my favourite cartoons.',\n",
       " 'Perhaps 🎰',\n",
       " 'Wowwww So inspiration',\n",
       " 'I had honestly never heard of this one',\n",
       " 'Well Im in a relationship that\\'s lasted over a year, and i know you are also curious about the \"other\" aspect of romance, 16 is age of consent in my country, \"that\" isn\\'t affected by my disabilities at all. It\\'s as close as it can get to normal. \\n\\nOne thing that has changed is that since I had my amputation, I\\'ve become alot more confident and social, because I realised that at this point, I\\'m never going to fit in without being noticed, so I need to stop hiding and just embrace my life. I’ve been able to make a lot more friends and seriously improve social skills, plus it’s something to talk about. So yeah, I guess you can say it’s different, but in a positive way',\n",
       " \"Going up and down hillls is marginally easier on my ptoethetic because I don't have an ankle which I need to tense and tire. Seems silly but it really is nice, it's like hills turn into light stairs since my foot is in a firm position\",\n",
       " 'It was an elective surgery. I suggested the idea without any 3rd party influence. I knew what I needed to improve my life, did my research, brought it up with my consultant and then got the green light to go ahead with it. If I hadn’t had gone and had it, the doctors would have kept me on the experimental route, I’m all for innovation but I don’t want to be a guinea pig for still in development methods for the condition I had, since it was guaranteed more pain than it was worth. \\n\\nWhen I woke up, I initially thought they got the wrong leg lol. I was highhhhh, very high. But I wasn’t in pain. Even after the anaesthetic wore off. It was a surreal experience. For the first 2 nights my legs were covered under a blanket so I waited in anticipation to see whether they had actually got the wrong leg or not as I couldn’t really sit up since the blood rush hit like a truck. But I didn’t regret it once if that’s what you’re wondering.',\n",
       " 'Sadly not. But I have a hybrid foot, meaning my foot is built for walking and moderate running. So I’m pretty much set with that',\n",
       " 'My hobbies - music, tech and gaming. \\n\\nMusic - Im a bassist, I slap, i funk, and I metal. Bass is one of my favourite instruments ever, I picked it up 2 years ago and self taught it using knowledge from my prior guitar lessons. \\n\\nTech - I’m fairly new to programming but am getting the hang of it very well, but I have a very good set of skills and knowledge when it comes to hardware repair and troubleshooting devices. I used to repair phones I would find at dumpsites, some barely in tact, I just love tinkering and seeing how things work and then being able to repair them. \\n\\nGaming - I have met some of my closest friends through gaming. It’s connected me with thousands of people all around the world, I’m pretty much set for life with the friends I’ve made, I have someone I trust with my life in every country almost.',\n",
       " 'Sorry for late reply - nope, the only thing which is slightly harder for me is sitting hours in cars but that’s only because my knee can’t bend more than 90* since the prosthetic takes up movement space and when I’m in the back of a car, my legs are cramped in a way that my prosthesis digs into the back of my knee and limits blood flow so I get pins and needles',\n",
       " 'No lol. People don’t realise just how important having hands and fingers really are. My prosthetic leg is as much a real leg as yours, I have no complaints about it. Whilst it would be cool having 2 legs, I wouldn’t sacrifice my fingers for it',\n",
       " 'Yes. Very positively. I now can actually live a live without having to stop for breaks whilst walking, I can go places I’ve never been before and do things I struggled to do before. I basically just unlocked living and have 0 regrets',\n",
       " 'Funnily enough piano is like the only stringed instrument im not very good at. Anything fretted (i.e bass, guitar, violin at a stretch) I can play perfectly, but I’ve never really tried on piano because my hand stretch is only about 16 cm from thumb to end finger. I might reconsider it but I’m pretty content on bass and guitar',\n",
       " 'I don’t know how to explain it. I’m a touch Typer. I don’t look at my keyboard when typing. I can be blindfolded and maybe get 2 letters wrong but still be at top speed. I use standard qwerty keyboards. I prioritise my middle and index fingers when typing, usually my hands are stationary as I have good coverage on keyboards so I don’t have to move about. So imagine standard 10 finger touch typing but without use of pinky',\n",
       " 'Best I’ve ever been. I’m about 1 year and 5 months post amputation and since about 6 months post Op, I was already running. It doesn’t affect me At ALL, I walk faster and more fluently than most and can run at a decent but yet to be improved pace. Phantom pains stopped about a year ago and apart from that, I’ve had 0 problems with my leg.\\n\\nI can do so much more then I was able too before amputation',\n",
       " 'I’m one of the fastest in my school. As ridiculous as it sounds I’m sure, I am honestly a very quick and accurate typer and even surprise myself sometimes. I don’t have programmers fingers but im still above average in that aspect. Typing is something I do basically everywhere. I use laptops in class, in exams, on my phone and at home. I can write with pen and pencil but my handwriting is horrendous, that’s unrelated to my fingers',\n",
       " 'Was just laughing at people who have 2 legs because they don’t know how awesome it is to be able to karate kick lamp posts and not have any repercussions',\n",
       " 'On my right hand, I was just born without one, however on my left hand, if you look closely you will notice my furthest-from-thumb finger looks weird, and that’s because I did have a 5th finger, but it grew out of my other finger like a cactus so it was amputated as a very young age, my finger doesn’t have a middle join because of it, only finger tip and knuckle joint since middle one is fused as that’s where the other finger grew from',\n",
       " 'I had a condition called fibula hemimelia, which means that I was born without my fibula, and because of it, my leg growth was very stunted, due to a botched surgery when I was a baby, my hamstring shrunk and my ankle fused is a contracted position, so my foot was the equivalent of a golf club, I had no ankle movement. Because of all this, my leg grew very poorly, and it was 6cm shorter than my right leg.\\n\\nIn 2015 I had a leg lengthening procedure done which is where they cut my tibia and ankle through and fitted an [ilisarof frame](https://www.researchgate.net/figure/Full-ring-Ilizarov-frame-applied-for-lengthening-of-tibia_fig1_51421471) on my leg, the idea is that for the period of 10 months, I would widen the gap between the cut bones and allow bone to grow in the gap, thus lengthening the leg. It was a long and painful process, and unfortunately, whilst it did lengthen my leg, it also made my foot unbearable to deal with, so 4 years after I had that done, I decided enough was enough and requested amputation, honestly it was the best choice I made.',\n",
       " 'I have those vans!',\n",
       " 'He reminds me of john coffee from the green mile and I have no idea why',\n",
       " 'Solved!',\n",
       " 'Doesn’t matter if it was done 60 years ago. The aim is to make space travel normalised and affordable. It’s not just see it once and never go again, as tech advances, it will be natural that we go further out, and space x, nasa and all the other companies just help speed the research and development towards that.',\n",
       " 'I know this is a joke, but can I ask what game you are referring to? I know war thunder and world of warplanes but they get pretty repetitive quickly, so was wondering if there were any other aviation games more based on a bombing aspect',\n",
       " 'I wear socks, sometimes my foot squeaks when I go bare prosthetic and wear shoes, it’s a pain tho because give it a week and my prosthetic would have made a gaping hole in the sock, and also I prefer having a sock on my prosthetic when walking without shoes, I find the rubber to have way to much traction, I like being able to glide or drag my foot across the floor like what people do when they are bored.']"
      ]
     },
     "execution_count": 19,
     "metadata": {},
     "output_type": "execute_result"
    }
   ],
   "source": [
    "comment_list"
   ]
  },
  {
   "cell_type": "code",
   "execution_count": 51,
   "metadata": {},
   "outputs": [
    {
     "name": "stdout",
     "output_type": "stream",
     "text": [
      "Ohh lol. It wouldnt be a hidden secret if I said yes Im not too sure what you mean, can you elaborate? Yes I like to swim, no I dont swim with a leg on.   And yeah I have crutches spare, but they havent been touched in months I wear my leg pretty much 24/7. Only take it off when sleeping, showering  or swimming. But I dont have any issues doing it in front of people. Im not too sure what games are my current favourite, I havent played anything in quite a while truth truth be told. I played among us with a few of my class mates and that was cool Not really. Its more that I smile every time I see a 4 fingered cartoon and make jokes about how Im the ideal human since most characters and portrayed in the same way as me All good lol, just found it funny how reddit cropped my preview image so you cant really see features. Ill let you off this time, but dont let it happen again, yes that is a threat. This is a weird one. Its really hard to describe the feeling as its not a universal feeling, and each person perceives it differently, phantom pains for me were quite good. I only suffered from them frequently in the first 2 months post op, they would happen every couple of minutes, however, as of today, I havent had a phantom pain in over 4 months. The best way to describe them? Imagine youve been walking all day long, climbing steep hills, and then had to go to the gym and focus on your legs, that feeling of pain and strain after the end of the day thats left in your ankle and lower leg, the way to describe phantoms is that feeling but someone is forcing you to tense your sore muscles as hard as you can, and its localised (for me) entirely in your ankle area. The pain pulsates in a way, when I had them frequent, they happened for 20 seconds and then stopped for a few minutes, over and over again all day long. For me, It isnt pain that will make you drop, its more like a nuisance, almost as if you are walking and randomly one of your steps sends a sharp pain through your foot and stops. This was really long because its just so difficult to explain the sensation. And especially if you havent experienced it before, its almost alien.   In conclusion - the most similar thing I can compare it to is a cramp I can very much confirm that I am not a girl lol Both hands 1. Im in The UK. its completely free. Every bit of the it.   2. No, its the same weight as a normal leg, but the only difference is, it feels heavier because its an attachment as opposed to a part of your body, you dont have muscles wrapped around the metal of your prosthesis so it feels heavier and all the muscle is in the socket as opposed to down the entire leg like normal As Ive already stated. Im missing both my pinkies Ive never actually been bullied.  And the simpsons is one of my favourite cartoons. Perhaps  Wowwww So inspiration I had honestly never heard of this one Well Im in a relationship that's lasted over a year, and i know you are also curious about the \"other\" aspect of romance, 16 is age of consent in my country, \"that\" isn't affected by my disabilities at all. It's as close as it can get to normal.   One thing that has changed is that since I had my amputation, I've become alot more confident and social, because I realised that at this point, I'm never going to fit in without being noticed, so I need to stop hiding and just embrace my life. Ive been able to make a lot more friends and seriously improve social skills, plus its something to talk about. So yeah, I guess you can say its different, but in a positive way Going up and down hillls is marginally easier on my ptoethetic because I don't have an ankle which I need to tense and tire. Seems silly but it really is nice, it's like hills turn into light stairs since my foot is in a firm position It was an elective surgery. I suggested the idea without any 3rd party influence. I knew what I needed to improve my life, did my research, brought it up with my consultant and then got the green light to go ahead with it. If I hadnt had gone and had it, the doctors would have kept me on the experimental route, Im all for innovation but I dont want to be a guinea pig for still in development methods for the condition I had, since it was guaranteed more pain than it was worth.   When I woke up, I initially thought they got the wrong leg lol. I was highhhhh, very high. But I wasnt in pain. Even after the anaesthetic wore off. It was a surreal experience. For the first 2 nights my legs were covered under a blanket so I waited in anticipation to see whether they had actually got the wrong leg or not as I couldnt really sit up since the blood rush hit like a truck. But I didnt regret it once if thats what youre wondering. Sadly not. But I have a hybrid foot, meaning my foot is built for walking and moderate running. So Im pretty much set with that My hobbies - music, tech and gaming.   Music - Im a bassist, I slap, i funk, and I metal. Bass is one of my favourite instruments ever, I picked it up 2 years ago and self taught it using knowledge from my prior guitar lessons.   Tech - Im fairly new to programming but am getting the hang of it very well, but I have a very good set of skills and knowledge when it comes to hardware repair and troubleshooting devices. I used to repair phones I would find at dumpsites, some barely in tact, I just love tinkering and seeing how things work and then being able to repair them.   Gaming - I have met some of my closest friends through gaming. Its connected me with thousands of people all around the world, Im pretty much set for life with the friends Ive made, I have someone I trust with my life in every country almost. Sorry for late reply - nope, the only thing which is slightly harder for me is sitting hours in cars but thats only because my knee cant bend more than 90* since the prosthetic takes up movement space and when Im in the back of a car, my legs are cramped in a way that my prosthesis digs into the back of my knee and limits blood flow so I get pins and needles No lol. People dont realise just how important having hands and fingers really are. My prosthetic leg is as much a real leg as yours, I have no complaints about it. Whilst it would be cool having 2 legs, I wouldnt sacrifice my fingers for it Yes. Very positively. I now can actually live a live without having to stop for breaks whilst walking, I can go places Ive never been before and do things I struggled to do before. I basically just unlocked living and have 0 regrets Funnily enough piano is like the only stringed instrument im not very good at. Anything fretted (i.e bass, guitar, violin at a stretch) I can play perfectly, but Ive never really tried on piano because my hand stretch is only about 16 cm from thumb to end finger. I might reconsider it but Im pretty content on bass and guitar I dont know how to explain it. Im a touch Typer. I dont look at my keyboard when typing. I can be blindfolded and maybe get 2 letters wrong but still be at top speed. I use standard qwerty keyboards. I prioritise my middle and index fingers when typing, usually my hands are stationary as I have good coverage on keyboards so I dont have to move about. So imagine standard 10 finger touch typing but without use of pinky Best Ive ever been. Im about 1 year and 5 months post amputation and since about 6 months post Op, I was already running. It doesnt affect me At ALL, I walk faster and more fluently than most and can run at a decent but yet to be improved pace. Phantom pains stopped about a year ago and apart from that, Ive had 0 problems with my leg.  I can do so much more then I was able too before amputation Im one of the fastest in my school. As ridiculous as it sounds Im sure, I am honestly a very quick and accurate typer and even surprise myself sometimes. I dont have programmers fingers but im still above average in that aspect. Typing is something I do basically everywhere. I use laptops in class, in exams, on my phone and at home. I can write with pen and pencil but my handwriting is horrendous, thats unrelated to my fingers Was just laughing at people who have 2 legs because they dont know how awesome it is to be able to karate kick lamp posts and not have any repercussions On my right hand, I was just born without one, however on my left hand, if you look closely you will notice my furthest-from-thumb finger looks weird, and thats because I did have a 5th finger, but it grew out of my other finger like a cactus so it was amputated as a very young age, my finger doesnt have a middle join because of it, only finger tip and knuckle joint since middle one is fused as thats where the other finger grew from I had a condition called fibula hemimelia, which means that I was born without my fibula, and because of it, my leg growth was very stunted, due to a botched surgery when I was a baby, my hamstring shrunk and my ankle fused is a contracted position, so my foot was the equivalent of a golf club, I had no ankle movement. Because of all this, my leg grew very poorly, and it was 6cm shorter than my right leg.  In 2015 I had a leg lengthening procedure done which is where they cut my tibia and ankle through and fitted an [ilisarof frame] on my leg, the idea is that for the period of 10 months, I would widen the gap between the cut bones and allow bone to grow in the gap, thus lengthening the leg. It was a long and painful process, and unfortunately, whilst it did lengthen my leg, it also made my foot unbearable to deal with, so 4 years after I had that done, I decided enough was enough and requested amputation, honestly it was the best choice I made. I have those vans! He reminds me of john coffee from the green mile and I have no idea why Solved! Doesnt matter if it was done 60 years ago. The aim is to make space travel normalised and affordable. Its not just see it once and never go again, as tech advances, it will be natural that we go further out, and space x, nasa and all the other companies just help speed the research and development towards that. I know this is a joke, but can I ask what game you are referring to? I know war thunder and world of warplanes but they get pretty repetitive quickly, so was wondering if there were any other aviation games more based on a bombing aspect I wear socks, sometimes my foot squeaks when I go bare prosthetic and wear shoes, its a pain tho because give it a week and my prosthetic would have made a gaping hole in the sock, and also I prefer having a sock on my prosthetic when walking without shoes, I find the rubber to have way to much traction, I like being able to glide or drag my foot across the floor like what people do when they are bored.Ohh lol. It wouldnt be a hidden secret if I said yes Im not too sure what you mean, can you elaborate? Yes I like to swim, no I dont swim with a leg on.   And yeah I have crutches spare, but they havent been touched in months I wear my leg pretty much 24/7. Only take it off when sleeping, showering  or swimming. But I dont have any issues doing it in front of people. Im not too sure what games are my current favourite, I havent played anything in quite a while truth truth be told. I played among us with a few of my class mates and that was cool Not really. Its more that I smile every time I see a 4 fingered cartoon and make jokes about how Im the ideal human since most characters and portrayed in the same way as me All good lol, just found it funny how reddit cropped my preview image so you cant really see features. Ill let you off this time, but dont let it happen again, yes that is a threat. This is a weird one. Its really hard to describe the feeling as its not a universal feeling, and each person perceives it differently, phantom pains for me were quite good. I only suffered from them frequently in the first 2 months post op, they would happen every couple of minutes, however, as of today, I havent had a phantom pain in over 4 months. The best way to describe them? Imagine youve been walking all day long, climbing steep hills, and then had to go to the gym and focus on your legs, that feeling of pain and strain after the end of the day thats left in your ankle and lower leg, the way to describe phantoms is that feeling but someone is forcing you to tense your sore muscles as hard as you can, and its localised (for me) entirely in your ankle area. The pain pulsates in a way, when I had them frequent, they happened for 20 seconds and then stopped for a few minutes, over and over again all day long. For me, It isnt pain that will make you drop, its more like a nuisance, almost as if you are walking and randomly one of your steps sends a sharp pain through your foot and stops. This was really long because its just so difficult to explain the sensation. And especially if you havent experienced it before, its almost alien.   In conclusion - the most similar thing I can compare it to is a cramp I can very much confirm that I am not a girl lol Both hands 1. Im in The UK. its completely free. Every bit of the it.   2. No, its the same weight as a normal leg, but the only difference is, it feels heavier because its an attachment as opposed to a part of your body, you dont have muscles wrapped around the metal of your prosthesis so it feels heavier and all the muscle is in the socket as opposed to down the entire leg like normal As Ive already stated. Im missing both my pinkies Ive never actually been bullied.  And the simpsons is one of my favourite cartoons. Perhaps  Wowwww So inspiration I had honestly never heard of this one Well Im in a relationship that's lasted over a year, and i know you are also curious about the \"other\" aspect of romance, 16 is age of consent in my country, \"that\" isn't affected by my disabilities at all. It's as close as it can get to normal.   One thing that has changed is that since I had my amputation, I've become alot more confident and social, because I realised that at this point, I'm never going to fit in without being noticed, so I need to stop hiding and just embrace my life. Ive been able to make a lot more friends and seriously improve social skills, plus its something to talk about. So yeah, I guess you can say its different, but in a positive way Going up and down hillls is marginally easier on my ptoethetic because I don't have an ankle which I need to tense and tire. Seems silly but it really is nice, it's like hills turn into light stairs since my foot is in a firm position It was an elective surgery. I suggested the idea without any 3rd party influence. I knew what I needed to improve my life, did my research, brought it up with my consultant and then got the green light to go ahead with it. If I hadnt had gone and had it, the doctors would have kept me on the experimental route, Im all for innovation but I dont want to be a guinea pig for still in development methods for the condition I had, since it was guaranteed more pain than it was worth.   When I woke up, I initially thought they got the wrong leg lol. I was highhhhh, very high. But I wasnt in pain. Even after the anaesthetic wore off. It was a surreal experience. For the first 2 nights my legs were covered under a blanket so I waited in anticipation to see whether they had actually got the wrong leg or not as I couldnt really sit up since the blood rush hit like a truck. But I didnt regret it once if thats what youre wondering. Sadly not. But I have a hybrid foot, meaning my foot is built for walking and moderate running. So Im pretty much set with that My hobbies - music, tech and gaming.   Music - Im a bassist, I slap, i funk, and I metal. Bass is one of my favourite instruments ever, I picked it up 2 years ago and self taught it using knowledge from my prior guitar lessons.   Tech - Im fairly new to programming but am getting the hang of it very well, but I have a very good set of skills and knowledge when it comes to hardware repair and troubleshooting devices. I used to repair phones I would find at dumpsites, some barely in tact, I just love tinkering and seeing how things work and then being able to repair them.   Gaming - I have met some of my closest friends through gaming. Its connected me with thousands of people all around the world, Im pretty much set for life with the friends Ive made, I have someone I trust with my life in every country almost. Sorry for late reply - nope, the only thing which is slightly harder for me is sitting hours in cars but thats only because my knee cant bend more than 90* since the prosthetic takes up movement space and when Im in the back of a car, my legs are cramped in a way that my prosthesis digs into the back of my knee and limits blood flow so I get pins and needles No lol. People dont realise just how important having hands and fingers really are. My prosthetic leg is as much a real leg as yours, I have no complaints about it. Whilst it would be cool having 2 legs, I wouldnt sacrifice my fingers for it Yes. Very positively. I now can actually live a live without having to stop for breaks whilst walking, I can go places Ive never been before and do things I struggled to do before. I basically just unlocked living and have 0 regrets Funnily enough piano is like the only stringed instrument im not very good at. Anything fretted (i.e bass, guitar, violin at a stretch) I can play perfectly, but Ive never really tried on piano because my hand stretch is only about 16 cm from thumb to end finger. I might reconsider it but Im pretty content on bass and guitar I dont know how to explain it. Im a touch Typer. I dont look at my keyboard when typing. I can be blindfolded and maybe get 2 letters wrong but still be at top speed. I use standard qwerty keyboards. I prioritise my middle and index fingers when typing, usually my hands are stationary as I have good coverage on keyboards so I dont have to move about. So imagine standard 10 finger touch typing but without use of pinky Best Ive ever been. Im about 1 year and 5 months post amputation and since about 6 months post Op, I was already running. It doesnt affect me At ALL, I walk faster and more fluently than most and can run at a decent but yet to be improved pace. Phantom pains stopped about a year ago and apart from that, Ive had 0 problems with my leg.  I can do so much more then I was able too before amputation Im one of the fastest in my school. As ridiculous as it sounds Im sure, I am honestly a very quick and accurate typer and even surprise myself sometimes. I dont have programmers fingers but im still above average in that aspect. Typing is something I do basically everywhere. I use laptops in class, in exams, on my phone and at home. I can write with pen and pencil but my handwriting is horrendous, thats unrelated to my fingers Was just laughing at people who have 2 legs because they dont know how awesome it is to be able to karate kick lamp posts and not have any repercussions On my right hand, I was just born without one, however on my left hand, if you look closely you will notice my furthest-from-thumb finger looks weird, and thats because I did have a 5th finger, but it grew out of my other finger like a cactus so it was amputated as a very young age, my finger doesnt have a middle join because of it, only finger tip and knuckle joint since middle one is fused as thats where the other finger grew from I had a condition called fibula hemimelia, which means that I was born without my fibula, and because of it, my leg growth was very stunted, due to a botched surgery when I was a baby, my hamstring shrunk and my ankle fused is a contracted position, so my foot was the equivalent of a golf club, I had no ankle movement. Because of all this, my leg grew very poorly, and it was 6cm shorter than my right leg.  In 2015 I had a leg lengthening procedure done which is where they cut my tibia and ankle through and fitted an [ilisarof frame] on my leg, the idea is that for the period of 10 months, I would widen the gap between the cut bones and allow bone to grow in the gap, thus lengthening the leg. It was a long and painful process, and unfortunately, whilst it did lengthen my leg, it also made my foot unbearable to deal with, so 4 years after I had that done, I decided enough was enough and requested amputation, honestly it was the best choice I made. I have those vans! He reminds me of john coffee from the green mile and I have no idea why Solved! Doesnt matter if it was done 60 years ago. The aim is to make space travel normalised and affordable. Its not just see it once and never go again, as tech advances, it will be natural that we go further out, and space x, nasa and all the other companies just help speed the research and development towards that. I know this is a joke, but can I ask what game you are referring to? I know war thunder and world of warplanes but they get pretty repetitive quickly, so was wondering if there were any other aviation games more based on a bombing aspect I wear socks, sometimes my foot squeaks when I go bare prosthetic and wear shoes, its a pain tho because give it a week and my prosthetic would have made a gaping hole in the sock, and also I prefer having a sock on my prosthetic when walking without shoes, I find the rubber to have way to much traction, I like being able to glide or drag my foot across the floor like what people do when they are bored.\n"
     ]
    }
   ],
   "source": [
    "# This cell deals with reformatting of the comment-array input.\n",
    "\n",
    "# Concatinates all the comments into one sample of the Redditor's writing (string object).\n",
    "writing_sample = ' '.join(comment_list)\n",
    "\n",
    "# Remove new line\n",
    "writing_sample = writing_sample.replace('\\n', \" \")\n",
    "\n",
    "# Removing all non-ASCII letters\n",
    "writing_sample = writing_sample.encode(\"ascii\", \"ignore\").decode()\n",
    "\n",
    "# Remove URLs from comments\n",
    "writing_sample = re.sub(r'\\(https?:\\/\\/.*?\\)', '', writing_sample)\n",
    "\n",
    "print(writing_sample)\n",
    "\n",
    "# Now, we need to check for instances of elipses and assign them to a new symbol--less confusion with periods, easier analysis.\n",
    "# The tilde will represent an elipse from here on out.\n",
    "writing_sample = writing_sample.replace('...', '~')\n",
    "\n",
    "\n",
    "# We will loop over every character in the string and extract the punctuation, appending each mark to a list.\n",
    "# We will keep this punctuation sequence in both list and string form for further analysis.\n",
    "marks = ['.',',',':',';','?','!','-','(',')','\"',\"'\",'~']\n",
    "marks_str = ''.join(map(str, marks))\n",
    "\n",
    "punct_list = []\n",
    "\n",
    "for character in writing_sample:\n",
    "    if character in marks:\n",
    "        punct_list.append(character)\n",
    "      \n",
    "punct_str = ''.join(punct_list)\n",
    "\n",
    "# Now, we want to get our input in the following format..[2, '!', 3, '.'].\n",
    "split_by_punc = (x.split() for x in re.split('[' + punctuation + ']', writing_sample))\n",
    "wrds_btwn = list(map(len, split_by_punc))\n",
    "woven = list(chain.from_iterable(zip(wrds_btwn, punct_list)))"
   ]
  },
  {
   "cell_type": "code",
   "execution_count": 109,
   "metadata": {
    "collapsed": true
   },
   "outputs": [],
   "source": [
    "# Generation of F1, relative frequency of each punctuation mark of interest.\n",
    "num_period = punct_str.count('.')\n",
    "num_comma = punct_str.count(',')\n",
    "num_colon = punct_str.count(':')\n",
    "num_semicol = punct_str.count(';')\n",
    "num_question = punct_str.count('?')\n",
    "num_exclaim = punct_str.count('!')\n",
    "num_dash = punct_str.count('-')\n",
    "num_left_paren = punct_str.count('(')\n",
    "num_right_paren = punct_str.count(')')\n",
    "num_sing_quote = punct_str.count(\"'\")\n",
    "num_doub_quote = punct_str.count('\"')\n",
    "num_elipse = punct_str.count('~')\n",
    "\n",
    "mark_counts = [num_period, num_comma, num_colon, num_semicol, num_question, num_exclaim, num_dash, num_left_paren, num_right_paren, num_sing_quote, num_doub_quote, num_elipse] \n",
    "F1 = [x / len(punct_list) for x in mark_counts]"
   ]
  },
  {
   "cell_type": "code",
   "execution_count": 131,
   "metadata": {
    "collapsed": true
   },
   "outputs": [],
   "source": [
    "# Generation of F2 and F3, conditional/joint probability of observing two punctuation marks in succession.\n",
    "F2_dict = {}\n",
    "F3_dict = {}\n",
    "successive_pairs = []\n",
    "combos = list(itertools.product(marks_str, marks_str))\n",
    "\n",
    "for i in combos:\n",
    "    successive_pairs.append(''.join(i))\n",
    "\n",
    "for pair in successive_pairs:\n",
    "    numerator = punct_str.count(pair)\n",
    "    denominator = punct_str.count(pair[0])\n",
    "    \n",
    "    if numerator != 0:\n",
    "        F2_dict['Conditional Prob' + ' ' + pair + ' '] = (numerator/denominator)\n",
    "        F3_dict['Joint Prob' + ' ' + pair + ' '] = (numerator/len(punct_list))\n",
    "    else:\n",
    "        F2_dict['Conditional Prob' + ' ' + pair + ' '] = 0\n",
    "        F3_dict['Joint Prob' + ' ' + pair + ' '] = 0"
   ]
  },
  {
   "cell_type": "code",
   "execution_count": 97,
   "metadata": {
    "collapsed": true
   },
   "outputs": [],
   "source": [
    "# Generation of f4, redditor's average sentence length in words.\n",
    "sent_lens = []\n",
    "regex = \"\\w+('\\w+)?(?<!('s))\"\n",
    "sentences = split_into_sentences(writing_sample)\n",
    "\n",
    "for sentence in sentences:\n",
    "    sent_lens.append(len(re.findall(regex, sentence)))\n",
    "    \n",
    "f4 = mean(sent_lens)\n",
    "\n",
    "# f4 as a probability distribution of sentence length--as it is in Darmon's work.\n",
    "# Cap sentence length at 199 words.\n",
    "F4 = [0]*200\n",
    "\n",
    "for i in sent_lens:\n",
    "    F4[i] += 1\n",
    "    \n",
    "F4 = [x / len(sent_lens) for x in F4]"
   ]
  },
  {
   "cell_type": "code",
   "execution_count": 101,
   "metadata": {
    "collapsed": true
   },
   "outputs": [],
   "source": [
    "# Generation of f5, redditor's average number of words between successive punctuation marks.\n",
    "f5 = mean(wrds_btwn)\n",
    "\n",
    "# f5 as a probability distribution of number of words between successive marks--as it is in Darmon's work.\n",
    "# Cap number of in-between words at 39.\n",
    "F5 = [0]*40\n",
    "\n",
    "for i in wrds_btwn:\n",
    "    F5[i] += 1\n",
    "    \n",
    "F5 = [x / len(wrds_btwn) for x in F5]"
   ]
  },
  {
   "cell_type": "code",
   "execution_count": 85,
   "metadata": {
    "collapsed": true
   },
   "outputs": [],
   "source": [
    "# Generation of f6, ratio of punctuation to words.\n",
    "total_punc = len(punct_list)\n",
    "total_words = len(re.findall(regex, writing_sample))\n",
    "\n",
    "f6 = total_punc/total_words"
   ]
  },
  {
   "cell_type": "code",
   "execution_count": 146,
   "metadata": {},
   "outputs": [
    {
     "ename": "TypeError",
     "evalue": "cannot concatenate a non-NDFrame object",
     "output_type": "error",
     "traceback": [
      "\u001b[0;31m---------------------------------------------------------------------------\u001b[0m",
      "\u001b[0;31mTypeError\u001b[0m                                 Traceback (most recent call last)",
      "\u001b[0;32m<ipython-input-146-ab3ec045964d>\u001b[0m in \u001b[0;36m<module>\u001b[0;34m()\u001b[0m\n\u001b[1;32m     11\u001b[0m \u001b[0;31m#dataset = pd.DataFrame(master, index=[0])\u001b[0m\u001b[0;34m\u001b[0m\u001b[0;34m\u001b[0m\u001b[0m\n\u001b[1;32m     12\u001b[0m \u001b[0mdataset\u001b[0m \u001b[0;34m=\u001b[0m \u001b[0mpd\u001b[0m\u001b[0;34m.\u001b[0m\u001b[0mDataFrame\u001b[0m\u001b[0;34m(\u001b[0m\u001b[0mcolumns\u001b[0m \u001b[0;34m=\u001b[0m \u001b[0mmaster\u001b[0m\u001b[0;34m.\u001b[0m\u001b[0mkeys\u001b[0m\u001b[0;34m(\u001b[0m\u001b[0;34m)\u001b[0m\u001b[0;34m)\u001b[0m\u001b[0;34m\u001b[0m\u001b[0m\n\u001b[0;32m---> 13\u001b[0;31m \u001b[0mdataset\u001b[0m\u001b[0;34m.\u001b[0m\u001b[0mappend\u001b[0m\u001b[0;34m(\u001b[0m\u001b[0mmaster\u001b[0m\u001b[0;34m.\u001b[0m\u001b[0mvalues\u001b[0m\u001b[0;34m(\u001b[0m\u001b[0;34m)\u001b[0m\u001b[0;34m)\u001b[0m\u001b[0;34m\u001b[0m\u001b[0m\n\u001b[0m",
      "\u001b[0;32m/Users/genevieverowe/anaconda/lib/python3.6/site-packages/pandas/core/frame.py\u001b[0m in \u001b[0;36mappend\u001b[0;34m(self, other, ignore_index, verify_integrity)\u001b[0m\n\u001b[1;32m   4643\u001b[0m             \u001b[0mto_concat\u001b[0m \u001b[0;34m=\u001b[0m \u001b[0;34m[\u001b[0m\u001b[0mself\u001b[0m\u001b[0;34m,\u001b[0m \u001b[0mother\u001b[0m\u001b[0;34m]\u001b[0m\u001b[0;34m\u001b[0m\u001b[0m\n\u001b[1;32m   4644\u001b[0m         return concat(to_concat, ignore_index=ignore_index,\n\u001b[0;32m-> 4645\u001b[0;31m                       verify_integrity=verify_integrity)\n\u001b[0m\u001b[1;32m   4646\u001b[0m \u001b[0;34m\u001b[0m\u001b[0m\n\u001b[1;32m   4647\u001b[0m     def join(self, other, on=None, how='left', lsuffix='', rsuffix='',\n",
      "\u001b[0;32m/Users/genevieverowe/anaconda/lib/python3.6/site-packages/pandas/core/reshape/concat.py\u001b[0m in \u001b[0;36mconcat\u001b[0;34m(objs, axis, join, join_axes, ignore_index, keys, levels, names, verify_integrity, copy)\u001b[0m\n\u001b[1;32m    204\u001b[0m                        \u001b[0mkeys\u001b[0m\u001b[0;34m=\u001b[0m\u001b[0mkeys\u001b[0m\u001b[0;34m,\u001b[0m \u001b[0mlevels\u001b[0m\u001b[0;34m=\u001b[0m\u001b[0mlevels\u001b[0m\u001b[0;34m,\u001b[0m \u001b[0mnames\u001b[0m\u001b[0;34m=\u001b[0m\u001b[0mnames\u001b[0m\u001b[0;34m,\u001b[0m\u001b[0;34m\u001b[0m\u001b[0m\n\u001b[1;32m    205\u001b[0m                        \u001b[0mverify_integrity\u001b[0m\u001b[0;34m=\u001b[0m\u001b[0mverify_integrity\u001b[0m\u001b[0;34m,\u001b[0m\u001b[0;34m\u001b[0m\u001b[0m\n\u001b[0;32m--> 206\u001b[0;31m                        copy=copy)\n\u001b[0m\u001b[1;32m    207\u001b[0m     \u001b[0;32mreturn\u001b[0m \u001b[0mop\u001b[0m\u001b[0;34m.\u001b[0m\u001b[0mget_result\u001b[0m\u001b[0;34m(\u001b[0m\u001b[0;34m)\u001b[0m\u001b[0;34m\u001b[0m\u001b[0m\n\u001b[1;32m    208\u001b[0m \u001b[0;34m\u001b[0m\u001b[0m\n",
      "\u001b[0;32m/Users/genevieverowe/anaconda/lib/python3.6/site-packages/pandas/core/reshape/concat.py\u001b[0m in \u001b[0;36m__init__\u001b[0;34m(self, objs, axis, join, join_axes, keys, levels, names, ignore_index, verify_integrity, copy)\u001b[0m\n\u001b[1;32m    261\u001b[0m         \u001b[0;32mfor\u001b[0m \u001b[0mobj\u001b[0m \u001b[0;32min\u001b[0m \u001b[0mobjs\u001b[0m\u001b[0;34m:\u001b[0m\u001b[0;34m\u001b[0m\u001b[0m\n\u001b[1;32m    262\u001b[0m             \u001b[0;32mif\u001b[0m \u001b[0;32mnot\u001b[0m \u001b[0misinstance\u001b[0m\u001b[0;34m(\u001b[0m\u001b[0mobj\u001b[0m\u001b[0;34m,\u001b[0m \u001b[0mNDFrame\u001b[0m\u001b[0;34m)\u001b[0m\u001b[0;34m:\u001b[0m\u001b[0;34m\u001b[0m\u001b[0m\n\u001b[0;32m--> 263\u001b[0;31m                 \u001b[0;32mraise\u001b[0m \u001b[0mTypeError\u001b[0m\u001b[0;34m(\u001b[0m\u001b[0;34m\"cannot concatenate a non-NDFrame object\"\u001b[0m\u001b[0;34m)\u001b[0m\u001b[0;34m\u001b[0m\u001b[0m\n\u001b[0m\u001b[1;32m    264\u001b[0m \u001b[0;34m\u001b[0m\u001b[0m\n\u001b[1;32m    265\u001b[0m             \u001b[0;31m# consolidate\u001b[0m\u001b[0;34m\u001b[0m\u001b[0;34m\u001b[0m\u001b[0m\n",
      "\u001b[0;31mTypeError\u001b[0m: cannot concatenate a non-NDFrame object"
     ]
    }
   ],
   "source": [
    "# Output to dataframe.\n",
    "# An uppercase F signals that the feature was mimicked directly from Darmon's work.\n",
    "F1_dict_keys = ['Period Freq', 'Comma Freq', 'Colon Freq', 'Semicol Freq', 'Question Freq', 'Exclaim Freq', 'Dash Freq', 'L. Paren Freq', 'R. Paren Freq', 'S. Quote Freq', 'D. Quote Freq', 'Elipse Freq']\n",
    "F1_dict = {F1_dict_keys[i]: F1[i] for i in range(len(F1_dict_keys))} \n",
    "\n",
    "F4_dict = {'Prob Sentence Len:' + ' ' + str(i): F4[i] for i in range(len(F4))}\n",
    "F5_dict = {'Prob' + ' ' + str(i) + ' ' + 'Words Between Punc': F5[i] for i in range(len(F5))}\n",
    "\n",
    "# Concatinate all the keys into a single list.\n",
    "master = {**F1_dict, **F2_dict, **F3_dict, **F4_dict, **F5_dict}\n",
    "#dataset = pd.DataFrame(master, index=[0])\n",
    "dataset = pd.DataFrame(columns = master.keys())\n",
    "dataset.append(master.values())\n"
   ]
  },
  {
   "cell_type": "code",
   "execution_count": 145,
   "metadata": {},
   "outputs": [
    {
     "data": {
      "text/html": [
       "<div>\n",
       "<style>\n",
       "    .dataframe thead tr:only-child th {\n",
       "        text-align: right;\n",
       "    }\n",
       "\n",
       "    .dataframe thead th {\n",
       "        text-align: left;\n",
       "    }\n",
       "\n",
       "    .dataframe tbody tr th {\n",
       "        vertical-align: top;\n",
       "    }\n",
       "</style>\n",
       "<table border=\"1\" class=\"dataframe\">\n",
       "  <thead>\n",
       "    <tr style=\"text-align: right;\">\n",
       "      <th></th>\n",
       "      <th>Period Freq</th>\n",
       "      <th>Comma Freq</th>\n",
       "      <th>Colon Freq</th>\n",
       "      <th>Semicol Freq</th>\n",
       "      <th>Question Freq</th>\n",
       "      <th>Exclaim Freq</th>\n",
       "      <th>Dash Freq</th>\n",
       "      <th>L. Paren Freq</th>\n",
       "      <th>R. Paren Freq</th>\n",
       "      <th>S. Quote Freq</th>\n",
       "      <th>...</th>\n",
       "      <th>Prob 30 Words Between Punc</th>\n",
       "      <th>Prob 31 Words Between Punc</th>\n",
       "      <th>Prob 32 Words Between Punc</th>\n",
       "      <th>Prob 33 Words Between Punc</th>\n",
       "      <th>Prob 34 Words Between Punc</th>\n",
       "      <th>Prob 35 Words Between Punc</th>\n",
       "      <th>Prob 36 Words Between Punc</th>\n",
       "      <th>Prob 37 Words Between Punc</th>\n",
       "      <th>Prob 38 Words Between Punc</th>\n",
       "      <th>Prob 39 Words Between Punc</th>\n",
       "    </tr>\n",
       "  </thead>\n",
       "  <tbody>\n",
       "  </tbody>\n",
       "</table>\n",
       "<p>0 rows × 540 columns</p>\n",
       "</div>"
      ],
      "text/plain": [
       "Empty DataFrame\n",
       "Columns: [Period Freq, Comma Freq, Colon Freq, Semicol Freq, Question Freq, Exclaim Freq, Dash Freq, L. Paren Freq, R. Paren Freq, S. Quote Freq, D. Quote Freq, Elipse Freq, Conditional Prob .. , Conditional Prob ., , Conditional Prob .: , Conditional Prob .; , Conditional Prob .? , Conditional Prob .! , Conditional Prob .- , Conditional Prob .( , Conditional Prob .) , Conditional Prob .\" , Conditional Prob .' , Conditional Prob .~ , Conditional Prob ,. , Conditional Prob ,, , Conditional Prob ,: , Conditional Prob ,; , Conditional Prob ,? , Conditional Prob ,! , Conditional Prob ,- , Conditional Prob ,( , Conditional Prob ,) , Conditional Prob ,\" , Conditional Prob ,' , Conditional Prob ,~ , Conditional Prob :. , Conditional Prob :, , Conditional Prob :: , Conditional Prob :; , Conditional Prob :? , Conditional Prob :! , Conditional Prob :- , Conditional Prob :( , Conditional Prob :) , Conditional Prob :\" , Conditional Prob :' , Conditional Prob :~ , Conditional Prob ;. , Conditional Prob ;, , Conditional Prob ;: , Conditional Prob ;; , Conditional Prob ;? , Conditional Prob ;! , Conditional Prob ;- , Conditional Prob ;( , Conditional Prob ;) , Conditional Prob ;\" , Conditional Prob ;' , Conditional Prob ;~ , Conditional Prob ?. , Conditional Prob ?, , Conditional Prob ?: , Conditional Prob ?; , Conditional Prob ?? , Conditional Prob ?! , Conditional Prob ?- , Conditional Prob ?( , Conditional Prob ?) , Conditional Prob ?\" , Conditional Prob ?' , Conditional Prob ?~ , Conditional Prob !. , Conditional Prob !, , Conditional Prob !: , Conditional Prob !; , Conditional Prob !? , Conditional Prob !! , Conditional Prob !- , Conditional Prob !( , Conditional Prob !) , Conditional Prob !\" , Conditional Prob !' , Conditional Prob !~ , Conditional Prob -. , Conditional Prob -, , Conditional Prob -: , Conditional Prob -; , Conditional Prob -? , Conditional Prob -! , Conditional Prob -- , Conditional Prob -( , Conditional Prob -) , Conditional Prob -\" , Conditional Prob -' , Conditional Prob -~ , Conditional Prob (. , Conditional Prob (, , Conditional Prob (: , Conditional Prob (; , ...]\n",
       "Index: []\n",
       "\n",
       "[0 rows x 540 columns]"
      ]
     },
     "execution_count": 145,
     "metadata": {},
     "output_type": "execute_result"
    }
   ],
   "source": [
    "dataset"
   ]
  },
  {
   "cell_type": "code",
   "execution_count": null,
   "metadata": {
    "collapsed": true
   },
   "outputs": [],
   "source": []
  },
  {
   "cell_type": "code",
   "execution_count": null,
   "metadata": {
    "collapsed": true
   },
   "outputs": [],
   "source": []
  },
  {
   "cell_type": "code",
   "execution_count": null,
   "metadata": {
    "collapsed": true
   },
   "outputs": [],
   "source": []
  },
  {
   "cell_type": "code",
   "execution_count": null,
   "metadata": {
    "collapsed": true
   },
   "outputs": [],
   "source": []
  },
  {
   "cell_type": "code",
   "execution_count": null,
   "metadata": {
    "collapsed": true
   },
   "outputs": [],
   "source": []
  }
 ],
 "metadata": {
  "kernelspec": {
   "display_name": "Python 3",
   "language": "python",
   "name": "python3"
  },
  "language_info": {
   "codemirror_mode": {
    "name": "ipython",
    "version": 3
   },
   "file_extension": ".py",
   "mimetype": "text/x-python",
   "name": "python",
   "nbconvert_exporter": "python",
   "pygments_lexer": "ipython3",
   "version": "3.7.6"
  }
 },
 "nbformat": 4,
 "nbformat_minor": 2
}
