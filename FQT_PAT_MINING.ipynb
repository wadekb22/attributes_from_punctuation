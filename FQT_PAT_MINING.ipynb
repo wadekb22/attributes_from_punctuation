{
 "cells": [
  {
   "cell_type": "code",
   "execution_count": 40,
   "metadata": {},
   "outputs": [],
   "source": [
    "import re\n",
    "import string\n",
    "import pandas as pd\n",
    "from tqdm import tqdm_notebook as tqdm\n",
    "from mlxtend.frequent_patterns import fpgrowth\n",
    "from mlxtend.preprocessing import TransactionEncoder"
   ]
  },
  {
   "cell_type": "code",
   "execution_count": 41,
   "metadata": {
    "collapsed": true
   },
   "outputs": [],
   "source": [
    "# Define our dictionary for punctuation to word conversion\n",
    "\n",
    "marks = ['.',',',':',';','?','!','-','(',')','\"',\"'\",'~']\n",
    "marks_to_wrds = {' prd ': '.', ' cmma ': ',', ' coln ': ':', ' smicln ': ';', ' qstn ': '?', ' xclm ': '!', ' dsh ': '-', ' lftparen ': '(', ' rghtparen ': ')', ' dblqt ': '\"', ' snglqt ': \"'\", ' elpss ': '~'}"
   ]
  },
  {
   "cell_type": "code",
   "execution_count": 42,
   "metadata": {
    "collapsed": true
   },
   "outputs": [],
   "source": [
    "def pre_fp(df):\n",
    "    \n",
    "    # Concatinate all the comments into one long string.\n",
    "    concat_all_comments = ' '.join(df[\"text\"])\n",
    "    punc_words = marks_to_wrds.keys()\n",
    "    \n",
    "    transactions = []\n",
    "    fqt_pat_sample = concat_all_comments\n",
    "\n",
    "    for character in tqdm(fqt_pat_sample, desc = 'Character Loop'):\n",
    "        if character in marks:\n",
    "            fqt_pat_sample = fqt_pat_sample.replace(character, list(marks_to_wrds.keys())[list(marks_to_wrds.values()).index(character)])\n",
    "\n",
    "    wrd_pos = 0\n",
    "    \n",
    "    # Remove all remaining punctuation from fqt_pat_sample.\n",
    "    fqt_pat_sample = fqt_pat_sample.translate(str.maketrans('','', string.punctuation))\n",
    "    fqt_pat_sample_split = fqt_pat_sample.split()\n",
    "    \n",
    "    for word in tqdm(fqt_pat_sample_split, desc = 'Word Loop'):\n",
    "        grab_three = []\n",
    "        word_formatted = ' ' + word + ' '\n",
    "        if word_formatted in punc_words:\n",
    "            if wrd_pos >= 3:\n",
    "                grab_three.append(fqt_pat_sample_split[wrd_pos - 3])\n",
    "                grab_three.append(fqt_pat_sample_split[wrd_pos - 2])\n",
    "                grab_three.append(fqt_pat_sample_split[wrd_pos - 1])\n",
    "                grab_three.append(fqt_pat_sample_split[wrd_pos])\n",
    "            \n",
    "                transactions.append(grab_three) \n",
    "        wrd_pos += 1\n",
    "        \n",
    "    return transactions"
   ]
  },
  {
   "cell_type": "code",
   "execution_count": 43,
   "metadata": {
    "collapsed": true
   },
   "outputs": [],
   "source": [
    "def get_fp(transactions, min_sup = 0.05):\n",
    "    \n",
    "    # Put the transactions into dataframe form, this allows us to perform FPgrowth on the resultant dataframe.\n",
    "    te = TransactionEncoder()\n",
    "    te_transformed = te.fit(transactions).transform(transactions)\n",
    "    df = pd.DataFrame(te_transformed, columns = te.columns_)\n",
    "\n",
    "    # Apply FPgrowth to the transactional dataframe.\n",
    "    freq_pats = fpgrowth(df, min_support = min_sup, use_colnames = True)\n",
    "    return freq_pats"
   ]
  },
  {
   "cell_type": "code",
   "execution_count": 44,
   "metadata": {},
   "outputs": [],
   "source": [
    "# Reading in the data.\n",
    "\n",
    "samp = pd.read_csv('stats_sample.csv', error_bad_lines = False, encoding = 'latin1')\n",
    "samp = samp.dropna()\n",
    "\n",
    "data = pd.read_csv('stats_clean.csv', error_bad_lines = False, encoding = 'latin1')\n",
    "data = data.dropna()"
   ]
  },
  {
   "cell_type": "code",
   "execution_count": 46,
   "metadata": {},
   "outputs": [
    {
     "name": "stderr",
     "output_type": "stream",
     "text": [
      "/Users/genevieverowe/anaconda/lib/python3.6/site-packages/ipykernel_launcher.py:3: TqdmDeprecationWarning: This function will be removed in tqdm==5.0.0\n",
      "Please use `tqdm.notebook.tqdm` instead of `tqdm.tqdm_notebook`\n",
      "  This is separate from the ipykernel package so we can avoid doing imports until\n",
      "Widget Javascript not detected.  It may not be installed or enabled properly.\n"
     ]
    },
    {
     "data": {
      "application/vnd.jupyter.widget-view+json": {
       "model_id": "7f799c9de632496b8a72790fe7263a92"
      }
     },
     "metadata": {},
     "output_type": "display_data"
    },
    {
     "name": "stderr",
     "output_type": "stream",
     "text": [
      "/Users/genevieverowe/anaconda/lib/python3.6/site-packages/ipykernel_launcher.py:12: TqdmDeprecationWarning: This function will be removed in tqdm==5.0.0\n",
      "Please use `tqdm.notebook.tqdm` instead of `tqdm.tqdm_notebook`\n",
      "  if sys.path[0] == '':\n",
      "Widget Javascript not detected.  It may not be installed or enabled properly.\n"
     ]
    },
    {
     "data": {
      "application/vnd.jupyter.widget-view+json": {
       "model_id": "1e135c82273b431dab535faa96fdb2bb"
      }
     },
     "metadata": {},
     "output_type": "display_data"
    },
    {
     "name": "stdout",
     "output_type": "stream",
     "text": [
      "\n"
     ]
    },
    {
     "name": "stderr",
     "output_type": "stream",
     "text": [
      "/Users/genevieverowe/anaconda/lib/python3.6/site-packages/ipykernel_launcher.py:23: TqdmDeprecationWarning: This function will be removed in tqdm==5.0.0\n",
      "Please use `tqdm.notebook.tqdm` instead of `tqdm.tqdm_notebook`\n",
      "Widget Javascript not detected.  It may not be installed or enabled properly.\n"
     ]
    },
    {
     "data": {
      "application/vnd.jupyter.widget-view+json": {
       "model_id": "f0739281a4dc438aa5d167d7c30e4636"
      }
     },
     "metadata": {},
     "output_type": "display_data"
    },
    {
     "name": "stdout",
     "output_type": "stream",
     "text": [
      "\n"
     ]
    },
    {
     "name": "stderr",
     "output_type": "stream",
     "text": [
      "Widget Javascript not detected.  It may not be installed or enabled properly.\n"
     ]
    },
    {
     "data": {
      "application/vnd.jupyter.widget-view+json": {
       "model_id": "f42762c25bd14e06853a3ed6e59cfee5"
      }
     },
     "metadata": {},
     "output_type": "display_data"
    },
    {
     "name": "stdout",
     "output_type": "stream",
     "text": [
      "\n"
     ]
    },
    {
     "name": "stderr",
     "output_type": "stream",
     "text": [
      "Widget Javascript not detected.  It may not be installed or enabled properly.\n"
     ]
    },
    {
     "data": {
      "application/vnd.jupyter.widget-view+json": {
       "model_id": "9153df31fc914e0283ec027bdba15622"
      }
     },
     "metadata": {},
     "output_type": "display_data"
    },
    {
     "name": "stdout",
     "output_type": "stream",
     "text": [
      "\n"
     ]
    },
    {
     "name": "stderr",
     "output_type": "stream",
     "text": [
      "Widget Javascript not detected.  It may not be installed or enabled properly.\n"
     ]
    },
    {
     "data": {
      "application/vnd.jupyter.widget-view+json": {
       "model_id": "70ccb866098f4cb086edefe7c60a4427"
      }
     },
     "metadata": {},
     "output_type": "display_data"
    },
    {
     "name": "stdout",
     "output_type": "stream",
     "text": [
      "\n"
     ]
    },
    {
     "name": "stderr",
     "output_type": "stream",
     "text": [
      "Widget Javascript not detected.  It may not be installed or enabled properly.\n"
     ]
    },
    {
     "data": {
      "application/vnd.jupyter.widget-view+json": {
       "model_id": "f21b322983cb4e46a5a6c7a52433cfa8"
      }
     },
     "metadata": {},
     "output_type": "display_data"
    },
    {
     "name": "stdout",
     "output_type": "stream",
     "text": [
      "\n"
     ]
    },
    {
     "name": "stderr",
     "output_type": "stream",
     "text": [
      "Widget Javascript not detected.  It may not be installed or enabled properly.\n"
     ]
    },
    {
     "data": {
      "application/vnd.jupyter.widget-view+json": {
       "model_id": "84d607dfa0ef41d1b8d3c74a590cec7c"
      }
     },
     "metadata": {},
     "output_type": "display_data"
    },
    {
     "name": "stdout",
     "output_type": "stream",
     "text": [
      "\n"
     ]
    },
    {
     "name": "stderr",
     "output_type": "stream",
     "text": [
      "Widget Javascript not detected.  It may not be installed or enabled properly.\n"
     ]
    },
    {
     "data": {
      "application/vnd.jupyter.widget-view+json": {
       "model_id": "f2dda3a84a254c75a1642ba2c14021e2"
      }
     },
     "metadata": {},
     "output_type": "display_data"
    },
    {
     "name": "stdout",
     "output_type": "stream",
     "text": [
      "\n"
     ]
    },
    {
     "name": "stderr",
     "output_type": "stream",
     "text": [
      "Widget Javascript not detected.  It may not be installed or enabled properly.\n"
     ]
    },
    {
     "data": {
      "application/vnd.jupyter.widget-view+json": {
       "model_id": "57a42744e3bb4c02b0e3a4b753cf8212"
      }
     },
     "metadata": {},
     "output_type": "display_data"
    },
    {
     "name": "stdout",
     "output_type": "stream",
     "text": [
      "\n"
     ]
    },
    {
     "name": "stderr",
     "output_type": "stream",
     "text": [
      "Widget Javascript not detected.  It may not be installed or enabled properly.\n"
     ]
    },
    {
     "data": {
      "application/vnd.jupyter.widget-view+json": {
       "model_id": "4e677b121d5a498e9ebba2d4dd32a2df"
      }
     },
     "metadata": {},
     "output_type": "display_data"
    },
    {
     "name": "stdout",
     "output_type": "stream",
     "text": [
      "\n"
     ]
    },
    {
     "name": "stderr",
     "output_type": "stream",
     "text": [
      "Widget Javascript not detected.  It may not be installed or enabled properly.\n"
     ]
    },
    {
     "data": {
      "application/vnd.jupyter.widget-view+json": {
       "model_id": "18d3e0b912404b57a41924c68e4ff774"
      }
     },
     "metadata": {},
     "output_type": "display_data"
    },
    {
     "name": "stdout",
     "output_type": "stream",
     "text": [
      "\n"
     ]
    },
    {
     "name": "stderr",
     "output_type": "stream",
     "text": [
      "Widget Javascript not detected.  It may not be installed or enabled properly.\n"
     ]
    },
    {
     "data": {
      "application/vnd.jupyter.widget-view+json": {
       "model_id": "afdd6c87464a47ef86f52268d2f297a7"
      }
     },
     "metadata": {},
     "output_type": "display_data"
    },
    {
     "name": "stdout",
     "output_type": "stream",
     "text": [
      "\n"
     ]
    },
    {
     "name": "stderr",
     "output_type": "stream",
     "text": [
      "Widget Javascript not detected.  It may not be installed or enabled properly.\n"
     ]
    },
    {
     "data": {
      "application/vnd.jupyter.widget-view+json": {
       "model_id": "7a8e129f84194f2aade54049a6070e23"
      }
     },
     "metadata": {},
     "output_type": "display_data"
    },
    {
     "name": "stdout",
     "output_type": "stream",
     "text": [
      "\n"
     ]
    },
    {
     "name": "stderr",
     "output_type": "stream",
     "text": [
      "Widget Javascript not detected.  It may not be installed or enabled properly.\n"
     ]
    },
    {
     "data": {
      "application/vnd.jupyter.widget-view+json": {
       "model_id": "8c0bc34337964184a5f1e514ef445e6b"
      }
     },
     "metadata": {},
     "output_type": "display_data"
    },
    {
     "name": "stdout",
     "output_type": "stream",
     "text": [
      "\n"
     ]
    },
    {
     "name": "stderr",
     "output_type": "stream",
     "text": [
      "Widget Javascript not detected.  It may not be installed or enabled properly.\n"
     ]
    },
    {
     "data": {
      "application/vnd.jupyter.widget-view+json": {
       "model_id": "df3ca3c1a99440f6bed213858d94a753"
      }
     },
     "metadata": {},
     "output_type": "display_data"
    },
    {
     "name": "stdout",
     "output_type": "stream",
     "text": [
      "\n"
     ]
    },
    {
     "name": "stderr",
     "output_type": "stream",
     "text": [
      "Widget Javascript not detected.  It may not be installed or enabled properly.\n"
     ]
    },
    {
     "data": {
      "application/vnd.jupyter.widget-view+json": {
       "model_id": "91422bb46ae54fe4af102d7b06c93ab4"
      }
     },
     "metadata": {},
     "output_type": "display_data"
    },
    {
     "name": "stdout",
     "output_type": "stream",
     "text": [
      "\n"
     ]
    },
    {
     "name": "stderr",
     "output_type": "stream",
     "text": [
      "Widget Javascript not detected.  It may not be installed or enabled properly.\n"
     ]
    },
    {
     "data": {
      "application/vnd.jupyter.widget-view+json": {
       "model_id": "d347a8bc6e0f40e5a07217a6530b2f48"
      }
     },
     "metadata": {},
     "output_type": "display_data"
    },
    {
     "name": "stdout",
     "output_type": "stream",
     "text": [
      "\n"
     ]
    },
    {
     "name": "stderr",
     "output_type": "stream",
     "text": [
      "Widget Javascript not detected.  It may not be installed or enabled properly.\n"
     ]
    },
    {
     "data": {
      "application/vnd.jupyter.widget-view+json": {
       "model_id": "6dd74ea7f13b4ae79d162c5c794d540b"
      }
     },
     "metadata": {},
     "output_type": "display_data"
    },
    {
     "name": "stdout",
     "output_type": "stream",
     "text": [
      "\n"
     ]
    },
    {
     "name": "stderr",
     "output_type": "stream",
     "text": [
      "Widget Javascript not detected.  It may not be installed or enabled properly.\n"
     ]
    },
    {
     "data": {
      "application/vnd.jupyter.widget-view+json": {
       "model_id": "fe208f8ce60a4e82a66b53dab4c5c987"
      }
     },
     "metadata": {},
     "output_type": "display_data"
    },
    {
     "name": "stdout",
     "output_type": "stream",
     "text": [
      "\n"
     ]
    },
    {
     "name": "stderr",
     "output_type": "stream",
     "text": [
      "Widget Javascript not detected.  It may not be installed or enabled properly.\n"
     ]
    },
    {
     "data": {
      "application/vnd.jupyter.widget-view+json": {
       "model_id": "1de92edc3971472f9b985578572413c7"
      }
     },
     "metadata": {},
     "output_type": "display_data"
    },
    {
     "name": "stdout",
     "output_type": "stream",
     "text": [
      "\n"
     ]
    },
    {
     "name": "stderr",
     "output_type": "stream",
     "text": [
      "Widget Javascript not detected.  It may not be installed or enabled properly.\n"
     ]
    },
    {
     "data": {
      "application/vnd.jupyter.widget-view+json": {
       "model_id": "d529f298143f4a8f96c5620addd1692c"
      }
     },
     "metadata": {},
     "output_type": "display_data"
    },
    {
     "name": "stdout",
     "output_type": "stream",
     "text": [
      "\n"
     ]
    },
    {
     "name": "stderr",
     "output_type": "stream",
     "text": [
      "Widget Javascript not detected.  It may not be installed or enabled properly.\n"
     ]
    },
    {
     "data": {
      "application/vnd.jupyter.widget-view+json": {
       "model_id": "06a07c841433460cbe9725f6452a54c9"
      }
     },
     "metadata": {},
     "output_type": "display_data"
    },
    {
     "name": "stdout",
     "output_type": "stream",
     "text": [
      "\n"
     ]
    },
    {
     "name": "stderr",
     "output_type": "stream",
     "text": [
      "Widget Javascript not detected.  It may not be installed or enabled properly.\n"
     ]
    },
    {
     "data": {
      "application/vnd.jupyter.widget-view+json": {
       "model_id": "f16b2df6e5c14d18ac4247fbe4a0dcfe"
      }
     },
     "metadata": {},
     "output_type": "display_data"
    },
    {
     "name": "stderr",
     "output_type": "stream",
     "text": [
      "Widget Javascript not detected.  It may not be installed or enabled properly.\n"
     ]
    },
    {
     "name": "stdout",
     "output_type": "stream",
     "text": [
      "\n"
     ]
    },
    {
     "data": {
      "application/vnd.jupyter.widget-view+json": {
       "model_id": "7e8ae8f404c64e9d880d3272949e9aea"
      }
     },
     "metadata": {},
     "output_type": "display_data"
    },
    {
     "name": "stdout",
     "output_type": "stream",
     "text": [
      "\n"
     ]
    },
    {
     "name": "stderr",
     "output_type": "stream",
     "text": [
      "Widget Javascript not detected.  It may not be installed or enabled properly.\n"
     ]
    },
    {
     "data": {
      "application/vnd.jupyter.widget-view+json": {
       "model_id": "fbb95a37395745959c8baeaf5b06bcf4"
      }
     },
     "metadata": {},
     "output_type": "display_data"
    },
    {
     "name": "stdout",
     "output_type": "stream",
     "text": [
      "\n"
     ]
    },
    {
     "name": "stderr",
     "output_type": "stream",
     "text": [
      "Widget Javascript not detected.  It may not be installed or enabled properly.\n"
     ]
    },
    {
     "data": {
      "application/vnd.jupyter.widget-view+json": {
       "model_id": "a5b639aaf7874241abd93a7578356001"
      }
     },
     "metadata": {},
     "output_type": "display_data"
    },
    {
     "name": "stdout",
     "output_type": "stream",
     "text": [
      "\n"
     ]
    },
    {
     "name": "stderr",
     "output_type": "stream",
     "text": [
      "Widget Javascript not detected.  It may not be installed or enabled properly.\n"
     ]
    },
    {
     "data": {
      "application/vnd.jupyter.widget-view+json": {
       "model_id": "568c0a31ea364272a44206f740f9476f"
      }
     },
     "metadata": {},
     "output_type": "display_data"
    },
    {
     "name": "stdout",
     "output_type": "stream",
     "text": [
      "\n"
     ]
    },
    {
     "name": "stderr",
     "output_type": "stream",
     "text": [
      "Widget Javascript not detected.  It may not be installed or enabled properly.\n"
     ]
    },
    {
     "data": {
      "application/vnd.jupyter.widget-view+json": {
       "model_id": "6b500eac7b984581a3bdba1c4e7a3cb9"
      }
     },
     "metadata": {},
     "output_type": "display_data"
    },
    {
     "name": "stdout",
     "output_type": "stream",
     "text": [
      "\n"
     ]
    },
    {
     "name": "stderr",
     "output_type": "stream",
     "text": [
      "Widget Javascript not detected.  It may not be installed or enabled properly.\n"
     ]
    },
    {
     "data": {
      "application/vnd.jupyter.widget-view+json": {
       "model_id": "ec92e494c62f4fe7a372239c3327b9b3"
      }
     },
     "metadata": {},
     "output_type": "display_data"
    },
    {
     "name": "stdout",
     "output_type": "stream",
     "text": [
      "\n"
     ]
    },
    {
     "name": "stderr",
     "output_type": "stream",
     "text": [
      "Widget Javascript not detected.  It may not be installed or enabled properly.\n"
     ]
    },
    {
     "data": {
      "application/vnd.jupyter.widget-view+json": {
       "model_id": "15fa72d173ee41c0b1a13cbf7216e60a"
      }
     },
     "metadata": {},
     "output_type": "display_data"
    },
    {
     "name": "stdout",
     "output_type": "stream",
     "text": [
      "\n"
     ]
    },
    {
     "name": "stderr",
     "output_type": "stream",
     "text": [
      "Widget Javascript not detected.  It may not be installed or enabled properly.\n"
     ]
    },
    {
     "data": {
      "application/vnd.jupyter.widget-view+json": {
       "model_id": "a8f9828f46934558b47618e87984d3c8"
      }
     },
     "metadata": {},
     "output_type": "display_data"
    },
    {
     "name": "stdout",
     "output_type": "stream",
     "text": [
      "\n"
     ]
    },
    {
     "name": "stderr",
     "output_type": "stream",
     "text": [
      "Widget Javascript not detected.  It may not be installed or enabled properly.\n"
     ]
    },
    {
     "data": {
      "application/vnd.jupyter.widget-view+json": {
       "model_id": "a4754e19fd4747359d6667d966ff1dfa"
      }
     },
     "metadata": {},
     "output_type": "display_data"
    },
    {
     "name": "stdout",
     "output_type": "stream",
     "text": [
      "\n"
     ]
    },
    {
     "name": "stderr",
     "output_type": "stream",
     "text": [
      "Widget Javascript not detected.  It may not be installed or enabled properly.\n"
     ]
    },
    {
     "data": {
      "application/vnd.jupyter.widget-view+json": {
       "model_id": "4dd50d2294244d039687bab031704222"
      }
     },
     "metadata": {},
     "output_type": "display_data"
    },
    {
     "name": "stdout",
     "output_type": "stream",
     "text": [
      "\n"
     ]
    },
    {
     "name": "stderr",
     "output_type": "stream",
     "text": [
      "Widget Javascript not detected.  It may not be installed or enabled properly.\n"
     ]
    },
    {
     "data": {
      "application/vnd.jupyter.widget-view+json": {
       "model_id": "1ea45b75ea144877801622d820e6a0de"
      }
     },
     "metadata": {},
     "output_type": "display_data"
    },
    {
     "name": "stdout",
     "output_type": "stream",
     "text": [
      "\n"
     ]
    },
    {
     "name": "stderr",
     "output_type": "stream",
     "text": [
      "Widget Javascript not detected.  It may not be installed or enabled properly.\n"
     ]
    },
    {
     "data": {
      "application/vnd.jupyter.widget-view+json": {
       "model_id": "3c3c797b3c174ecb95256d2820c34eac"
      }
     },
     "metadata": {},
     "output_type": "display_data"
    },
    {
     "name": "stdout",
     "output_type": "stream",
     "text": [
      "\n"
     ]
    },
    {
     "name": "stderr",
     "output_type": "stream",
     "text": [
      "Widget Javascript not detected.  It may not be installed or enabled properly.\n"
     ]
    },
    {
     "data": {
      "application/vnd.jupyter.widget-view+json": {
       "model_id": "cd15e66d296f4e8eac02ae68290434fb"
      }
     },
     "metadata": {},
     "output_type": "display_data"
    },
    {
     "name": "stdout",
     "output_type": "stream",
     "text": [
      "\n"
     ]
    },
    {
     "name": "stderr",
     "output_type": "stream",
     "text": [
      "Widget Javascript not detected.  It may not be installed or enabled properly.\n"
     ]
    },
    {
     "data": {
      "application/vnd.jupyter.widget-view+json": {
       "model_id": "b61fc780caea400f9e2a28dce2f61e75"
      }
     },
     "metadata": {},
     "output_type": "display_data"
    },
    {
     "name": "stdout",
     "output_type": "stream",
     "text": [
      "\n"
     ]
    },
    {
     "name": "stderr",
     "output_type": "stream",
     "text": [
      "Widget Javascript not detected.  It may not be installed or enabled properly.\n"
     ]
    },
    {
     "data": {
      "application/vnd.jupyter.widget-view+json": {
       "model_id": "33b70ea10f704664927339af9ad13a53"
      }
     },
     "metadata": {},
     "output_type": "display_data"
    },
    {
     "name": "stdout",
     "output_type": "stream",
     "text": [
      "\n"
     ]
    },
    {
     "name": "stderr",
     "output_type": "stream",
     "text": [
      "Widget Javascript not detected.  It may not be installed or enabled properly.\n"
     ]
    },
    {
     "data": {
      "application/vnd.jupyter.widget-view+json": {
       "model_id": "c4dcd7b932834d07882f690b29ffdb70"
      }
     },
     "metadata": {},
     "output_type": "display_data"
    },
    {
     "name": "stdout",
     "output_type": "stream",
     "text": [
      "\n"
     ]
    },
    {
     "name": "stderr",
     "output_type": "stream",
     "text": [
      "Widget Javascript not detected.  It may not be installed or enabled properly.\n"
     ]
    },
    {
     "data": {
      "application/vnd.jupyter.widget-view+json": {
       "model_id": "5ff3839ca6b84bc7b7c63ba2f52d690e"
      }
     },
     "metadata": {},
     "output_type": "display_data"
    },
    {
     "name": "stdout",
     "output_type": "stream",
     "text": [
      "\n"
     ]
    },
    {
     "name": "stderr",
     "output_type": "stream",
     "text": [
      "Widget Javascript not detected.  It may not be installed or enabled properly.\n"
     ]
    },
    {
     "data": {
      "application/vnd.jupyter.widget-view+json": {
       "model_id": "48df7a1dc12445a4b5c765138dd793b8"
      }
     },
     "metadata": {},
     "output_type": "display_data"
    },
    {
     "name": "stdout",
     "output_type": "stream",
     "text": [
      "\n"
     ]
    },
    {
     "name": "stderr",
     "output_type": "stream",
     "text": [
      "Widget Javascript not detected.  It may not be installed or enabled properly.\n"
     ]
    },
    {
     "data": {
      "application/vnd.jupyter.widget-view+json": {
       "model_id": "a1d629fa76a44093869782eeb8f8170f"
      }
     },
     "metadata": {},
     "output_type": "display_data"
    },
    {
     "name": "stdout",
     "output_type": "stream",
     "text": [
      "\n"
     ]
    },
    {
     "name": "stderr",
     "output_type": "stream",
     "text": [
      "Widget Javascript not detected.  It may not be installed or enabled properly.\n"
     ]
    },
    {
     "data": {
      "application/vnd.jupyter.widget-view+json": {
       "model_id": "1c34928061c34283a0bbf723395af0a6"
      }
     },
     "metadata": {},
     "output_type": "display_data"
    },
    {
     "name": "stdout",
     "output_type": "stream",
     "text": [
      "\n"
     ]
    },
    {
     "name": "stderr",
     "output_type": "stream",
     "text": [
      "Widget Javascript not detected.  It may not be installed or enabled properly.\n"
     ]
    },
    {
     "data": {
      "application/vnd.jupyter.widget-view+json": {
       "model_id": "e2ae6f9e274c43a684b086d63fed6e22"
      }
     },
     "metadata": {},
     "output_type": "display_data"
    },
    {
     "name": "stdout",
     "output_type": "stream",
     "text": [
      "\n"
     ]
    },
    {
     "name": "stderr",
     "output_type": "stream",
     "text": [
      "Widget Javascript not detected.  It may not be installed or enabled properly.\n"
     ]
    },
    {
     "data": {
      "application/vnd.jupyter.widget-view+json": {
       "model_id": "87a3bfc9063f499ca58be04e0a17fd7d"
      }
     },
     "metadata": {},
     "output_type": "display_data"
    },
    {
     "name": "stderr",
     "output_type": "stream",
     "text": [
      "Widget Javascript not detected.  It may not be installed or enabled properly.\n"
     ]
    },
    {
     "name": "stdout",
     "output_type": "stream",
     "text": [
      "\n"
     ]
    },
    {
     "data": {
      "application/vnd.jupyter.widget-view+json": {
       "model_id": "fc318c8d98724b138e24647a1303c211"
      }
     },
     "metadata": {},
     "output_type": "display_data"
    },
    {
     "name": "stdout",
     "output_type": "stream",
     "text": [
      "\n"
     ]
    },
    {
     "name": "stderr",
     "output_type": "stream",
     "text": [
      "Widget Javascript not detected.  It may not be installed or enabled properly.\n"
     ]
    },
    {
     "data": {
      "application/vnd.jupyter.widget-view+json": {
       "model_id": "65f06ff227824b33880e96fec48edf05"
      }
     },
     "metadata": {},
     "output_type": "display_data"
    },
    {
     "name": "stdout",
     "output_type": "stream",
     "text": [
      "\n"
     ]
    },
    {
     "name": "stderr",
     "output_type": "stream",
     "text": [
      "Widget Javascript not detected.  It may not be installed or enabled properly.\n"
     ]
    },
    {
     "data": {
      "application/vnd.jupyter.widget-view+json": {
       "model_id": "a6603d8e5c9f4871ad417d52e65f0d1e"
      }
     },
     "metadata": {},
     "output_type": "display_data"
    },
    {
     "name": "stdout",
     "output_type": "stream",
     "text": [
      "\n"
     ]
    },
    {
     "name": "stderr",
     "output_type": "stream",
     "text": [
      "Widget Javascript not detected.  It may not be installed or enabled properly.\n"
     ]
    },
    {
     "data": {
      "application/vnd.jupyter.widget-view+json": {
       "model_id": "075eeebefb1841eeb88a9b5f351191bf"
      }
     },
     "metadata": {},
     "output_type": "display_data"
    },
    {
     "name": "stdout",
     "output_type": "stream",
     "text": [
      "\n"
     ]
    },
    {
     "name": "stderr",
     "output_type": "stream",
     "text": [
      "Widget Javascript not detected.  It may not be installed or enabled properly.\n"
     ]
    },
    {
     "data": {
      "application/vnd.jupyter.widget-view+json": {
       "model_id": "f1af5a6a20634fc18cdd8d39dd5cb0fb"
      }
     },
     "metadata": {},
     "output_type": "display_data"
    },
    {
     "name": "stdout",
     "output_type": "stream",
     "text": [
      "\n",
      "\n"
     ]
    }
   ],
   "source": [
    "# Construct a dataset in the form of stats_clean.csv, but with the transactions in place of comments in the 'text' column.\n",
    "\n",
    "for comments in tqdm(samp['text'], desc = 'Overall Progress'):\n",
    "    \n",
    "    # Store the list of punctuation-word conversions as a list, for efficiency purposes.\n",
    "    punc_wrd_conv = marks_to_wrds.keys()\n",
    "    \n",
    "    # Initialize a list to hold the transactions for each Redditor's comments. \n",
    "    transactions = []\n",
    "\n",
    "    # Loop over each character to do all punctuation to word conversion.\n",
    "    for character in tqdm(comments, desc = 'Character Loop'):\n",
    "        if character in marks:\n",
    "            comments = comments.replace(character, list(marks_to_wrds.keys())[list(marks_to_wrds.values()).index(character)])\n",
    "        \n",
    "    wrd_pos = 0 # Positional counter for indexing purposes.\n",
    "    \n",
    "    # Remove all remaining punctuation from the comments.\n",
    "    comments = comments.translate(str.maketrans('','', string.punctuation))\n",
    "    comments_split = comments.split()\n",
    "    \n",
    "    # Loop over every word in the comments for a given Redditor, grab the three words before when encountering punctuation of interest.\n",
    "    for word in tqdm(comments_split, desc = 'Grab Three'):\n",
    "        \n",
    "        grab_three = []\n",
    "        word_formatted = ' ' + word + ' '\n",
    "        \n",
    "        if word_formatted in punc_wrd_conv:\n",
    "            \n",
    "            if wrd_pos >= 3:\n",
    "                grab_three.append(comments_split[wrd_pos - 3])\n",
    "                grab_three.append(comments_split[wrd_pos - 2])\n",
    "                grab_three.append(comments_split[wrd_pos - 1])\n",
    "                grab_three.append(comments_split[wrd_pos])\n",
    "            \n",
    "                transactions.append(grab_three)\n",
    "                \n",
    "        '''NEED TO UPDATE VALUES HERE'''\n",
    "                \n",
    "        wrd_pos += 1 # Increment the counter.\n",
    "        \n",
    "        "
   ]
  },
  {
   "cell_type": "code",
   "execution_count": 47,
   "metadata": {},
   "outputs": [
    {
     "data": {
      "text/plain": [
       "[['not', 'telling', 'you', 'prd'],\n",
       " ['an', 'open', 'relationship', 'prd'],\n",
       " ['them', 'think', 'you', 'snglqt'],\n",
       " ['exclusive', 'when', 'you', 'snglqt'],\n",
       " ['snglqt', 're', 'not', 'cmma'],\n",
       " ['not', 'cmma', 'that', 'snglqt'],\n",
       " ['s', 'messed', 'up', 'prd'],\n",
       " ['up', 'prd', 'I', 'snglqt'],\n",
       " ['not', 'trust', 'him', 'prd'],\n",
       " ['hide', 'and', 'you', 'snglqt'],\n",
       " ['stages', 'of', 'dating', 'prd'],\n",
       " ['dating', 'prd', 'He', 'snglqt'],\n",
       " ['a', 'big', 'dealbreaker', 'prd'],\n",
       " ['choose', 'to', 'do', 'xclm'],\n",
       " ['do', 'xclm', 'Yes', 'cmma'],\n",
       " ['Yes', 'cmma', 'it', 'snglqt'],\n",
       " ['to', 'be', 'ghosted', 'coln'],\n",
       " ['be', 'ghosted', 'coln', 'prd'],\n",
       " ['coln', 'prd', 'I', 'snglqt'],\n",
       " ['leave', 'it', 'be', 'prd'],\n",
       " ['prd', 'If', 'you', 'snglqt'],\n",
       " ['illegal', 'or', 'non', 'dsh'],\n",
       " ['dsh', 'consensual', 'stuff', 'cmma'],\n",
       " ['to', 'a', 'therapist', 'prd'],\n",
       " ['consensual', 'and', 'legal', 'cmma'],\n",
       " ['should', 'be', 'okay', 'prd'],\n",
       " ['your', 'sexual', 'desires', 'lftparen'],\n",
       " ['a', 'bad', 'person', 'cmma'],\n",
       " ['person', 'cmma', 'that', 'snglqt'],\n",
       " ['orgasm', 'and', 'it', 'snglqt'],\n",
       " ['to', 'prioritize', 'it', 'rghtparen'],\n",
       " ['prioritize', 'it', 'rghtparen', 'prd'],\n",
       " ['the', 'other', 'commenters', 'cmma'],\n",
       " ['cmma', 'but', 'I', 'snglqt'],\n",
       " ['add', 'some', 'people', 'lftparen'],\n",
       " ['lftparen', 'like', 'myself', 'rghtparen'],\n",
       " ['been', 'friends', 'first', 'prd'],\n",
       " ['for', 'dating', 'later', 'prd'],\n",
       " ['later', 'prd', 'That', 'snglqt'],\n",
       " ['really', 'good', 'question', 'prd'],\n",
       " ['prd', 'We', 'don', 'snglqt'],\n",
       " ['I', 'think', 'she', 'snglqt'],\n",
       " ['d', 'ignore', 'people', 'snglqt'],\n",
       " ['s', 'direct', 'concerns', 'prd'],\n",
       " ['be', 'held', 'accountable', 'cmma'],\n",
       " ['care', 'of', 'herself', 'lftparen'],\n",
       " ['at', 'least', 'currently', 'rghtparen'],\n",
       " ['least', 'currently', 'rghtparen', 'prd'],\n",
       " ['addressed', 'her', 'directly', 'lftparen'],\n",
       " ['the', 'father', 'too', 'cmma'],\n",
       " ['wherever', 'he', 'is', 'rghtparen'],\n",
       " ['he', 'is', 'rghtparen', 'prd'],\n",
       " ['playing', 'a', 'character', 'prd'],\n",
       " ['actually', 'a', 'half', 'dsh'],\n",
       " ['dsh', 'elf', 'half', 'dsh'],\n",
       " ['dsh', 'bear', 'lady', 'prd'],\n",
       " ['bizarrely', 'wholesome', 'personality', 'prd'],\n",
       " ['but', 'I', 'ain', 'snglqt'],\n",
       " ['mad', 'Soooo', 'pretty', 'xclm'],\n",
       " ['pretty', 'xclm', 'Also', 'cmma'],\n",
       " ['her', 'skin', 'color', 'cmma'],\n",
       " ['cmma', 'so', 'glowy', 'xclm'],\n",
       " ['xclm', 'I', 'didn', 'snglqt'],\n",
       " ['didn', 'snglqt', 't', 'xclm'],\n",
       " ['how', 'obvious', 'Eugenia', 'snglqt'],\n",
       " ['back', 'then', 'is', 'cmma'],\n",
       " ['were', 'true', 'that', 'snglqt'],\n",
       " ['done', 'months', 'ago', 'prd'],\n",
       " ['to', 'another', 'user', 'cmma'],\n",
       " ['my', 'intention', 'didn', 'snglqt'],\n",
       " ['truly', 'doesnt', 'care', 'prd'],\n",
       " ['is', 'more', 'despicable', 'prd'],\n",
       " ['more', 'despicable', 'prd', 'prd'],\n",
       " ['despicable', 'prd', 'prd', 'prd'],\n",
       " ['prd', 'prd', 'THIS', 'prd'],\n",
       " ['prd', 'This', 'exactly', 'prd'],\n",
       " ['what', 'I', 'meant', 'xclm'],\n",
       " ['better', 'than', 'me', 'coln'],\n",
       " ['than', 'me', 'coln', 'rghtparen'],\n",
       " ['me', 'coln', 'rghtparen', 'prd'],\n",
       " ['I', 'think', 'you', 'snglqt'],\n",
       " ['everything', 'you', 'said', 'prd'],\n",
       " ['prd', 'I', 'know', 'prd'],\n",
       " ['how', 'obvious', 'Eugenia', 'snglqt'],\n",
       " ['back', 'then', 'is', 'cmma'],\n",
       " ['were', 'true', 'that', 'snglqt'],\n",
       " ['done', 'months', 'ago', 'prd'],\n",
       " ['my', 'intention', 'didn', 'snglqt'],\n",
       " ['text', 'She', 'didn', 'snglqt'],\n",
       " ['said', 'something', 'similar', 'lftparen'],\n",
       " ['lftparen', 'I', 'can', 'snglqt'],\n",
       " ['t', 'recall', 'exactly', 'cmma'],\n",
       " ['exactly', 'cmma', 'sorry', 'rghtparen'],\n",
       " ['cmma', 'sorry', 'rghtparen', 'prd'],\n",
       " ['Damon', 'Fizzy', 'too', 'cmma'],\n",
       " ['Edwin', 'on', 'livestream', 'prd'],\n",
       " ['selecting', 'a', 'center', 'cmma'],\n",
       " ['that', 'all', 'away', 'prd'],\n",
       " ['away', 'prd', 'Edit', 'coln'],\n",
       " ['Eugenia', 'Cooney', 'News', 'prd'],\n",
       " ['in', 'the', 'future', 'prd'],\n",
       " ['future', 'prd', 'OMG', 'prd'],\n",
       " ['Are', 'there', 'comments', 'qstn'],\n",
       " ['there', 'are', 'there', 'snglqt'],\n",
       " ['the', 'comments', 'themselves', 'prd'],\n",
       " ['themselves', 'prd', '2', 'coln'],\n",
       " ['clearest', 'bodychecks', 'I', 'snglqt'],\n",
       " ['ve', 'ever', 'seen', 'prd'],\n",
       " ['prd', 'I', 'can', 'snglqt'],\n",
       " ['some', 'people', 'don', 'snglqt'],\n",
       " ['flaunt', 'her', 'body', 'prd'],\n",
       " ['uncomfortable', 'and', 'unnatural', 'prd'],\n",
       " ['the', 'spectrum', 'too', 'prd'],\n",
       " ['an', 'adult', 'overall', 'cmma'],\n",
       " ['the', 'vibes', 'I', 'snglqt'],\n",
       " ['a', 'long', 'time', 'prd'],\n",
       " ['long', 'time', 'prd', 'lftparen'],\n",
       " ['the', 'spectrum', 'don', 'snglqt'],\n",
       " ['be', 'an', 'adult', 'cmma'],\n",
       " ['on', 'different', 'factors', 'rghtparen'],\n",
       " ['different', 'factors', 'rghtparen', 'prd'],\n",
       " ['we', 'know', 'that', 'snglqt'],\n",
       " ['snglqt', 's', 'she', 'snglqt'],\n",
       " ['deemed', 'gravely', 'disabled', 'qstn'],\n",
       " ['had', 'been', '5150', 'snglqt'],\n",
       " ['danger', 'to', 'herself', 'lftparen'],\n",
       " ['skin', 'and', 'bones', 'rghtparen'],\n",
       " ['and', 'bones', 'rghtparen', 'prd'],\n",
       " ['rghtparen', 'prd', 'You', 'snglqt'],\n",
       " ['probably', 'need', 'therapy', 'prd'],\n",
       " ['lack', 'of', 'appointments', 'cmma'],\n",
       " ['deal', 'with', 'it', 'prd'],\n",
       " ['I', 'think', 'I', 'snglqt'],\n",
       " ['snglqt', 'll', 'go', 'cmma'],\n",
       " ['how', 'it', 'is', 'prd'],\n",
       " ['hope', 'I', 'won', 'snglqt'],\n",
       " ['incontrollably', 'because', 'I', 'snglqt'],\n",
       " ['to', 'relive', 'situations', 'cmma'],\n",
       " ['half', 'a', 'year', 'prd'],\n",
       " ['point', 'of', 'view', 'xclm'],\n",
       " ['is', 'that', 'I', 'snglqt'],\n",
       " ['for', 'potentially', 'nothing', 'cmma'],\n",
       " ['the', 'next', 'session', 'cmma'],\n",
       " ['cmma', 'so', 'it', 'snglqt'],\n",
       " ['help', 'for', 'months', 'prd'],\n",
       " ['access', 'to', 'it', 'prd'],\n",
       " ['it', 'prd', 'It', 'snglqt'],\n",
       " ['psychologist', 'and', 'I', 'snglqt'],\n",
       " ['board', 'with', 'that', 'coln'],\n",
       " ['with', 'that', 'coln', 'prd'],\n",
       " ['I', 'think', 'I', 'snglqt'],\n",
       " ['see', 'what', 'happens', 'prd'],\n",
       " ['and', 'manipulative', 'behaviors', 'prd'],\n",
       " ['someone', 'can', 'have', 'prd'],\n",
       " ['flag', 'to', 'me', 'prd'],\n",
       " ['If', 'you', 'don', 'snglqt'],\n",
       " ['be', 'with', 'someone', 'cmma'],\n",
       " ['cmma', 'you', 'don', 'snglqt'],\n",
       " ['t', 'have', 'to', 'prd'],\n",
       " ['feeling', 'it', 'anymore', 'cmma'],\n",
       " ['anymore', 'cmma', 'it', 'snglqt'],\n",
       " ['to', 'cut', 'ties', 'prd'],\n",
       " ['when', 'you', 'don', 'snglqt'],\n",
       " ['t', 'want', 'it', 'prd'],\n",
       " ['I', 'know', 'it', 'snglqt'],\n",
       " ['said', 'that', 'done', 'cmma'],\n",
       " ['way', 'that', 'you', 'snglqt'],\n",
       " ['to', 'end', 'it', 'prd'],\n",
       " ['not', 'always', 'easy', 'prd'],\n",
       " ['But', 'please', 'don', 'snglqt'],\n",
       " ['of', 'her', 'manipulation', 'prd'],\n",
       " ['suspect', 'that', 'she', 'snglqt'],\n",
       " ['an', 'empty', 'threat', 'prd'],\n",
       " ['threat', 'prd', 'That', 'snglqt'],\n",
       " ['a', 'fellow', 'youtuber', 'cmma'],\n",
       " ['channel', 'is', 'SomeBlackGuy', 'prd'],\n",
       " ['prd', 'I', 'don', 'snglqt'],\n",
       " ['know', 'his', 'height', 'cmma'],\n",
       " ['height', 'cmma', 'though', 'cmma'],\n",
       " ['taller', 'than', 'him', 'prd'],\n",
       " ['nothing', 'like', 'that', 'prd'],\n",
       " ['that', 'prd', 'I', 'snglqt'],\n",
       " ['a', 'second', 'opinion', 'prd'],\n",
       " ['not', 'the', 'best', 'cmma'],\n",
       " ['but', 'I', 'don', 'snglqt'],\n",
       " ['from', 'before', 'treatment', 'prd'],\n",
       " ['I', 'had', 'it', 'prd'],\n",
       " ['reach', 'your', 'derm', 'prd'],\n",
       " ['different', 'side', 'effects', 'prd'],\n",
       " ['intense', 'side', 'effects', 'prd'],\n",
       " ['know', 'how', 'you', 'snglqt'],\n",
       " ['is', 'to', 'try', 'prd'],\n",
       " ['with', 'the', 'effects', 'cmma'],\n",
       " ['contact', 'your', 'derm', 'prd'],\n",
       " ['Best', 'of', 'luck', 'coln'],\n",
       " ['of', 'luck', 'coln', 'rghtparen'],\n",
       " ['rghtparen', 'In', 'Onion', 'snglqt'],\n",
       " ['s', 'case', 'I', 'snglqt'],\n",
       " ['d', 'say', 'it', 'snglqt'],\n",
       " ['released', 'the', 'girl', 'snglqt'],\n",
       " ['s', 'phone', 'number', 'cmma'],\n",
       " ['cmma', 'but', 'yeah', 'cmma'],\n",
       " ['douche', 'move', 'too', 'prd'],\n",
       " ['it', 'because', 'he', 'snglqt'],\n",
       " ['her', 'and', 'that', 'snglqt'],\n",
       " ['that', 'matters', 'apparently', 'prd'],\n",
       " ['apparently', 'prd', 'You', 'snglqt'],\n",
       " ['snglqt', 're', 'right', 'prd'],\n",
       " ['right', 'prd', 'It', 'snglqt'],\n",
       " ['have', 'learning', 'disabilities', 'cmma'],\n",
       " ['you', 'say', 'it', 'snglqt'],\n",
       " ['about', 'the', 'topic', 'prd'],\n",
       " ['prd', 'I', 'don', 'snglqt'],\n",
       " ['OP', 'is', 'from', 'lftparen'],\n",
       " ['from', 'lftparen', 'I', 'snglqt'],\n",
       " ['snglqt', 'm', 'European', 'rghtparen'],\n",
       " ['be', 'a', 'taboo', 'prd'],\n",
       " ['Sex', 'ED', 'isn', 'snglqt'],\n",
       " ['for', 'most', 'humans', 'lftparen'],\n",
       " ['humans', 'lftparen', 'it', 'snglqt'],\n",
       " ['as', 'I', 'know', 'rghtparen'],\n",
       " ['fair', 'I', 'don', 'snglqt'],\n",
       " ['people', 'who', 'haven', 'snglqt'],\n",
       " ['a', 'hand', 'job', 'prd'],\n",
       " ['sounded', 'so', 'self', 'dsh'],\n",
       " ['dsh', 'aware', 'there', 'prd'],\n",
       " ['there', 'is', 'heartbreaking', 'prd'],\n",
       " ['video', 'because', 'she', 'snglqt'],\n",
       " ['her', 'present', 'self', 'prd'],\n",
       " ['self', 'prd', 'Exactly', 'prd'],\n",
       " ['without', 'understanding', 'it', 'prd'],\n",
       " ['or', 'about', 'Eugenia', 'cmma'],\n",
       " ['misinformation', 'and', 'stigmatizing', 'prd'],\n",
       " ['I', 'felt', 'sick', 'prd'],\n",
       " ['prd', 'Woah', 'that', 'snglqt'],\n",
       " ['snglqt', 's', 'quick', 'xclm'],\n",
       " ['quick', 'xclm', 'I', 'snglqt'],\n",
       " ['happy', 'for', 'you', 'xclm'],\n",
       " ['my', 'case', 'it', 'snglqt'],\n",
       " ['s', 'like', 'this', 'lftparen'],\n",
       " ['this', 'lftparen', 'https', 'coln'],\n",
       " ['https', 'coln', 'www', 'prd'],\n",
       " ['www', 'prd', 'ncbi', 'prd'],\n",
       " ['ncbi', 'prd', 'nlm', 'prd'],\n",
       " ['nlm', 'prd', 'nih', 'prd'],\n",
       " ['nih', 'prd', 'govpmcarticlesPMC4639958figureF2', 'rghtparen'],\n",
       " ['is', 'almost', 'black', 'cmma'],\n",
       " ['cmma', 'and', 'I', 'snglqt'],\n",
       " ['thicker', 'too', 'TT', 'cmma'],\n",
       " ['down', 'a', 'little', 'prd'],\n",
       " ['pounds', 'but', 'I', 'snglqt'],\n",
       " ['taking', 'only', '10', 'cmma'],\n",
       " ['twice', 'as', 'long', 'prd'],\n",
       " ['long', 'prd', 'I', 'snglqt'],\n",
       " ['had', 'in', 'years', 'prd'],\n",
       " ['I', 'hope', 'it', 'snglqt'],\n",
       " ['for', 'you', 'too', 'coln'],\n",
       " ['you', 'too', 'coln', 'rghtparen'],\n",
       " ['too', 'coln', 'rghtparen', 'prd'],\n",
       " ['includes', 'private', 'information', 'cmma'],\n",
       " ['her', 'health', 'records', 'cmma'],\n",
       " ['records', 'cmma', 'emails', 'cmma'],\n",
       " ['cmma', 'phone', 'calls', 'prd'],\n",
       " ['that', 'about', 'her', 'qstn'],\n",
       " ['qstn', 'No', 'one', 'prd'],\n",
       " ['one', 'prd', 'She', 'snglqt'],\n",
       " ['no', 'one', 'has', 'prd'],\n",
       " ['weeks', 'after', 'finishing', 'cmma'],\n",
       " ['human', 'being', 'again', 'lftparen'],\n",
       " ['90', 'any', 'more', 'rghtparen'],\n",
       " ['any', 'more', 'rghtparen', 'cmma'],\n",
       " ['for', 'eyedrops', 'anymore', 'cmma'],\n",
       " ['and', 'work', 'out', 'prd'],\n",
       " ['last', '8', 'months', 'prd'],\n",
       " ['the', 'negative', 'side', 'cmma'],\n",
       " ['is', 'also', 'returning', 'cmma'],\n",
       " ['fine', 'so', 'far', 'cmma'],\n",
       " ['not', 'dry', 'anymore', 'prd'],\n",
       " ['is', 'very', 'relieving', 'prd'],\n",
       " ['relieving', 'prd', 'I', 'snglqt'],\n",
       " ['dose', 'and', 'see', 'prd'],\n",
       " ['see', 'prd', 'I', 'snglqt'],\n",
       " ['all', 'your', 'efforts', 'xclm'],\n",
       " ['removed', 'from', 'youtube', 'prd'],\n",
       " ['from', 'her', 'streams', 'prd'],\n",
       " ['sharing', 'her', 'address', 'cmma'],\n",
       " ['or', 'her', 'father', 'snglqt'],\n",
       " ['snglqt', 's', 'address', 'cmma'],\n",
       " ['address', 'cmma', 'etc', 'prd'],\n",
       " ['prd', 'It', 'doesn', 'snglqt'],\n",
       " ['thinks', 'it', 'means', 'prd'],\n",
       " ['means', 'prd', 'I', 'snglqt'],\n",
       " ['are', 'more', 'manageable', 'prd'],\n",
       " ['soon', 'after', 'you', 'snglqt'],\n",
       " ['snglqt', 're', 'done', 'prd'],\n",
       " ['last', '30', 'days', 'prd'],\n",
       " ['days', 'prd', 'I', 'snglqt'],\n",
       " ['such', 'as', 'creams', 'cmma'],\n",
       " ['cmma', 'then', 'antibiotics', 'cmma'],\n",
       " ['was', 'taking', 'them', 'prd'],\n",
       " ['I', 'was', 'done', 'cmma'],\n",
       " ['with', 'a', 'vengeance', 'cmma'],\n",
       " ['leaving', 'indented', 'scars', 'prd'],\n",
       " ['scars', 'prd', 'I', 'snglqt'],\n",
       " ['read', 'you', 'haven', 'snglqt'],\n",
       " ['now', 'that', 'you', 'snglqt'],\n",
       " ['snglqt', 're', 'done', 'prd'],\n",
       " ['it', 'takes', 'time', 'cmma'],\n",
       " ['normal', 'for', 'you', 'prd'],\n",
       " ['parts', 'for', 'me', 'prd'],\n",
       " ['since', 'you', 'stopped', 'qstn'],\n",
       " ['that', 'the', 'word', 'snglqt'],\n",
       " ['word', 'snglqt', 'doxx', 'snglqt'],\n",
       " ['means', 'to', 'bully', 'qstn'],\n",
       " ['the', 'word', 'lmao', 'prd'],\n",
       " ['out', 'of', 'me', 'prd'],\n",
       " ['me', 'prd', 'Phew', 'xclm'],\n",
       " ['to', 'read', 'you', 'snglqt'],\n",
       " ['well', 'with', 'it', 'xclm'],\n",
       " ['effects', 'get', 'better', 'prd'],\n",
       " ['About', 'the', 'hair', 'cmma'],\n",
       " ['and', 'I', 'don', 'snglqt'],\n",
       " ['take', 'birth', 'control', 'cmma'],\n",
       " ['as', 'I', 'haven', 'snglqt'],\n",
       " ['a', 'while', 'now', 'prd'],\n",
       " ['now', 'prd', 'I', 'snglqt'],\n",
       " ['other', 'possible', 'reason', 'lftparen'],\n",
       " ['2', 'weeks', 'in', 'rghtparen'],\n",
       " ['weeks', 'in', 'rghtparen', 'prd'],\n",
       " ['At', 'least', 'I', 'snglqt'],\n",
       " ['not', 'losing', 'hair', 'cmma'],\n",
       " ['I', 'guess', 'that', 'snglqt'],\n",
       " ['the', 'positive', 'side', 'lftparen'],\n",
       " ['positive', 'side', 'lftparen', 'qstn'],\n",
       " ['side', 'lftparen', 'qstn', 'rghtparen'],\n",
       " ['lftparen', 'qstn', 'rghtparen', 'prd'],\n",
       " ['rghtparen', 'prd', 'You', 'snglqt'],\n",
       " ['stopping', 'if', 'I', 'snglqt'],\n",
       " ['not', 'doing', 'good', 'prd'],\n",
       " ['I', 'think', 'I', 'snglqt'],\n",
       " ['how', 'it', 'goes', 'prd'],\n",
       " ['for', 'your', 'reply', 'coln'],\n",
       " ['your', 'reply', 'coln', 'rghtparen'],\n",
       " ['for', 'the', 'advice', 'xclm'],\n",
       " ['guess', 'I', 'didn', 'snglqt'],\n",
       " ['be', 'this', 'intense', 'cmma'],\n",
       " ['a', 'better', 'word', 'prd'],\n",
       " ['and', 'I', 'don', 'snglqt'],\n",
       " ['take', 'birth', 'control', 'cmma'],\n",
       " ['as', 'I', 'haven', 'snglqt'],\n",
       " ['a', 'while', 'now', 'prd'],\n",
       " ['now', 'prd', 'I', 'snglqt'],\n",
       " ['other', 'possible', 'reason', 'lftparen'],\n",
       " ['2', 'weeks', 'in', 'rghtparen'],\n",
       " ['weeks', 'in', 'rghtparen', 'prd'],\n",
       " ['rghtparen', 'prd', 'I', 'snglqt'],\n",
       " ['with', 'the', 'aches', 'prd'],\n",
       " ['for', 'the', 'advice', 'coln'],\n",
       " ['the', 'advice', 'coln', 'rghtparen'],\n",
       " ['with', 'it', 'today', 'xclm'],\n",
       " ['today', 'xclm', 'That', 'snglqt'],\n",
       " ['snglqt', 's', 'awesome', 'xclm'],\n",
       " ['reassuring', 'words', 'Sure', 'xclm'],\n",
       " ['Sure', 'xclm', 'I', 'snglqt'],\n",
       " ['only', '95', 'lbs', 'prd'],\n",
       " ['lbs', 'prd', 'I', 'snglqt'],\n",
       " ['d', 'say', 'it', 'snglqt'],\n",
       " ['for', 'somebody', 'who', 'snglqt'],\n",
       " ['s', 'like', '160lbs', 'prd'],\n",
       " ['actually', 'be', 'awesome', 'cmma'],\n",
       " ['cmma', 'and', 'I', 'snglqt'],\n",
       " ['add', 'some', 'fruits', 'prd'],\n",
       " ['fruits', 'prd', 'I', 'snglqt'],\n",
       " ['this', 'haha', 'That', 'snglqt'],\n",
       " ['also', 'really', 'nice', 'cmma'],\n",
       " ['for', 'the', 'suggestion', 'xclm'],\n",
       " ['the', 'cut', 'wasn', 'snglqt'],\n",
       " ['t', 'too', 'much', 'xclm'],\n",
       " ['Ohh', 'nice', 'options', 'xclm'],\n",
       " ['favorite', 'fruits', 'also', 'cmma'],\n",
       " ['cmma', 'I', 'can', 'snglqt'],\n",
       " ['believe', 'I', 'didn', 'snglqt'],\n",
       " ['think', 'of', 'them', 'xclm'],\n",
       " ['for', 'your', 'reply', 'xclm'],\n",
       " ['was', 'very', 'informative', 'cmma'],\n",
       " ['cmma', 'and', 'I', 'snglqt'],\n",
       " ['are', 'seeking', 'treatment', 'coln'],\n",
       " ['seeking', 'treatment', 'coln', 'rghtparen'],\n",
       " ['treatment', 'coln', 'rghtparen', 'prd'],\n",
       " ['prd', 'Thank', 'you', 'xclm'],\n",
       " ['you', 'xclm', 'I', 'snglqt'],\n",
       " ['to', 'hear', 'that', 'xclm'],\n",
       " ['of', 'the', 'treatment', 'prd'],\n",
       " ['before', 'the', 'test', 'prd'],\n",
       " ['I', 'live', 'they', 'snglqt'],\n",
       " ['in', 'the', 'morning', 'cmma'],\n",
       " ['because', 'of', 'sleeping', 'prd'],\n",
       " ['get', 'it', 'done', 'cmma'],\n",
       " ['done', 'cmma', 'I', 'snglqt'],\n",
       " ['will', 'tell', 'you', 'prd'],\n",
       " ['prd', 'Where', 'I', 'snglqt'],\n",
       " ['m', 'at', 'it', 'snglqt'],\n",
       " ['at', 'the', 'hospital', 'cmma'],\n",
       " ['derm', 'to', 'review', 'prd'],\n",
       " ['keep', 'your', 'curls', 'qstn'],\n",
       " ['curls', 'qstn', 'I', 'snglqt'],\n",
       " ['currently', 'and', 'I', 'snglqt'],\n",
       " ['waves', 'or', 'frizz', 'prd'],\n",
       " ['guess', 'I', 'don', 'snglqt'],\n",
       " ['treatment', 'but', 'I', 'snglqt'],\n",
       " ['to', 'be', 'permanent', 'prd'],\n",
       " ['people', 'act', 'irrationally', 'cmma'],\n",
       " ['intelligence', 'and', 'empathy', 'prd'],\n",
       " ['in', 'that', 'sense', 'prd'],\n",
       " ['girls', 'and', 'women', 'cmma'],\n",
       " ['cmma', 'so', 'I', 'snglqt'],\n",
       " ['may', 'have', 'it', 'cmma'],\n",
       " ['based', 'on', 'Eugenia', 'snglqt'],\n",
       " ['behaviors', 'and', 'reactions', 'prd'],\n",
       " ['totally', 'wrong', 'though', 'cmma'],\n",
       " ['love', 'to', 'read', 'coln'],\n",
       " ['to', 'read', 'coln', 'rghtparen'],\n",
       " ['rghtparen', 'I', 'didn', 'snglqt'],\n",
       " ['didn', 'snglqt', 't', 'cmma'],\n",
       " ['no', 'worries', 'That', 'snglqt'],\n",
       " ['snglqt', 's', 'true', 'prd'],\n",
       " ['to', 'other', 'people', 'snglqt'],\n",
       " ['refuse', 'voluntary', 'treatment', 'prd'],\n",
       " ['treatment', 'prd', 'That', 'snglqt'],\n",
       " ['relieving', 'to', 'read', 'xclm'],\n",
       " ['love', 'for', 'her', 'prd'],\n",
       " ['see', 'her', 'thrive', 'prd'],\n",
       " ['such', 'a', 'gorgeous', 'cmma'],\n",
       " ['smile', 'last', 'year', 'prd'],\n",
       " ['last', 'year', 'prd', 'prd'],\n",
       " ['year', 'prd', 'prd', 'prd'],\n",
       " ['a', 'better', 'place', 'lftparen'],\n",
       " ['physically', 'and', 'mentally', 'rghtparen'],\n",
       " ['smile', 'came', 'back', 'prd'],\n",
       " ['it', 'goes', 'away', 'xclm'],\n",
       " ['away', 'xclm', 'I', 'snglqt'],\n",
       " ['ll', 'try', 'that', 'cmma'],\n",
       " ['cmma', 'thank', 'you', 'coln'],\n",
       " ['thank', 'you', 'coln', 'rghtparen'],\n",
       " ['to', 'hurt', 'others', 'prd'],\n",
       " ['higher', 'than', 'mine', 'cmma'],\n",
       " ['in', 'any', 'way', 'cmma'],\n",
       " ['a', 'hostile', 'environment', 'prd'],\n",
       " ['family', 'was', 'unsettling', 'cmma'],\n",
       " ['say', 'the', 'least', 'prd'],\n",
       " ['went', 'through', 'that', 'prd'],\n",
       " ['by', 'that', 'still', 'prd'],\n",
       " ['still', 'prd', 'I', 'snglqt'],\n",
       " ['through', 'the', 'screen', 'prd'],\n",
       " ['a', 'different', 'room', 'prd'],\n",
       " ['standard', 'procedure', 'nowadays', 'cmma'],\n",
       " ['some', 'places', 'aren', 'snglqt'],\n",
       " ['snglqt', 't', 'great', 'prd'],\n",
       " ['reading', 'our', 'experiences', 'prd'],\n",
       " ['experiences', 'prd', 'It', 'snglqt'],\n",
       " ['s', 'something', 'I', 'snglqt'],\n",
       " ['since', 'I', 'posted', 'prd'],\n",
       " ['nothing', 'like', 'this', 'prd'],\n",
       " ['of', 'the', 'cases', 'cmma'],\n",
       " ['with', 'different', 'issues', 'prd'],\n",
       " ['there', 'to', 'cooperate', 'cmma'],\n",
       " ['try', 'to', 'change', 'prd'],\n",
       " ['ask', 'for', 'help', 'prd'],\n",
       " ['like', 'our', 'experiences', 'prd'],\n",
       " ['I', 'know', 'who', 'snglqt'],\n",
       " ['much', 'better', 'experience', 'prd'],\n",
       " ['experience', 'prd', 'I', 'snglqt'],\n",
       " ['out', 'if', 'it', 'xclm'],\n",
       " ['I', 'hope', 'you', 'snglqt'],\n",
       " ['re', 'doing', 'better', 'coln'],\n",
       " ['doing', 'better', 'coln', 'rghtparen'],\n",
       " ['other', 'patients', 'aren', 'snglqt'],\n",
       " ['aren', 'snglqt', 't', 'prd'],\n",
       " ['For', 'anorexia', 'patients', 'cmma'],\n",
       " ['admitting', 'she', 'wasn', 'snglqt'],\n",
       " ['completely', 'disarms', 'her', 'prd'],\n",
       " ['Kairi', 'weight', 'naturally', 'prd'],\n",
       " ['naturally', 'prd', 'It', 'snglqt'],\n",
       " ['faade', 'of', 'control', 'prd'],\n",
       " ['you', 'for', 'reading', 'coln'],\n",
       " ['for', 'reading', 'coln', 'rghtparen'],\n",
       " ['triggering', 'for', 'her', 'prd'],\n",
       " ['prd', 'I', 'don', 'snglqt'],\n",
       " ['a', 'good', 'idea', 'prd'],\n",
       " ['anything', 'like', 'that', 'prd'],\n",
       " ['on', 'a', 'high', 'prd'],\n",
       " ['me', 'at', 'least', 'prd'],\n",
       " ['lots', 'of', 'energy', 'cmma'],\n",
       " ['nothing', 'all', 'day', 'prd'],\n",
       " ['had', 'like', 'a', 'dblqt'],\n",
       " ['a', 'dblqt', 'crash', 'dblqt'],\n",
       " ['slept', 'all', 'day', 'cmma'],\n",
       " ['on', 'a', 'high', 'prd'],\n",
       " ['Thanks', 'for', 'replying', 'xclm'],\n",
       " ['In', 'my', 'case', 'cmma'],\n",
       " ['the', 'third', 'week', 'prd'],\n",
       " ['week', 'prd', 'I', 'snglqt'],\n",
       " ['get', 'them', 'back', 'prd'],\n",
       " ['its', 'thing', 'too', 'xclm'],\n",
       " ['think', 'so', 'too', 'prd'],\n",
       " ['or', 'another', 'addiction', 'prd'],\n",
       " ['personally', 'think', 'she', 'snglqt'],\n",
       " ['every', 'video', 'I', 'snglqt'],\n",
       " ['seen', 'her', 'talk', 'prd'],\n",
       " ['prd', 'She', 'doesn', 'snglqt'],\n",
       " ['an', 'average', 'IQ', 'lftparen'],\n",
       " ['an', 'insulting', 'way', 'rghtparen'],\n",
       " ['insulting', 'way', 'rghtparen', 'prd'],\n",
       " ['prd', 'I', 'don', 'snglqt'],\n",
       " ['t', 'think', 'she', 'snglqt'],\n",
       " ['like', 'people', 'say', 'cmma'],\n",
       " ['say', 'cmma', 'it', 'snglqt'],\n",
       " ['that', 'she', 'isn', 'snglqt'],\n",
       " ['snglqt', 't', 'intelligent', 'prd'],\n",
       " ['prd', 'Thanks', 'Yes', 'cmma'],\n",
       " ['things', 'like', 'this', 'prd'],\n",
       " ['non', 'binary', 'person', 'prd'],\n",
       " ['prd', 'What', 'for', 'qstn'],\n",
       " ['a', 'therapist', 'asap', 'prd'],\n",
       " ['strong', 'immune', 'system', 'prd'],\n",
       " ['prd', 'I', 'haven', 'snglqt'],\n",
       " ['I', 'was', '12', 'cmma'],\n",
       " ['cmma', 'and', 'I', 'snglqt'],\n",
       " ['m', '28', 'now', 'prd'],\n",
       " ['all', 'these', 'years', 'cmma'],\n",
       " ['years', 'cmma', 'I', 'snglqt'],\n",
       " ['people', 'with', 'tonsillitis', 'cmma'],\n",
       " ['cmma', 'the', 'flu', 'cmma'],\n",
       " ['never', 'get', 'them', 'prd'],\n",
       " ['them', 'prd', 'I', 'snglqt'],\n",
       " ['eat', 'but', 'otherwise', 'cmma'],\n",
       " ['cmma', 'no', 'clue', 'prd'],\n",
       " ['Depends', 'if', 'it', 'snglqt'],\n",
       " ['against', 'your', 'will', 'prd'],\n",
       " ['If', 'by', 'choice', 'cmma'],\n",
       " ['choice', 'cmma', 'I', 'snglqt'],\n",
       " ['things', 'you', 'like', 'cmma'],\n",
       " ['in', 'your', 'work', 'cmma'],\n",
       " ['your', 'own', 'company', 'prd'],\n",
       " ['prd', 'If', 'it', 'snglqt'],\n",
       " ['of', 'the', 'circumstances', 'cmma'],\n",
       " ['always', 'change', 'that', 'prd'],\n",
       " ['sport', 'or', 'hobby', 'lftparen'],\n",
       " ['as', 'painting', 'lessons', 'rghtparen'],\n",
       " ['painting', 'lessons', 'rghtparen', 'prd'],\n",
       " ['and', 'not', 'forced', 'prd'],\n",
       " ['forced', 'prd', 'Yes', 'cmma'],\n",
       " ['used', 'to', 'too', 'cmma'],\n",
       " ['cmma', 'before', 'electricity', 'prd'],\n",
       " ['prd', 'Thank', 'you', 'xclm'],\n",
       " ['xclm', 'I', 'didn', 'snglqt'],\n",
       " ['t', 'know', 'that', 'prd'],\n",
       " ['the', 'texture', 'changes', 'prd'],\n",
       " ['10', 'years', 'old', 'prd'],\n",
       " ['prd', 'I', 'don', 'snglqt'],\n",
       " ['way', 'to', 'know', 'prd'],\n",
       " ['all', 'we', 'know', 'prd'],\n",
       " ['prd', 'I', 'don', 'snglqt'],\n",
       " ['prove', 'I', 'haven', 'snglqt'],\n",
       " ['to', 'write', 'this', 'prd'],\n",
       " ['are', 'actual', 'people', 'prd'],\n",
       " ['people', 'prd', 'I', 'snglqt'],\n",
       " ['thought', 'I', 'mustn', 'snglqt'],\n",
       " ['sane', 'if', 'I', 'snglqt'],\n",
       " ['myself', 'these', 'questions', 'cmma'],\n",
       " ['perhaps', 'they', 'aren', 'snglqt'],\n",
       " ['t', 'as', 'uncommon', 'prd'],\n",
       " ['uncommon', 'prd', 'It', 'snglqt'],\n",
       " ['patients', 'before', 'prescribing', 'prd'],\n",
       " ['in', 'some', 'patients', 'prd'],\n",
       " ['prd', 'Thank', 'you', 'cmma'],\n",
       " ['you', 'cmma', 'I', 'snglqt'],\n",
       " ['try', 'an', 'oil', 'prd'],\n",
       " ['my', 'curls', 'disappear', 'prd'],\n",
       " ['disappear', 'prd', 'I', 'snglqt'],\n",
       " ['in', 'texture', 'didn', 'snglqt'],\n",
       " ['after', 'stopping', 'accutane', 'cmma'],\n",
       " ['cmma', 'so', 'I', 'snglqt'],\n",
       " ['a', 'little', 'paranoid', 'prd'],\n",
       " ['paranoid', 'prd', 'I', 'snglqt'],\n",
       " ['experiencing', 'dry', 'lips', 'cmma'],\n",
       " ['cmma', 'flaky', 'skin', 'cmma'],\n",
       " ['and', 'itchy', 'scalp', 'lftparen'],\n",
       " ['in', 'my', 'case', 'rghtparen'],\n",
       " ['my', 'case', 'rghtparen', 'prd'],\n",
       " ['prd', 'But', 'there', 'snglqt'],\n",
       " ['an', 'extra', 'that', 'snglqt'],\n",
       " ['me', 'consider', 'stopping', 'coln'],\n",
       " ['stopping', 'coln', 'I', 'snglqt'],\n",
       " ['of', 'facial', 'hair', 'lftparen'],\n",
       " ['hair', 'lftparen', 'I', 'snglqt'],\n",
       " ['m', 'a', 'girl', 'rghtparen'],\n",
       " ['a', 'girl', 'rghtparen', 'prd'],\n",
       " ['prd', 'And', 'it', 'snglqt'],\n",
       " ['definitely', 'the', 'accutane', 'cmma'],\n",
       " ['cmma', 'as', 'I', 'snglqt'],\n",
       " ['sex', 'and', 'age', 'prd'],\n",
       " ['long', 'and', 'curly', 'cmma'],\n",
       " ['and', 'growing', 'fast', 'prd'],\n",
       " ['prd', 'But', 'yeah', 'cmma'],\n",
       " ['me', 'really', 'worried', 'prd'],\n",
       " ['away', 'after', 'treatment', 'cmma'],\n",
       " ['me', 'freaking', 'out', 'prd'],\n",
       " ['it', 'went', 'away', 'cmma'],\n",
       " ['body', 'will', 'react', 'prd'],\n",
       " ['and', 'flaky', 'skin', 'cmma'],\n",
       " ['for', 'face', 'redness', 'prd'],\n",
       " ['be', 'the', 'accutane', 'prd'],\n",
       " ['accutane', 'prd', 'It', 'snglqt'],\n",
       " ['too', 'and', 'there', 'snglqt'],\n",
       " ['no', 'other', 'reason', 'lftparen'],\n",
       " ['normal', 'and', 'I', 'snglqt'],\n",
       " ['control', 'as', 'I', 'snglqt'],\n",
       " ['not', 'having', 'sex', 'rghtparen'],\n",
       " ['having', 'sex', 'rghtparen', 'prd'],\n",
       " ['rare', 'side', 'effect', 'prd'],\n",
       " ['effect', 'prd', 'I', 'snglqt'],\n",
       " ['to', 'my', 'jawline', 'cmma'],\n",
       " ['black', 'and', 'thick', 'prd'],\n",
       " ['thick', 'prd', 'I', 'snglqt'],\n",
       " ['m', 'super', 'worried', 'prd'],\n",
       " ['in', 'your', 'case', 'qstn'],\n",
       " ['I', 'hope', 'you', 'snglqt'],\n",
       " ['because', 'of', 'this', 'prd'],\n",
       " ['this', 'prd', 'x200B', 'smicln'],\n",
       " ['x200B', 'smicln', 'Edit', 'coln'],\n",
       " ['days', 'ago', 'haha', 'prd'],\n",
       " ['we', 'have', 'confirmation', 'prd'],\n",
       " ['I', 'hope', 'it', 'snglqt'],\n",
       " ['treatment', 'is', 'over', 'prd'],\n",
       " ['for', 'your', 'reply', 'xclm'],\n",
       " ['reply', 'xclm', 'I', 'snglqt'],\n",
       " ['will', 'try', 'threading', 'coln'],\n",
       " ['try', 'threading', 'coln', 'rghtparen'],\n",
       " ['for', 'the', 'response', 'xclm'],\n",
       " ['maximum', 'length', 'then', 'cmma'],\n",
       " ['cmma', 'as', 'I', 'snglqt'],\n",
       " ['a', 'balanced', 'diet', 'prd'],\n",
       " ['diet', 'prd', 'Congrats', 'xclm'],\n",
       " ['look', 'so', 'good', 'xclm'],\n",
       " ['so', 'good', 'xclm', 'xclm'],\n",
       " ['have', 'a', 'question', 'cmma'],\n",
       " ['cmma', 'because', 'it', 'snglqt'],\n",
       " ['me', 'and', 'I', 'snglqt'],\n",
       " ['anxious', 'about', 'it', 'coln'],\n",
       " ['sideburns', 'and', 'cheeks', 'qstn'],\n",
       " ['qstn', 'If', 'so', 'cmma'],\n",
       " ['away', 'after', 'treatment', 'qstn'],\n",
       " ['qstn', 'Thank', 'you', 'coln'],\n",
       " ['Thank', 'you', 'coln', 'rghtparen'],\n",
       " ['has', 'my', 'sword', 'xclm'],\n",
       " ['sword', 'xclm', 'That', 'snglqt'],\n",
       " ['a', 'no', 'no', 'cmma'],\n",
       " ['to', 'my', 'derm', 'prd'],\n",
       " ['wound', 'after', 'all', 'cmma'],\n",
       " ['leave', 'a', 'scar', 'prd'],\n",
       " ['prd', 'Looking', 'great', 'xclm'],\n",
       " ['great', 'xclm', 'Congrats', 'xclm'],\n",
       " ['for', 'your', 'reply', 'xclm'],\n",
       " ['reply', 'xclm', 'I', 'snglqt'],\n",
       " ['for', 'accutane', 'users', 'cmma'],\n",
       " ['but', 'I', 'don', 'snglqt'],\n",
       " ['it', 'at', 'all', 'cmma'],\n",
       " ['of', 'the', 'skin', 'lftparen'],\n",
       " ['the', 'outer', 'layer', 'rghtparen'],\n",
       " ['outer', 'layer', 'rghtparen', 'cmma'],\n",
       " ['cmma', 'so', 'I', 'snglqt'],\n",
       " ['out', 'those', 'products', 'coln'],\n",
       " ['those', 'products', 'coln', 'rghtparen'],\n",
       " ['will', 'go', 'away', 'xclm'],\n",
       " ['long', 'and', 'it', 'snglqt'],\n",
       " ['been', 'a', 'month', 'xclm'],\n",
       " ['dark', 'hair', 'it', 'snglqt'],\n",
       " ['consider', 'stopping', 'treatment', 'prd'],\n",
       " ['this', 'second', 'round', 'coln'],\n",
       " ['second', 'round', 'coln', 'rghtparen'],\n",
       " ['I', 'hope', 'it', 'snglqt'],\n",
       " ['and', 'it', 'doesn', 'snglqt'],\n",
       " ['make', 'you', 'insecure', 'prd'],\n",
       " ['be', 'this', 'then', 'prd'],\n",
       " ['reason', 'why', 'it', 'snglqt'],\n",
       " ['to', 'me', 'either', 'coln'],\n",
       " ['me', 'either', 'coln', 'prd'],\n",
       " ['the', 'normal', 'range', 'prd'],\n",
       " ['range', 'prd', 'I', 'snglqt'],\n",
       " ['my', 'next', 'appointment', 'cmma'],\n",
       " ['cmma', 'but', 'it', 'snglqt'],\n",
       " ['in', '2', 'months', 'prd'],\n",
       " ['hope', 'it', 'won', 'snglqt'],\n",
       " ['until', 'then', 'UU', 'prd']]"
      ]
     },
     "execution_count": 47,
     "metadata": {},
     "output_type": "execute_result"
    }
   ],
   "source": [
    "transactions"
   ]
  },
  {
   "cell_type": "code",
   "execution_count": 49,
   "metadata": {},
   "outputs": [
    {
     "data": {
      "text/plain": [
       "695"
      ]
     },
     "execution_count": 49,
     "metadata": {},
     "output_type": "execute_result"
    }
   ],
   "source": [
    "len(transactions)"
   ]
  },
  {
   "cell_type": "code",
   "execution_count": 51,
   "metadata": {},
   "outputs": [
    {
     "name": "stderr",
     "output_type": "stream",
     "text": [
      "/Users/genevieverowe/anaconda/lib/python3.6/site-packages/ipykernel_launcher.py:10: TqdmDeprecationWarning: This function will be removed in tqdm==5.0.0\n",
      "Please use `tqdm.notebook.tqdm` instead of `tqdm.tqdm_notebook`\n",
      "  # Remove the CWD from sys.path while we load stuff.\n",
      "Widget Javascript not detected.  It may not be installed or enabled properly.\n"
     ]
    },
    {
     "data": {
      "application/vnd.jupyter.widget-view+json": {
       "model_id": "887ca0d081c948528cddb04d33f430e9"
      }
     },
     "metadata": {},
     "output_type": "display_data"
    },
    {
     "name": "stdout",
     "output_type": "stream",
     "text": [
      "\n"
     ]
    },
    {
     "name": "stderr",
     "output_type": "stream",
     "text": [
      "/Users/genevieverowe/anaconda/lib/python3.6/site-packages/ipykernel_launcher.py:20: TqdmDeprecationWarning: This function will be removed in tqdm==5.0.0\n",
      "Please use `tqdm.notebook.tqdm` instead of `tqdm.tqdm_notebook`\n",
      "Widget Javascript not detected.  It may not be installed or enabled properly.\n"
     ]
    },
    {
     "data": {
      "application/vnd.jupyter.widget-view+json": {
       "model_id": "1688e8bf658a439b96467365e9ed901d"
      }
     },
     "metadata": {},
     "output_type": "display_data"
    },
    {
     "name": "stdout",
     "output_type": "stream",
     "text": [
      "\n"
     ]
    }
   ],
   "source": [
    "t = pre_fp(samp)"
   ]
  },
  {
   "cell_type": "code",
   "execution_count": 52,
   "metadata": {},
   "outputs": [
    {
     "data": {
      "text/plain": [
       "7190"
      ]
     },
     "execution_count": 52,
     "metadata": {},
     "output_type": "execute_result"
    }
   ],
   "source": [
    "len(t)"
   ]
  },
  {
   "cell_type": "code",
   "execution_count": 53,
   "metadata": {},
   "outputs": [
    {
     "data": {
      "text/plain": [
       "[['are', 'coming', 'from', 'dsh'],\n",
       " ['It', 'just', 'doesn', 'snglqt'],\n",
       " ['t', 'explain', 'today', 'snglqt'],\n",
       " ['from', 'her', 'bf', 'qstn'],\n",
       " ['Like', 'I', 'said', 'cmma'],\n",
       " ['as', 'fuck', 'action', 'prd'],\n",
       " ['them', 'then', 'yes', 'prd'],\n",
       " ['yes', 'prd', 'Derp', 'prd'],\n",
       " ['was', 'pretty', 'awful', 'prd'],\n",
       " ['a', '15km', 'range', 'prd'],\n",
       " ['and', 'needed', 'help', 'prd'],\n",
       " ['back', 'and', 'forth', 'prd'],\n",
       " ['want', 'to', 'say', 'cmma'],\n",
       " ['Facebook', 'and', 'Google', 'prd'],\n",
       " ['she', 'never', 'helped', 'cmma'],\n",
       " ['as', 'a', 'friend', 'cmma'],\n",
       " ['so', 'much', 'trouble', 'prd'],\n",
       " ['in', 'the', 'house', 'prd'],\n",
       " ['prd', 'But', 'hey', 'cmma'],\n",
       " ['to', 'be', 'attracted', 'prd'],\n",
       " ['be', 'attracted', 'prd', 'prd'],\n",
       " ['attracted', 'prd', 'prd', 'prd'],\n",
       " ['prd', 'prd', 'Edit', 'coln'],\n",
       " ['in', 'the', 'statecountry', 'prd'],\n",
       " ['change', 'of', 'everything', 'prd'],\n",
       " ['didnt', 'work', 'out', 'prd'],\n",
       " ['been', '8', 'years', 'prd'],\n",
       " ['kids', 'or', 'married', 'prd'],\n",
       " ['is', 'your', 'destiny', 'prd'],\n",
       " ['to', 'the', 'naysayers', 'prd'],\n",
       " ['prd', 'Youre', '20', 'cmma'],\n",
       " ['cmma', 'hes', '24', 'prd'],\n",
       " ['As', 'a', '24M', 'cmma'],\n",
       " ['home', '25', 'hrsweek', 'prd'],\n",
       " ['out', 'and', 'social', 'cmma'],\n",
       " ['after', 'a', 'shift', 'cmma'],\n",
       " ['lag', 'every', 'time', 'prd'],\n",
       " ['hard', 'on', 'him', 'cmma'],\n",
       " ['if', 'hes', 'working', 'prd'],\n",
       " ['are', 'highest', 'spreader', 'coln'],\n",
       " ['spreader', 'coln', 'Edit', 'coln'],\n",
       " ['wasnt', 'lockdown', 'era', 'cmma'],\n",
       " ['others', 'were', 'right', 'cmma'],\n",
       " ['during', 'this', 'time', 'prd'],\n",
       " ['in', 'my', 'Pants', 'qstn'],\n",
       " ['I', 'learned', 'Tinder', 'prd'],\n",
       " ['Tinder', 'prd', 'Wow', 'prd'],\n",
       " ['a', 'single', 'site', 'cmma'],\n",
       " ['where', 'I', 'am', 'prd'],\n",
       " ['was', 'way', 'easier', 'cmma'],\n",
       " ['still', 'a', 'child', 'prd'],\n",
       " ['of', 'our', 'parents', 'prd'],\n",
       " ['16', 'year', 'old', 'prd'],\n",
       " ['found', 'it', 'weird', 'prd'],\n",
       " ['same', 'age', 'mentally', 'prd'],\n",
       " ['prd', 'Absolutely', 'not', 'prd'],\n",
       " ['agree', 'to', 'that', 'prd'],\n",
       " ['of', '20', 'days', 'prd'],\n",
       " ['online', 'dating', 'matches', 'prd'],\n",
       " ['matches', 'prd', 'Eh', 'cmma'],\n",
       " ['my', 'thread', 'out', 'prd'],\n",
       " ['be', 'any', 'worse', 'cmma'],\n",
       " ['worse', 'cmma', 'cmon', 'qstn'],\n",
       " ['the', 'past', 'year', 'prd'],\n",
       " ['had', 'been', '8', 'dsh'],\n",
       " ['was', 'with', 'them', 'prd'],\n",
       " ['off', 'your', 'radar', 'prd'],\n",
       " ['and', 'move', 'on', 'cmma'],\n",
       " ['on', 'yourself', 'development', 'prd'],\n",
       " ['with', 'your', 'ex', 'prd'],\n",
       " ['Its', 'pretty', 'fluid', 'prd'],\n",
       " ['people', 'to', 'date', 'prd'],\n",
       " ['date', 'prd', '24M', 'prd'],\n",
       " ['and', 'online', 'LDR', 'prd'],\n",
       " ['to', 'your', 'peersaverage', 'prd'],\n",
       " ['2012', 'not', '2015', 'prd'],\n",
       " ['2015', 'prd', '18', 'dsh'],\n",
       " ['age', 'range', 'possible', 'prd'],\n",
       " ['god', 'awful', 'experience', 'prd'],\n",
       " ['experience', 'prd', 'Well', 'cmma'],\n",
       " ['the', 'thing', 'is', 'coln'],\n",
       " ['in', 'a', 'relationship', 'cmma'],\n",
       " ['talking', 'terms', 'since', 'prd'],\n",
       " ['like', 'full', 'sex', 'lftparen'],\n",
       " ['lftparen', 'she', 'cant', 'cmma'],\n",
       " ['felt', 'comfortable', 'enough', 'rghtparen'],\n",
       " ['comfortable', 'enough', 'rghtparen', 'cmma'],\n",
       " ['not', 'thinking', 'straight', 'prd'],\n",
       " ['bad', 'previous', 'experience', 'prd'],\n",
       " ['after', 'so', 'long', 'cmma'],\n",
       " ['almost', '9', 'years', 'cmma'],\n",
       " ['kids', 'and', 'stuff', 'prd'],\n",
       " ['with', 'this', 'coronavirus', 'prd'],\n",
       " ['crushgf', 'screwed', 'me', 'prd'],\n",
       " ['rebound', 'from', 'that', 'cmma'],\n",
       " ['up', 'with', 'me', 'prd'],\n",
       " ['signs', 'were', 'true', 'prd'],\n",
       " ['dated', 'via', 'Facebook', 'prd'],\n",
       " ['always', 'preferred', 'text', 'prd'],\n",
       " ['a', 'specialdateactivity', 'night', 'prd'],\n",
       " ['love', 'kitchen', 'work', 'prd'],\n",
       " ['leave', 'the', 'dishes', 'prd'],\n",
       " ['dishes', 'prd', 'It', 'snglqt'],\n",
       " ['the', 'longest', 'time', 'prd'],\n",
       " ['longest', 'time', 'prd', 'dblqt'],\n",
       " ['prd', 'dblqt', 'Neckbeards', 'dblqt'],\n",
       " ['had', 'been', 'neglected', 'cmma'],\n",
       " ['artificial', 'social', 'atmospheres', 'lftparen'],\n",
       " ['atmospheres', 'lftparen', 'I', 'prd'],\n",
       " ['I', 'prd', 'E', 'cmma'],\n",
       " ['games', 'and', 'anime', 'rghtparen'],\n",
       " ['and', 'anime', 'rghtparen', 'prd'],\n",
       " ['are', 'socially', 'repressed', 'cmma'],\n",
       " ['attire', 'and', 'fashion', 'prd'],\n",
       " ['fashion', 'prd', 'However', 'cmma'],\n",
       " ['for', 'computer', 'science', 'cmma'],\n",
       " ['day', 'computer', 'scientists', 'prd'],\n",
       " ['computer', 'scientists', 'prd', 'dblqt'],\n",
       " ['prd', 'dblqt', 'What', 'snglqt'],\n",
       " ['snglqt', 's', 'Guichi', 'qstn'],\n",
       " ['s', 'Guichi', 'qstn', 'dblqt'],\n",
       " ['was', 'first', 'used', 'cmma'],\n",
       " ['now', 'I', 'can', 'snglqt'],\n",
       " ['snglqt', 't', 'stop', 'prd'],\n",
       " ['stop', 'prd', 'Most', 'cmma'],\n",
       " ['cmma', 'I', 'assume', 'cmma'],\n",
       " ['they', 'are', 'dating', 'smicln'],\n",
       " ['dating', 'smicln', 'however', 'cmma'],\n",
       " ['through', 'social', 'cuesnon', 'dsh'],\n",
       " ['something', 'is', 'suspicious', 'prd'],\n",
       " ['rpolls', 'My', 'grandmother', 'snglqt'],\n",
       " ['the', 'nervous', 'system', 'cmma'],\n",
       " ['by', 'the', 'brain', 'prd'],\n",
       " ['fatal', 'injury', 'occurs', 'cmma'],\n",
       " ['brain', 'anticipates', 'fatality', 'prd'],\n",
       " ['anticipates', 'fatality', 'prd', 'dsh'],\n",
       " ['of', 'the', 'brain', 'smicln'],\n",
       " ['as', 'possible', 'during', 'cmma'],\n",
       " ['a', 'traumatic', 'event', 'prd'],\n",
       " ['traumatic', 'event', 'prd', 'dsh'],\n",
       " ['This', 'is', 'shock', 'prd'],\n",
       " ['shock', 'prd', 'However', 'smicln'],\n",
       " ['too', 'much', 'blood', 'cmma'],\n",
       " ['to', 'brainnervous', 'system', 'cmma'],\n",
       " ['primary', 'organ', 'failure', 'coln'],\n",
       " ['the', 'heart', 'beating', 'prd'],\n",
       " ['sound', 'like', 'this', 'coln'],\n",
       " ['like', 'this', 'coln', 'qstn'],\n",
       " ['coln', 'qstn', 'https', 'coln'],\n",
       " ['https', 'coln', 'www', 'prd'],\n",
       " ['www', 'prd', 'youtube', 'prd'],\n",
       " ['youtube', 'prd', 'comwatch', 'qstn'],\n",
       " ['comwatch', 'qstn', 'vL6aToEhIKo', 'lftparen'],\n",
       " ['vL6aToEhIKo', 'lftparen', 'https', 'coln'],\n",
       " ['https', 'coln', 'www', 'prd'],\n",
       " ['www', 'prd', 'youtube', 'prd'],\n",
       " ['youtube', 'prd', 'comwatch', 'qstn'],\n",
       " ['comwatch', 'qstn', 'vL6aToEhIKo', 'rghtparen'],\n",
       " ['honest', 'with', 'yourself', 'cmma'],\n",
       " ['with', 'your', 'partner', 'prd'],\n",
       " ['her', 'previous', 'partners', 'cmma'],\n",
       " ['first', 'sexual', 'contacts', 'qstn'],\n",
       " ['with', 'your', 'partner', 'dsh'],\n",
       " ['partner', 'dsh', 'don', 'snglqt'],\n",
       " ['let', 'them', 'grow', 'prd'],\n",
       " ['a', 'similar', 'answer', 'coln'],\n",
       " ['answer', 'coln', '6', 'prd'],\n",
       " ['6', 'prd', '611556E23', 'smicln'],\n",
       " ['six', 'hundred', 'sixty', 'dsh'],\n",
       " ['dsh', 'one', 'sextillion', 'cmma'],\n",
       " ['one', 'hundred', 'fifty', 'dsh'],\n",
       " ['dsh', 'five', 'quintillion', 'cmma'],\n",
       " ['Fiberglass', 'itself', 'isn', 'snglqt'],\n",
       " ['of', 'a', 'material', 'smicln'],\n",
       " ['material', 'smicln', 'however', 'cmma'],\n",
       " ['such', 'as', 'polypropylene', 'prd'],\n",
       " ['as', 'polypropylene', 'prd', 'dsh'],\n",
       " ['of', 'braided', 'formation', 'cmma'],\n",
       " ['such', 'as', 'fiberglass', 'prd'],\n",
       " ['fiberglass', 'prd', 'edit', 'cmma'],\n",
       " ['as', 'fiberglass', 'ropes', 'cmma'],\n",
       " ['to', 'the', 'material', 'prd'],\n",
       " ['the', 'material', 'prd', 'dsh'],\n",
       " ['with', 'my', 'analysis', 'cmma'],\n",
       " ['injuries', 'from', 'polypropylene', 'dsh'],\n",
       " ['the', 'butterfly', 'effect', 'cmma'],\n",
       " ['every', 'single', 'action', 'smicln'],\n",
       " ['smicln', 'even', 'minute', 'cmma'],\n",
       " ['an', 'extreme', 'reaction', 'prd'],\n",
       " ['extreme', 'reaction', 'prd', 'dsh'],\n",
       " ['I', 'should', 'have', 'cmma'],\n",
       " ['cmma', 'or', 'shouldn', 'snglqt'],\n",
       " ['t', 'have', 'had', 'prd'],\n",
       " ['a', 'new', 'mindset', 'prd'],\n",
       " ['your', 'karma', 'whoring', 'prd'],\n",
       " ['some', 'fucking', 'respect', 'prd'],\n",
       " ['of', 'the', 'society', 'snglqt'],\n",
       " ['snglqt', 's', 'health', 'cmma'],\n",
       " ['wellbeing', 'of', 'others', 'prd'],\n",
       " ['of', 'others', 'prd', 'dsh'],\n",
       " ['the', 'short', 'term', 'cmma'],\n",
       " ['immorally', 'is', 'easy', 'cmma'],\n",
       " ['as', 'a', 'long', 'dsh'],\n",
       " ['dsh', 'term', 'lifestyle', 'cmma'],\n",
       " ['immorality', 'upon', 'others', 'prd'],\n",
       " ['same', 'premises', 'of', 'dblqt'],\n",
       " ['dblqt', 'Battle', 'Royale', 'dblqt'],\n",
       " ['Battle', 'Royale', 'dblqt', 'prd'],\n",
       " ['to', 'purchase', 'microtransactions', 'cmma'],\n",
       " ['cleaner', 'and', 'sleeker', 'prd'],\n",
       " ['Like', 'being', 'asleep', 'prd'],\n",
       " ['as', 'the', 'afterlife', 'qstn'],\n",
       " ['they', 'wake', 'up', 'prd'],\n",
       " ['up', 'prd', 'Rejection', 'dsh'],\n",
       " ['up', 'bad', 'guys', 'prd'],\n",
       " ['of', 'unknown', 'properties', 'cmma'],\n",
       " ['form', 'of', 'behavior', 'prd'],\n",
       " ['behavior', 'prd', '4', 'coln'],\n",
       " ['trip', 'to', 'orogen', 'prd'],\n",
       " ['orogen', 'prd', 'x200B', 'smicln'],\n",
       " ['he', 'still', 'remembers', 'dblqt'],\n",
       " ['I', 'bet', 'he', 'snglqt'],\n",
       " ['a', 'good', 'time', 'dblqt'],\n",
       " ['a', 'bombshell', 'hotty', 'cmma'],\n",
       " ['at', 'what', 'cost', 'qstn'],\n",
       " ['cost', 'qstn', 'Millions', 'prd'],\n",
       " ['an', 'extreme', 'isolationist', 'cmma'],\n",
       " ['interacting', 'in', 'society', 'prd'],\n",
       " ['respect', 'of', 'cleanliness', 'prd'],\n",
       " ['the', 'road', 'breath', 'dsh'],\n",
       " ['some', 'people', 'shouldn', 'snglqt'],\n",
       " ['broke', 'my', 'dad', 'snglqt'],\n",
       " ['have', 'a', 'fever', 'cmma'],\n",
       " ['hard', 'time', 'breathing', 'prd'],\n",
       " ['breathing', 'prd', 'x200B', 'smicln'],\n",
       " ['apnea', 'Ben', 'Shapiro', 'snglqt'],\n",
       " ['unique', 'and', 'sparse', 'smicln'],\n",
       " ['yet', 'oddly', 'composed', 'cmma'],\n",
       " ['like', 'a', 'nerdy', 'dsh'],\n",
       " ['dsh', 'middleschool', 'kid', 'smicln'],\n",
       " ['kid', 'smicln', 'however', 'cmma'],\n",
       " ['in', 'some', 'regard', 'cmma'],\n",
       " ['a', 'petty', 'argument', 'prd'],\n",
       " ['is', 'a', 'smug', 'cmma'],\n",
       " ['across', 'him', 'initially', 'cmma'],\n",
       " ['to', 'be', 'smug', 'prd'],\n",
       " ['pests', 'and', 'insects', 'prd'],\n",
       " ['and', 'insects', 'prd', 'prd'],\n",
       " ['insects', 'prd', 'prd', 'prd'],\n",
       " ['prd', 'prd', 'x200B', 'smicln'],\n",
       " ['x200B', 'smicln', 'x200B', 'smicln'],\n",
       " ['towards', 'another', 'person', 'cmma'],\n",
       " ['cmma', 'and', 'therefore', 'cmma'],\n",
       " ['mere', 'limerence', 'towards', 'smicln'],\n",
       " ['are', 'terrible', 'people', 'prd'],\n",
       " ['in', 'a', 'long', 'dsh'],\n",
       " ['dsh', 'term', 'relationship', 'prd'],\n",
       " ['miscommunication', 'and', 'dishonesty', 'prd'],\n",
       " ['of', 'the', 'language', 'cmma'],\n",
       " ['teach', 'the', 'language', 'prd'],\n",
       " ['the', 'language', 'prd', 'dsh'],\n",
       " ['prd', 'dsh', 'Although', 'cmma'],\n",
       " ['with', 'the', 'recordings', 'prd'],\n",
       " ['from', 'my', 'brother', 'cmma'],\n",
       " ['ever', 'since', 'then', 'cmma'],\n",
       " ['then', 'cmma', 'I', 'snglqt'],\n",
       " ['lower', 'than', 'high', 'prd'],\n",
       " ['Online', 'I', 'mean', 'cmma'],\n",
       " ['consists', 'of', 'the', 'dblqt'],\n",
       " ['girls', 'V', 'Monsters', 'dblqt'],\n",
       " ['Monsters', 'dblqt', 'trope', 'cmma'],\n",
       " ['pilfered', 'the', 'title', 'dblqt'],\n",
       " ['title', 'dblqt', 'Hunter', 'dblqt'],\n",
       " ['as', 'the', 'desired', 'snglqt'],\n",
       " ['desired', 'snglqt', 'end', 'dsh'],\n",
       " ['end', 'dsh', 'goal', 'snglqt'],\n",
       " ['for', 'the', 'protagonists', 'prd'],\n",
       " ['the', 'protagonists', 'prd', 'lftparen'],\n",
       " ['lftparen', 'Mind', 'you', 'cmma'],\n",
       " ['just', 'started', 'HxH', 'cmma'],\n",
       " ['may', 'be', 'inaccurate', 'rghtparen'],\n",
       " ['to', 'become', 'hunter', 'snglqt'],\n",
       " ['lives', 'to', 'it', 'cmma'],\n",
       " ['nave', 'yet', 'compassionate', 'smicln'],\n",
       " ['spite', 'family', 'ties', 'smicln'],\n",
       " ['their', 'broken', 'race', 'smicln'],\n",
       " ['Hunters', 'because', 'of', 'dblqt'],\n",
       " ['of', 'dblqt', 'Fame', 'dblqt'],\n",
       " ['dblqt', 'Fame', 'dblqt', 'prd'],\n",
       " ['Fame', 'dblqt', 'prd', 'dsh'],\n",
       " ['the', 'two', 'show', 'snglqt'],\n",
       " ['their', 'own', 'identities', 'cmma'],\n",
       " ['far', 'too', 'coincidental', 'prd'],\n",
       " ['inspired', 'by', 'the', 'dblqt'],\n",
       " ['girls', 'V', 'monsters', 'dblqt'],\n",
       " ['monsters', 'dblqt', 'genre', 'cmma'],\n",
       " ['but', 'even', 'so', 'cmma'],\n",
       " ['so', 'cmma', 'doesn', 'snglqt'],\n",
       " ['Shojo', 'or', 'Josei', 'cmma'],\n",
       " ['so', 'a', 'gender', 'dsh'],\n",
       " ['dsh', 'swapped', 'Shonen', 'prd'],\n",
       " ['Shonen', 'prd', 'x200B', 'smicln'],\n",
       " ['Rwby', 'for', 'it', 'snglqt'],\n",
       " ['snglqt', 's', 'supposed', 'snglqt'],\n",
       " ['supposed', 'snglqt', 'Original', 'snglqt'],\n",
       " ['Original', 'snglqt', 'weapon', 'cmma'],\n",
       " ['and', 'plot', 'design', 'smicln'],\n",
       " ['OG', 'anime', 'scene', 'cmma'],\n",
       " ['EXACT', 'same', 'concepts', 'prd'],\n",
       " ['same', 'concepts', 'prd', 'lftparen'],\n",
       " ['prd', 'lftparen', 'I', 'prd'],\n",
       " ['I', 'prd', 'E', 'cmma'],\n",
       " ['design', 'as', 'Rwby', 'cmma'],\n",
       " ['of', 'said', 'design', 'rghtparen'],\n",
       " ['said', 'design', 'rghtparen', 'prd'],\n",
       " ['prd', 'It', 'wouldn', 'snglqt'],\n",
       " ['Hunter', 'x', 'Hunter', 'cmma'],\n",
       " ['but', 'then', 'again', 'cmma'],\n",
       " ['cmma', 'I', 'haven', 'snglqt'],\n",
       " ['that', 'it', 'is', 'prd'],\n",
       " ['is', 'prd', 'OSHA', 'dsh'],\n",
       " ['and', 'Health', 'Administration', 'cmma'],\n",
       " ['workers', 'in', 'America', 'prd'],\n",
       " ['in', 'America', 'prd', 'dsh'],\n",
       " ['technically', 'very', 'dangerous', 'cmma'],\n",
       " ['according', 'to', 'OSHA', 'cmma'],\n",
       " ['of', 'job', 'safety', 'dsh'],\n",
       " ['safety', 'dsh', 'However', 'cmma'],\n",
       " ['directing', 'the', 'installation', 'prd'],\n",
       " ['installation', 'prd', 'Moreover', 'cmma'],\n",
       " ['overall', 'homeowning', 'industry', 'cmma'],\n",
       " ['homeowning', 'industry', 'cmma', 'lftparen'],\n",
       " ['no', 'government', 'control', 'rghtparen'],\n",
       " ['made', 'from', 'management', 'prd'],\n",
       " ['district', 'HR', 'department', 'cmma'],\n",
       " ['fixing', 'the', 'error', 'prd'],\n",
       " ['start', 'this', 'video', 'cmma'],\n",
       " ['of', 'this', 'video', 'cmma'],\n",
       " ['video', 'cmma', 'Raycons', 'prd'],\n",
       " ['I', 'love', 'them', 'prd'],\n",
       " ['home', 'playing', 'Minecraft', 'prd'],\n",
       " ['half', 'the', 'price', 'prd'],\n",
       " ['the', 'everyday', 'E25s', 'prd'],\n",
       " ['best', 'ones', 'yet', 'prd'],\n",
       " ['hours', 'of', 'playtime', 'cmma'],\n",
       " ['seamless', 'Bluetooth', 'pairing', 'cmma'],\n",
       " ['cmma', 'more', 'bass', 'cmma'],\n",
       " ['in', 'multiple', 'colors', 'cmma'],\n",
       " ['of', 'background', 'noise', 'prd'],\n",
       " ['pause', 'your', 'music', 'prd'],\n",
       " ['for', 'any', 'reason', 'prd'],\n",
       " ['Go', 'to', 'buyracon', 'prd'],\n",
       " ['buyracon', 'prd', 'com', 'lftparen'],\n",
       " ['com', 'lftparen', 'youtubername', 'rghtparen'],\n",
       " ['off', 'your', 'order', 'prd'],\n",
       " ['in', 'the', 'description', 'prd'],\n",
       " ['A', 'new', 'hobby', 'prd'],\n",
       " ['new', 'hobby', 'prd', 'prd'],\n",
       " ['hobby', 'prd', 'prd', 'prd'],\n",
       " ['of', 'Rooster', 'Teeth', 'snglqt'],\n",
       " ['snglqt', 's', 'RWBY', 'cmma'],\n",
       " ['everything', 'from', '3', 'dsh'],\n",
       " ['My', 'Mom', 'x200B', 'smicln'],\n",
       " ['x200B', 'smicln', 'x200B', 'smicln'],\n",
       " ['x200B', 'smicln', 'I', 'dsh'],\n",
       " ['dsh', 'i', 'didn', 'snglqt'],\n",
       " ['Yes', 'and', 'no', 'cmma'],\n",
       " ['are', 'getting', 'it', 'dsh'],\n",
       " ['Tattoos', 'are', 'permanent', 'cmma'],\n",
       " ['Adjustable', 'Dick', 'Size', 'lftparen'],\n",
       " ['Size', 'lftparen', 'Small', 'cmma'],\n",
       " ['Small', 'cmma', 'medium', 'rghtparen'],\n",
       " ['cmma', 'medium', 'rghtparen', 'cmma'],\n",
       " ['All', 'of', 'them', 'cmma'],\n",
       " ['Mustaches', 'on', 'women', 'prd'],\n",
       " ['on', 'women', 'prd', 'prd'],\n",
       " ['women', 'prd', 'prd', 'prd'],\n",
       " ['that', 'started', 'the', 'cmma'],\n",
       " ['started', 'the', 'cmma', 'dblqt'],\n",
       " ['dblqt', 'Instructions', 'unclear', 'cmma'],\n",
       " ['stuck', 'in', 'toaster', 'dblqt'],\n",
       " ['right', 'to', 'act', 'cmma'],\n",
       " ['act', 'cmma', 'speak', 'cmma'],\n",
       " ['hindrance', 'or', 'restraint', 'prd'],\n",
       " ['to', 'switch', 'schools', 'dsh'],\n",
       " ['dsh', 'I', 'couldn', 'snglqt'],\n",
       " ['back', 'Serial', 'Rape', 'dblqt'],\n",
       " ['Rape', 'dblqt', 'Ouch', 'xclm'],\n",
       " ['dblqt', 'Ouch', 'xclm', 'dblqt'],\n",
       " ['men', 'say', 'it', 'coln'],\n",
       " ['say', 'it', 'coln', 'dblqt'],\n",
       " ['coln', 'dblqt', 'FUCK', 'xclm'],\n",
       " ['dblqt', 'FUCK', 'xclm', 'dblqt'],\n",
       " ['it', 'was', 'fine', 'cmma'],\n",
       " ['fine', 'cmma', 'however', 'cmma'],\n",
       " ['the', 'swab', 'occurred', 'smicln'],\n",
       " ['below', 'my', 'eye', 'prd'],\n",
       " ['prd', 'I', 'wasn', 'snglqt'],\n",
       " ['snglqt', 't', 'nervous', 'cmma'],\n",
       " ['molested', 'me', 'Generally', 'cmma'],\n",
       " ['or', 'traditional', 'governments', 'cmma'],\n",
       " ['promote', 'government', 'activity', 'smicln'],\n",
       " ['activity', 'smicln', 'or', 'cmma'],\n",
       " ['by', 'outdated', 'customs', 'prd'],\n",
       " ['outdated', 'customs', 'prd', 'dsh'],\n",
       " ['prd', 'dsh', 'However', 'cmma'],\n",
       " ['by', 'the', 'government', 'cmma'],\n",
       " ['the', 'government', 'cmma', 'smicln'],\n",
       " ['inferior', 'economic', 'skills', 'lftparen'],\n",
       " ['skills', 'lftparen', 'I', 'prd'],\n",
       " ['I', 'prd', 'E', 'cmma'],\n",
       " ['cmma', 'Mass', 'spending', 'cmma'],\n",
       " ['spending', 'cmma', 'Hoarding', 'cmma'],\n",
       " ['lack', 'of', 'Job', 'cmma'],\n",
       " ['Not', 'installing', 'budgets', 'cmma'],\n",
       " ['establishing', 'banking', 'services', 'cmma'],\n",
       " ['cmma', 'Bankruptcy', 'ETC', 'cmma'],\n",
       " ['Bankruptcy', 'ETC', 'cmma', 'rghtparen'],\n",
       " ['poverty', 'from', 'parents', 'prd'],\n",
       " ['3rd', 'world', 'countries', 'cmma'],\n",
       " ['1st', 'world', 'countries', 'prd'],\n",
       " ['problem', 'among', 'individuals', 'cmma'],\n",
       " ['wronged', 'by', 'society', 'cmma'],\n",
       " ['you', 'inheritachieve', 'poverty', 'cmma'],\n",
       " ['rid', 'of', 'it', 'prd'],\n",
       " ['it', 'prd', 'You', 'snglqt'],\n",
       " ['them', 'but', 'obviously', 'coln'],\n",
       " ['Lie', 'in', 'April', 'cmma'],\n",
       " ['Weathering', 'with', 'you', 'cmma'],\n",
       " ['cmma', 'Your', 'Name', 'cmma'],\n",
       " ['A', 'Silent', 'Voice', 'cmma'],\n",
       " ['with', 'Red', 'Hair', 'cmma'],\n",
       " ['cmma', 'Fruits', 'Basket', 'cmma'],\n",
       " ['Basket', 'cmma', 'Kauguya', 'dsh'],\n",
       " ['Love', 'is', 'War', 'cmma'],\n",
       " ['Eat', 'Your', 'Pancreas', 'prd'],\n",
       " ['Pancreas', 'prd', '1', 'prd'],\n",
       " ['Fate', 'Zero', '2', 'prd'],\n",
       " ['Fate', 'Stay', 'Night', 'coln'],\n",
       " ['Blade', 'Works', '3', 'prd'],\n",
       " ['off', 'of', 'Netflix', 'cmma'],\n",
       " ['cmma', 'and', 'doesn', 'snglqt'],\n",
       " ['other', 'streaming', 'sites', 'prd'],\n",
       " ['sites', 'prd', 'Legally', 'cmma'],\n",
       " ['DVD', 'off', 'Amazon', 'cmma'],\n",
       " ['some', 'local', 'retailer', 'prd'],\n",
       " ['retailer', 'prd', 'However', 'cmma'],\n",
       " ['multiple', 'sites', 'offering', 'snglqt'],\n",
       " ['offering', 'snglqt', 'grey', 'snglqt'],\n",
       " ['grey', 'snglqt', 'alternatives', 'cmma'],\n",
       " ['and', 'even', 'Youtube', 'prd'],\n",
       " ['Youtube', 'prd', 'https', 'coln'],\n",
       " ['https', 'coln', 'www', 'prd'],\n",
       " ['www', 'prd', 'reddit', 'prd'],\n",
       " ['reddit',\n",
       "  'prd',\n",
       "  'comrMadokaMagicacomments9wgvw1legalstreamingoptionsformovie3rebellion',\n",
       "  'lftparen'],\n",
       " ['comrMadokaMagicacomments9wgvw1legalstreamingoptionsformovie3rebellion',\n",
       "  'lftparen',\n",
       "  'https',\n",
       "  'coln'],\n",
       " ['https', 'coln', 'www', 'prd'],\n",
       " ['www', 'prd', 'reddit', 'prd'],\n",
       " ['reddit',\n",
       "  'prd',\n",
       "  'comrMadokaMagicacomments9wgvw1legalstreamingoptionsformovie3rebellion',\n",
       "  'rghtparen'],\n",
       " ['comrMadokaMagicacomments9wgvw1legalstreamingoptionsformovie3rebellion',\n",
       "  'rghtparen',\n",
       "  'https',\n",
       "  'coln'],\n",
       " ['https', 'coln', 'www', 'prd'],\n",
       " ['www', 'prd', 'reddit', 'prd'],\n",
       " ['reddit',\n",
       "  'prd',\n",
       "  'comrMadokaMagicacomments8tt1zbwheretowatchrebellion',\n",
       "  'lftparen'],\n",
       " ['comrMadokaMagicacomments8tt1zbwheretowatchrebellion',\n",
       "  'lftparen',\n",
       "  'https',\n",
       "  'coln'],\n",
       " ['https', 'coln', 'www', 'prd'],\n",
       " ['www', 'prd', 'reddit', 'prd'],\n",
       " ['reddit',\n",
       "  'prd',\n",
       "  'comrMadokaMagicacomments8tt1zbwheretowatchrebellion',\n",
       "  'rghtparen'],\n",
       " ['but', 'I', 'don', 'snglqt'],\n",
       " ['anything', 'like', 'it', 'prd'],\n",
       " ['like', 'it', 'prd', 'prd'],\n",
       " ['it', 'prd', 'prd', 'prd'],\n",
       " ['it', 'Kengan', 'Ashura', 'qstn'],\n",
       " ['Ashura', 'qstn', 'https', 'coln'],\n",
       " ['https', 'coln', 'en', 'prd'],\n",
       " ['en', 'prd', 'wikipedia', 'prd'],\n",
       " ['wikipedia', 'prd', 'orgwikiKenganAshura', 'lftparen'],\n",
       " ['orgwikiKenganAshura', 'lftparen', 'https', 'coln'],\n",
       " ['https', 'coln', 'en', 'prd'],\n",
       " ['en', 'prd', 'wikipedia', 'prd'],\n",
       " ['wikipedia', 'prd', 'orgwikiKenganAshura', 'rghtparen'],\n",
       " ['prd', 'orgwikiKenganAshura', 'rghtparen', 'smicln'],\n",
       " ['smicln', 'If', 'not', 'cmma'],\n",
       " ['the', 'animation', 'quality', 'qstn'],\n",
       " ['quality', 'qstn', 'Question', 'coln'],\n",
       " ['relatively', 'the', 'same', 'cmma'],\n",
       " ['version', 'of', 'RWBY', 'qstn'],\n",
       " ['experience', 'was', 'RWBY', 'cmma'],\n",
       " ['came', 'across', 'it', 'prd'],\n",
       " ['have', 'gone', 'by', 'cmma'],\n",
       " ['character', 'developmentplot', 'progression', 'prd'],\n",
       " ['developmentplot', 'progression', 'prd', 'dsh'],\n",
       " ['some', 'unknown', 'reason', 'cmma'],\n",
       " ['and', 'improved', 'tastes', 'smicln'],\n",
       " ['the', 'first', 'season', 'cmma'],\n",
       " ['volumes', 'of', 'RWBY', 'cmma'],\n",
       " ['similar', 'character', 'motives', 'prd'],\n",
       " ['character', 'motives', 'prd', 'dsh'],\n",
       " ['Hunter', 'X', 'Hunter', 'qstn'],\n",
       " ['mobile', 'game', 'called', 'dblqt'],\n",
       " ['called', 'dblqt', 'CUE', 'xclm'],\n",
       " ['dblqt', 'CUE', 'xclm', 'dblqt'],\n",
       " ['CUE', 'xclm', 'dblqt', 'cmma'],\n",
       " ['to', 'become', 'superstarsidols', 'prd'],\n",
       " ['superstarsidols', 'prd', 'Moreover', 'cmma'],\n",
       " ['have', 'an', 'OVA', 'cmma'],\n",
       " ['to', 'be', 'devolved', 'prd'],\n",
       " ['be', 'devolved', 'prd', 'dsh'],\n",
       " ['prd', 'dsh', 'https', 'coln'],\n",
       " ['https', 'coln', 'en', 'prd'],\n",
       " ['en', 'prd', 'wikipedia', 'prd'],\n",
       " ['wikipedia', 'prd', 'orgwikiCUE', 'xclm'],\n",
       " ['prd', 'orgwikiCUE', 'xclm', 'lftparen'],\n",
       " ['xclm', 'lftparen', 'https', 'coln'],\n",
       " ['https', 'coln', 'en', 'prd'],\n",
       " ['en', 'prd', 'wikipedia', 'prd'],\n",
       " ['wikipedia', 'prd', 'orgwikiCUE', 'rghtparen'],\n",
       " ['tbh', 'Everything', 'from', 'cmma'],\n",
       " ['Everything', 'from', 'cmma', 'dblqt'],\n",
       " ['cmma', 'dblqt', 'Shit', 'dblqt'],\n",
       " ['Shit', 'dblqt', 'to', 'dblqt'],\n",
       " ['dblqt', 'Fucking', 'shit', 'dblqt'],\n",
       " ['people', 'I', 'love', 'prd'],\n",
       " ['my', 'life', 'though', 'prd'],\n",
       " ['flows', 'away', 'Nicholas', 'prd'],\n",
       " ['Nicholas', 'prd', 'Fucking', 'prd'],\n",
       " ['Fucking', 'prd', 'Cage', 'prd'],\n",
       " ['Cage', 'prd', 'Mannequin', 'lftparen'],\n",
       " ['Mannequin', 'lftparen', '1987', 'rghtparen'],\n",
       " ['rghtparen', 'My', 'mother', 'snglqt'],\n",
       " ['juice', 'Get', 'paid', 'cmma'],\n",
       " ['cmma', 'Get', 'laid', 'cmma'],\n",
       " ['people', 'in', 'hospitals', 'prd'],\n",
       " ['in', 'hospitals', 'prd', 'prd'],\n",
       " ['hospitals', 'prd', 'prd', 'prd'],\n",
       " ['prd', 'prd', 'Nothing', 'dsh'],\n",
       " ['inclining', 'of', 'man', 'snglqt'],\n",
       " ['forever', 'to', 'come', 'prd'],\n",
       " ['to', 'come', 'prd', 'dsh'],\n",
       " ['conditioned', 'for', 'evil', 'cmma'],\n",
       " ['good', 'despite', 'it', 'prd'],\n",
       " ['ruin', 'a', 'man', 'snglqt'],\n",
       " ['snglqt', 's', 'life', 'cmma'],\n",
       " ['so', 'his', 'morality', 'prd'],\n",
       " ['makes', 'him', 'renowned', 'prd'],\n",
       " ['him', 'renowned', 'prd', 'dsh'],\n",
       " ['kill', 'all', 'ambitions', 'cmma'],\n",
       " ['good', 'and', 'evil', 'smicln'],\n",
       " ['of', 'true', 'humanity', 'prd'],\n",
       " ['Generation', 'of', 'Women', 'dsh'],\n",
       " ['dsh', 'NegativeXP', 'Youtube', 'smicln'],\n",
       " ['more', 'wholesome', 'community', 'prd'],\n",
       " ['an', 'opinion', 'Honestly', 'cmma'],\n",
       " ['the', 'internet', 'aren', 'snglqt'],\n",
       " ['promoted', 'that', 'heavily', 'cmma'],\n",
       " ['cmma', 'although', 'I', 'snglqt'],\n",
       " ['topics', 'in', 'depth', 'prd'],\n",
       " ['prd', 'Reddit', 'isn', 'snglqt'],\n",
       " ['discussion', 'like', 'that', 'prd'],\n",
       " ['niche', 'that', 'you', 'snglqt'],\n",
       " ['interested', 'in', 'discussing', 'cmma'],\n",
       " ['a', 'welcoming', 'community', 'prd'],\n",
       " ['community', 'prd', 'However', 'cmma'],\n",
       " ['are', 'desperate', 'enough', 'cmma'],\n",
       " ['enough', 'cmma', 'I', 'snglqt'],\n",
       " ['or', 'maybe', 'rDepthhub', 'smicln'],\n",
       " ['rDepthhub', 'smicln', 'however', 'cmma'],\n",
       " ['browsing', 'for', 'memes', 'prd'],\n",
       " ['at', 'the', 'chess', 'cmma'],\n",
       " ['cmma', 'com', 'forums', 'smicln'],\n",
       " ['forums', 'smicln', 'I', 'snglqt'],\n",
       " ['most', 'success', 'there', 'prd'],\n",
       " ['answer', 'to', 'life', 'prd'],\n",
       " ['the', 'primary', 'objective', 'prd'],\n",
       " ['primary', 'objective', 'prd', 'dsh'],\n",
       " ['of', 'the', 'consequence', 'cmma'],\n",
       " ['only', 'live', 'unfulfilled', 'cmma'],\n",
       " ['find', 'more', 'unhappiness', 'prd'],\n",
       " ['the', 'long', 'run', 'dsh'],\n",
       " ['to', 'your', 'life', 'prd'],\n",
       " ['you', 'are', 'religious', 'cmma'],\n",
       " ['worship', 'your', 'god', 'smicln'],\n",
       " ['are', 'a', 'humanist', 'cmma'],\n",
       " ['life', 'to', 'society', 'smicln'],\n",
       " ['are', 'a', 'nihilist', 'cmma'],\n",
       " ['on', 'self', 'improvement', 'prd'],\n",
       " ['the', 'same', 'personalities', 'cmma'],\n",
       " ['of', 'a', 'person', 'snglqt'],\n",
       " ['snglqt', 's', 'outlook', 'smicln'],\n",
       " ['devolved', 'decision', 'makings', 'cmma'],\n",
       " ['traits', 'and', 'instincts', 'prd'],\n",
       " ['puberty', 'and', 'self', 'dsh'],\n",
       " ['a', 'specific', 'person', 'smicln'],\n",
       " ['depart', 'in', 'alikeablility', 'prd'],\n",
       " ['in', 'alikeablility', 'prd', 'dsh'],\n",
       " ['That', 'being', 'said', 'cmma'],\n",
       " ['cmma', 'if', 'you', 'snglqt'],\n",
       " ['a', 'tight', 'house', 'cmma'],\n",
       " ['the', 'same', 'things', 'cmma'],\n",
       " ['the', 'same', 'experiences', 'cmma'],\n",
       " ['to', 'share', 'inheritably', 'prd'],\n",
       " ['share', 'inheritably', 'prd', 'dsh'],\n",
       " ['prd', 'dsh', 'It', 'snglqt'],\n",
       " ['a', 'identical', 'twin', 'prd'],\n",
       " ['same', 'shared', 'DNA', 'cmma'],\n",
       " ['traits', 'are', 'shared', 'prd'],\n",
       " ['shared', 'prd', 'Granted', 'cmma'],\n",
       " ['go', 'through', 'childhood', 'cmma'],\n",
       " ['from', 'the', 'other', 'prd'],\n",
       " ['the', 'other', 'prd', 'dsh'],\n",
       " ['to', 'become', 'stronger', 'cmma'],\n",
       " ['another', 'becomes', 'wiser', 'prd'],\n",
       " ['To', 'my', 'community', 'cmma'],\n",
       " ['to', 'reality', 'I', 'snglqt'],\n",
       " ['this', 'is', 'repost', 'cmma'],\n",
       " ['three', 'days', 'ago', 'prd'],\n",
       " ['was', 'used', 'question', 'cmma'],\n",
       " ['not', 'THAT', 'overused', 'smicln'],\n",
       " ['overused', 'smicln', 'mediocre', 'cmma'],\n",
       " ['cmma', 'yet', 'clever', 'prd'],\n",
       " ['prd', 'Politics', 'suck', 'cmma'],\n",
       " ['suck', 'cmma', 'amirite', 'qstn'],\n",
       " ['in', 'my', 'region', 'cmma'],\n",
       " ['already', 'had', 'it', 'prd'],\n",
       " ['had', 'it', 'prd', 'dblqt'],\n",
       " ['prd', 'dblqt', 'Ageless', 'dblqt'],\n",
       " ['dblqt', 'from', 'Smallville', 'cmma'],\n",
       " ['big', 'family', 'reunion', 'cmma'],\n",
       " ['an', 'asphalt', 'pavement', 'prd'],\n",
       " ['a', 'little', 'attention', 'prd'],\n",
       " ['attention', 'prd', 'Nope', 'prd'],\n",
       " ['bottle', 'on', 'pavement', 'cmma'],\n",
       " ['shock', 'and', 'disgust', 'prd'],\n",
       " ['distracting', 'my', 'elders', 'prd'],\n",
       " ['school', 'where', 'gum', 'cmma'],\n",
       " ['cmma', 'ripped', 'clothing', 'cmma'],\n",
       " ['clothing', 'cmma', 'and', 'snglqt'],\n",
       " ['and', 'snglqt', 'showy', 'snglqt'],\n",
       " ['clothing', 'are', 'prohibited', 'prd'],\n",
       " ['in', 'the', 'classroom', 'cmma'],\n",
       " ['by', 'the', 'teacher', 'prd'],\n",
       " ['made', 'with', 'intention', 'smicln'],\n",
       " ['of', 'spreading', 'hatefulness', 'cmma'],\n",
       " ['within', 'a', 'community', 'prd'],\n",
       " ['a', 'community', 'prd', 'dsh'],\n",
       " ['prd', 'dsh', 'However', 'cmma'],\n",
       " ['the', 'United', 'States', 'cmma'],\n",
       " ['such', 'as', 'Threats', 'cmma'],\n",
       " ['Threats', 'cmma', 'Slander', 'cmma'],\n",
       " ['and', 'Treason', 'are', 'prd'],\n",
       " ['google', 'search', 'I', 'snglqt'],\n",
       " ['getting', 'my', 'driver', 'snglqt'],\n",
       " ['right', 'now', 'though', 'cmma'],\n",
       " ['might', 'be', 'different', 'prd'],\n",
       " ['in', 'New', 'York', 'cmma'],\n",
       " ['York', 'cmma', 'I', 'snglqt'],\n",
       " ['snglqt', 'd', 'think', 'prd'],\n",
       " ['think', 'prd', 'I', 'snglqt'],\n",
       " ['local', 'theme', 'park', 'cmma'],\n",
       " ['people', 'and', 'fun', 'prd'],\n",
       " ['WalmartGameStop', 'game', 'section', 'cmma'],\n",
       " ['selections', 'of', 'games', 'cmma'],\n",
       " ['that', 'I', 'can', 'snglqt'],\n",
       " ['which', 'to', 'buy', 'prd'],\n",
       " ['buy', 'prd', 'I', 'snglqt'],\n",
       " ['at', 'my', 'school', 'cmma'],\n",
       " ['are', 'more', 'energetic', 'cmma'],\n",
       " ['is', 'too', 'fast', 'cmma'],\n",
       " ['them', 'and', 'they', 'snglqt'],\n",
       " ['snglqt', 're', 'gone', 'prd'],\n",
       " ['re', 'gone', 'prd', 'prd'],\n",
       " ['gone', 'prd', 'prd', 'prd'],\n",
       " ['prd', 'prd', 'prd', 'prd'],\n",
       " ['sense', 'of', 'melancholy', 'cmma'],\n",
       " ['find', 'peace', 'within', 'cmma'],\n",
       " ['against', 'my', 'heart', 'prd'],\n",
       " ['know', 'that', 'I', 'snglqt'],\n",
       " ['at', 'a', 'party', 'cmma'],\n",
       " ['something', 'without', 'me', 'prd'],\n",
       " ['I', 'feel', 'useless', 'cmma'],\n",
       " ['know', 'my', 'place', 'prd'],\n",
       " ['in', 'the', 'machine', 'cmma'],\n",
       " ['purpose', 'to', 'serve', 'prd'],\n",
       " ['eliminating', 'my', 'opposition', 'prd'],\n",
       " ['my', 'opposition', 'prd', 'prd'],\n",
       " ['opposition', 'prd', 'prd', 'prd'],\n",
       " ['prd', 'prd', 'I', 'snglqt'],\n",
       " ['m', 'a', 'momma', 'snglqt'],\n",
       " ['rTeenagers', 'rPolitics', 'Agreed', 'cmma'],\n",
       " ['cmma', 'but', 'i', 'snglqt'],\n",
       " ['she', 'has', 'HPV', 'prd'],\n",
       " ['has', 'HPV', 'prd', 'prd'],\n",
       " ['HPV', 'prd', 'prd', 'prd'],\n",
       " ['prd', 'prd', 'prd', 'prd'],\n",
       " ['prd', 'prd', 'prd', 'prd'],\n",
       " ['about', 'something', 'buddy', 'qstn'],\n",
       " ['buddy', 'qstn', 'OP', 'snglqt'],\n",
       " ['is', 'a', 'smash', 'cmma'],\n",
       " ['resentment', 'towards', 'you', 'prd'],\n",
       " ['you', 'prd', 'x200B', 'smicln'],\n",
       " ['smicln', 'Feel', 'guilt', 'prd'],\n",
       " ['than', 'other', 'kid', 'snglqt'],\n",
       " ['snglqt', 's', 'parents', 'qstn'],\n",
       " ['on', 'tyrannical', 'governments', 'smicln'],\n",
       " ['weaker', 'immune', 'systems', 'qstn'],\n",
       " ['systems', 'qstn', 'Berserk', 'lftparen'],\n",
       " ['Berserk', 'lftparen', '1997', 'rghtparen'],\n",
       " ['in', 'animation', 'quality', 'cmma'],\n",
       " ['cmma', 'the', 'story', 'cmma'],\n",
       " ['of', 'for', 'it', 'prd'],\n",
       " ['it', 'prd', 'It', 'snglqt'],\n",
       " ['I', 'can', 'see', 'cmma'],\n",
       " ['much', 'to', 'me', 'prd'],\n",
       " ['An', 'absolute', 'classic', 'cmma'],\n",
       " ['Anime', 'storytelling', 'Redline', 'lftparen'],\n",
       " ['Redline', 'lftparen', '2011', 'rghtparen'],\n",
       " ['Absolutely', 'amazing', 'animation', 'dsh'],\n",
       " ['have', 'ever', 'seen', 'prd'],\n",
       " ['reals', 'you', 'in', 'cmma'],\n",
       " ['keeps', 'you', 'fascinated', 'prd'],\n",
       " ['is', 'so', 'unique', 'cmma'],\n",
       " ['yet', 'so', 'familliar', 'prd'],\n",
       " ['Caribean', 'is', 'ca', 'dsh'],\n",
       " ['ca', 'dsh', 'RIB', 'dsh'],\n",
       " ['RIB', 'dsh', 'bean', 'cmma'],\n",
       " ['is', 'The', 'ca', 'dsh'],\n",
       " ['ca', 'dsh', 'rib', 'dsh'],\n",
       " ['rib', 'dsh', 'BE', 'dsh'],\n",
       " ['BE', 'dsh', 'an', 'prd'],\n",
       " ['be', 'cool', 'initially', 'cmma'],\n",
       " ['the', 'long', 'run', 'cmma'],\n",
       " ['jealousy', 'or', 'rejection', 'prd'],\n",
       " ['prd', 'Good', 'question', 'prd'],\n",
       " ['Good', 'question', 'prd', 'prd'],\n",
       " ['question', 'prd', 'prd', 'prd'],\n",
       " ['prd', 'prd', 'prd', 'prd'],\n",
       " ['prd', 'I', 'don', 'snglqt'],\n",
       " ['personally', 'do', 'it', 'cmma'],\n",
       " ['lane', 'is', 'the', 'dblqt'],\n",
       " ['the', 'dblqt', 'fast', 'dblqt'],\n",
       " ['fast', 'dblqt', 'lane', 'prd'],\n",
       " ['cherry', 'Excuse', 'me', 'qstn'],\n",
       " ['from', 'your', 'nose', 'xclm'],\n",
       " ['in', 'the', 'Bible', 'smicln'],\n",
       " ['at', 'face', 'value', 'cmma'],\n",
       " ['to', 'be', 'false', 'cmma'],\n",
       " ['false', 'cmma', 'don', 'snglqt'],\n",
       " ['it', 'all', 'together', 'prd'],\n",
       " ['fundamentally', 'disagree', 'with', 'cmma'],\n",
       " ['cmma', 'you', 'can', 'snglqt'],\n",
       " ['the', 'bath', 'water', 'prd'],\n",
       " ['water', 'prd', 'Define', 'coln'],\n",
       " ['prd', 'Define', 'coln', 'dblqt'],\n",
       " ['coln', 'dblqt', 'disproven', 'dblqt'],\n",
       " ['limited', 'in', 'it', 'snglqt'],\n",
       " ['snglqt', 's', 'scope', 'prd'],\n",
       " ['of', 'the', 'perceived', 'cmma'],\n",
       " ['world', 'and', 'it', 'snglqt'],\n",
       " ['history', 'is', 'unperceivable', 'prd'],\n",
       " ['destroyed', 'and', 're', 'dsh'],\n",
       " ['written', 'many', 'times', 'cmma'],\n",
       " ['burning', 'of', 'Alexandria', 'cmma'],\n",
       " ['The', 'Chinese', 'revolution', 'lftparen'],\n",
       " ['Burning', 'of', 'books', 'cmma'],\n",
       " ['burying', 'of', 'scholars', 'rghtparen'],\n",
       " ['of', 'scholars', 'rghtparen', 'cmma'],\n",
       " ['rghtparen', 'cmma', 'Etc', 'smicln'],\n",
       " ['smicln', 'but', 'regardless', 'cmma'],\n",
       " ['is', 'still', 'existent', 'prd'],\n",
       " ['prd', 'But', 'regardless', 'cmma'],\n",
       " ['of', 'the', 'universe', 'cmma'],\n",
       " ['to', 'begin', 'with', 'qstn'],\n",
       " ['an', 'educated', 'guess', 'cmma'],\n",
       " ['instance', 'of', 'faith', 'prd'],\n",
       " ['for', 'multiple', 'passages', 'dblqt'],\n",
       " ['passages', 'dblqt', 'incorrectly', 'dblqt'],\n",
       " ['laws', 'of', 'nature', 'smicln'],\n",
       " ['of', 'nature', 'smicln', 'lftparen'],\n",
       " ['held', 'among', 'pillars', 'rghtparen'],\n",
       " ['metaphors', 'to', 'God', 'snglqt'],\n",
       " ['of', 'the', 'universe', 'prd'],\n",
       " ['of', 'the', 'pillars', 'cmma'],\n",
       " ['existence', 'of', 'Gravity', 'prd'],\n",
       " ['what', 'they', 'believe', 'cmma'],\n",
       " ['cmma', 'but', 'moreover', 'cmma'],\n",
       " ['what', 'they', 'know', 'prd'],\n",
       " ['in', 'Freudian', 'psychology', 'cmma'],\n",
       " ['concept', 'of', 'rejection', 'prd'],\n",
       " ['in', 'evolutionary', 'standards', 'cmma'],\n",
       " ['of', 'the', 'male', 'snglqt'],\n",
       " ['snglqt', 's', 'bloodline', 'cmma'],\n",
       " ['own', 'personal', 'expressions', 'prd'],\n",
       " ['among', 'other', 'humans', 'cmma'],\n",
       " ['taken', 'advantage', 'of', 'smicln'],\n",
       " ['of', 'smicln', 'therefore', 'cmma'],\n",
       " ['end', 'up', 'alone', 'prd'],\n",
       " ['up', 'alone', 'prd', 'dsh'],\n",
       " ['warmth', 'among', 'it', 'snglqt'],\n",
       " ['snglqt', 's', 'companion', 'coln'],\n",
       " ['solace', 'with', 'another', 'cmma'],\n",
       " ['quills', 'of', 'it', 'snglqt'],\n",
       " ['at', 'their', 'weakest', 'cmma'],\n",
       " ['them', 'in', 'destitution', 'prd'],\n",
       " ['great', 'portfolio', 'beforehand', 'cmma'],\n",
       " ['Being', 'racially', 'Jewish', 'cmma'],\n",
       " ['are', 'separate', 'entities', 'prd'],\n",
       " ['can', 'be', 'Jewish', 'cmma'],\n",
       " ['not', 'practice', 'Judaism', 'prd'],\n",
       " ['Lie', 'In', 'April', 'cmma'],\n",
       " ['In', 'April', 'cmma', 'xclm'],\n",
       " ['cmma', 'xclm', 'Kayori', 'snglqt'],\n",
       " ['terms', 'with', 'it', 'prd'],\n",
       " ['with', 'it', 'prd', 'xclm'],\n",
       " ['He', 'loves', 'it', 'xclm'],\n",
       " ['it', 'xclm', 'He', 'snglqt'],\n",
       " ['Murder', 'She', 'Wrote', 'cmma'],\n",
       " ['and', 'Rockford', 'File', 'prd'],\n",
       " ['be', 'met', 'beforehand', 'qstn'],\n",
       " ['qstn', 'My', 'dad', 'cmma'],\n",
       " ['whose', 'an', 'electrician', 'cmma'],\n",
       " ['loves', 'crime', 'thrillers', 'dsh'],\n",
       " ['Shows', 'like', 'Ncis', 'cmma'],\n",
       " ['Ncis', 'cmma', 'Csi', 'cmma'],\n",
       " ['cmma', 'Criminal', 'Minds', 'cmma'],\n",
       " ['even', 'Blue', 'Bloods', 'prd'],\n",
       " ['Bloods', 'prd', 'That', 'snglqt'],\n",
       " ['s', 'what', 'I', 'snglqt'],\n",
       " ['my', 'google', 'search', 'prd'],\n",
       " ['google', 'search', 'prd', 'prd'],\n",
       " ['search', 'prd', 'prd', 'prd'],\n",
       " ['Paul', 'McCartney', 'Fukiishi', 'smicln'],\n",
       " ['the', '1st', 'grade', 'cmma'],\n",
       " ['she', 'was', 'in', 'prd'],\n",
       " ['the', '5th', 'grade', 'cmma'],\n",
       " ['of', 'her', 'father', 'snglqt'],\n",
       " ['to', 'like', 'her', 'smicln'],\n",
       " ['her', 'being', 'dead', 'cmma'],\n",
       " ['given', 'I', 'hadn', 'snglqt'],\n",
       " ['the', '1st', 'grade', 'smicln'],\n",
       " ['smicln', 'the', 'father', 'snglqt'],\n",
       " ['crush', 'on', 'her', 'prd'],\n",
       " ['prd', 'I', 'haven', 'snglqt'],\n",
       " ['just', 'moved', 'on', 'prd'],\n",
       " ['prd', 'I', 'won', 'snglqt'],\n",
       " ['t', 'forget', 'though', 'cmma'],\n",
       " ['crush', 'on', 'someone', 'prd'],\n",
       " ['I', 'heard', 'somewhere', 'cmma'],\n",
       " ['flex', 'any', 'muscle', 'lftparen'],\n",
       " ['muscle', 'lftparen', 'Biceps', 'cmma'],\n",
       " ['Biceps', 'cmma', 'triceps', 'cmma'],\n",
       " ['cmma', 'Hamstrings', 'etc', 'prd'],\n",
       " ['Hamstrings', 'etc', 'prd', 'rghtparen'],\n",
       " ['long', 'as', 'possible', 'prd'],\n",
       " ['possible', 'prd', 'Smallville', 'dsh'],\n",
       " ['to', 'like', 'edit', 'coln'],\n",
       " ['edit', 'coln', 'it', 'dblqt'],\n",
       " ['it', 'dblqt', 'Avocado', 'dblqt'],\n",
       " ['liking', 'the', 'girl', 'prd'],\n",
       " ['broke', 'down', 'sobbing', 'cmma'],\n",
       " ['feelings', 'for', 'her', 'prd'],\n",
       " ['her', 'prd', 'Sadly', 'cmma'],\n",
       " ['the', 'relationship', 'didn', 'snglqt'],\n",
       " ['than', 'a', 'month', 'prd'],\n",
       " ['my', 'first', 'bone', 'lftparen'],\n",
       " ['bone', 'lftparen', 'knuckle', 'rghtparen'],\n",
       " ['while', 'playing', 'chess', 'prd'],\n",
       " ['by', 'fruit', 'usernames', 'lftparen'],\n",
       " ['lftparen', 'Amazing', 'Pineapple', 'cmma'],\n",
       " ['cmma', 'Zesty', 'Kumquat', 'rghtparen'],\n",
       " ['me', 'Purple', 'Cherry', 'prd'],\n",
       " ['Purple', 'Cherry', 'prd', 'dsh'],\n",
       " ['been', 'since', 'I', 'snglqt'],\n",
       " ['heard', 'of', 'them', 'cmma'],\n",
       " ['bestowed', 'upon', 'me', 'prd'],\n",
       " ['Sword', 'Art', 'Online', 'dsh'],\n",
       " ['premise', 'and', 'all', 'cmma'],\n",
       " ['I', 'thrive', 'on', 'cmma'],\n",
       " ['like', 'complex', 'characters', 'cmma'],\n",
       " ['overall', 'artistic', 'endeavor', 'prd'],\n",
       " ['is', 'totally', 'acceptable', 'qstn'],\n",
       " ['my', 'trap', 'card', 'coln'],\n",
       " ['Wandering', 'Attack', 'Helicopter', 'cmma'],\n",
       " ['for', 'three', 'turns', 'cmma'],\n",
       " ['Missiles', 'Attack', 'Card', 'cmma'],\n",
       " ['Tragedy', 'Defense', 'Card', 'prd'],\n",
       " ['My', 'opponent', 'loses', 'dsh'],\n",
       " ['dsh', '300', 'health', 'cmma'],\n",
       " ['cmma', 'my', 'country', 'snglqt'],\n",
       " ['69', 'increase', 'Generally', 'cmma'],\n",
       " ['cmma', 'Wednesday', 'Evening', 'cmma'],\n",
       " ['Evening', 'cmma', '6', 'coln'],\n",
       " ['6', 'coln', '00', 'dsh'],\n",
       " ['00', 'dsh', '10', 'coln'],\n",
       " ['active', 'time', 'worldwide', 'prd'],\n",
       " ['in', 'survivio', 'Fries', 'cmma'],\n",
       " ['a', 'special', 'occasion', 'prd'],\n",
       " ['special', 'occasion', 'prd', 'dsh'],\n",
       " ['prd', 'dsh', 'Generally', 'cmma'],\n",
       " ['I', 'eat', 'them', 'cmma'],\n",
       " ['never', 'get', 'old', 'prd'],\n",
       " ['aDvEnTuReR', 'lIkE', 'yUo', 'cmma'],\n",
       " ['ThE', 'kNeE', 'Redline', 'lftparen'],\n",
       " ['Redline', 'lftparen', '2011', 'rghtparen'],\n",
       " ['lftparen', '2011', 'rghtparen', 'dblqt'],\n",
       " ['will', 'love', 'you', 'dblqt'],\n",
       " ['you', 'dblqt', 'yeah', 'cmma'],\n",
       " ['great', 'and', 'all', 'cmma'],\n",
       " ['life', 'reflects', 'that', 'smicln'],\n",
       " ['to', 'fix', 'yourself', 'prd'],\n",
       " ['they', 'dishonor', 'Aaron', 'cmma'],\n",
       " ['in', 'the', 'creator', 'snglqt'],\n",
       " ['s', 'page', 'I', 'snglqt'],\n",
       " ['of', 'Bob', 'Crane', 'dsh'],\n",
       " ['I', 'loved', 'Hogan', 'snglqt'],\n",
       " ['Heroes', 'growing', 'up', 'cmma'],\n",
       " ['stuck', 'with', 'me', 'prd'],\n",
       " ['with', 'the', 'case', 'cmma'],\n",
       " ['septic', 'to', 'plug', 'prd'],\n",
       " ['plug', 'prd', 'x200B', 'smicln'],\n",
       " ['the', 'trash', 'can', 'cmma'],\n",
       " ['In', 'the', 'end', 'cmma'],\n",
       " ['to', 'her', 'beauty', 'cmma'],\n",
       " ['trusted', 'around', 'her', 'prd'],\n",
       " ['affection', 'pass', 'away', 'cmma'],\n",
       " ['bonds', 'of', 'loyalty', 'cmma'],\n",
       " ['loyalty', 'cmma', 'humor', 'cmma'],\n",
       " ['humor', 'cmma', 'respect', 'cmma'],\n",
       " ['respect', 'cmma', 'compassion', 'cmma'],\n",
       " ['the', 'relationship', 'together', 'prd'],\n",
       " ['Dat', 'Karma', 'Firstly', 'cmma'],\n",
       " ['like', 'you', 'back', 'prd'],\n",
       " ['prd', 'Unless', 'you', 'snglqt'],\n",
       " ['to', 'face', 'rejection', 'cmma'],\n",
       " ['out', 'your', 'crush', 'prd'],\n",
       " ['crush', 'prd', 'However', 'cmma'],\n",
       " ['your', 'crush', 'out', 'coln'],\n",
       " ['be', 'their', 'friend', 'prd'],\n",
       " ['or', 'schooling', 'environment', 'cmma'],\n",
       " ['an', 'acquaintance', 'level', 'prd'],\n",
       " ['acquaintance', 'level', 'prd', 'dsh'],\n",
       " ['dsh', 'For', 'example', 'cmma'],\n",
       " ['joined', 'your', 'schooljob', 'cmma'],\n",
       " ['asked', 'you', 'out', 'cmma'],\n",
       " ['creepy', 'and', 'compulsive', 'prd'],\n",
       " ['and', 'compulsive', 'prd', 'dsh'],\n",
       " ['you', 'date', 'them', 'prd'],\n",
       " ['know', 'your', 'crush', 'cmma'],\n",
       " ['ask', 'them', 'out', 'prd'],\n",
       " ['Oddball', 'it', 'out', 'cmma'],\n",
       " ['cmma', 'being', 'casual', 'cmma'],\n",
       " ['cmma', 'with', 'confidence', 'cmma'],\n",
       " ['for', 'herhis', 'acceptance', 'prd'],\n",
       " ['acceptance', 'prd', 'Don', 'snglqt'],\n",
       " ['a', 'first', 'date', 'cmma'],\n",
       " ['and', 'if', 'anything', 'cmma'],\n",
       " ['guys', 'are', 'friends', 'prd'],\n",
       " ['are', 'friends', 'prd', 'dsh'],\n",
       " ['in', 'the', 'relationship', 'cmma'],\n",
       " ['they', 'ask', 'to', 'dblqt'],\n",
       " ['just', 'be', 'friends', 'dblqt'],\n",
       " ['dblqt', 'then', 'you', 'snglqt'],\n",
       " ['respect', 'their', 'decision', 'prd'],\n",
       " ['their', 'decision', 'prd', 'dsh'],\n",
       " ['be', 'your', 'crushes', 'snglqt'],\n",
       " ['in', 'the', 'end', 'cmma'],\n",
       " ['their', 'own', 'desires', 'prd'],\n",
       " ['relationship', 'flow', 'naturally', 'prd'],\n",
       " ['throughout', 'the', 'relationship', 'cmma'],\n",
       " ['develop', 'a', 'plan', 'prd'],\n",
       " ['plan', 'prd', 'Don', 'snglqt'],\n",
       " ['dictate', 'your', 'judgement', 'cmma'],\n",
       " ['accepted', 'or', 'rejected', 'cmma'],\n",
       " ['cmma', 'that', 'it', 'snglqt'],\n",
       " ['of', 'the', 'world', 'prd'],\n",
       " ['you', 'too', 'far', 'coln'],\n",
       " ['have', 'already', 'graduated', 'prd'],\n",
       " ['send', 'that', 'rn', 'xclm'],\n",
       " ['school', 'do', 'it', 'prd'],\n",
       " ['not', 'worth', 'it', 'coln'],\n",
       " ['worth', 'it', 'coln', 'rghtparen'],\n",
       " ['to', 'reach', 'them', 'qstn'],\n",
       " ['JUST', 'FOUND', 'IT', 'xclm'],\n",
       " ['quote', 'Im', 'not', 'coln'],\n",
       " ['Im', 'not', 'coln', 'lftparen'],\n",
       " ['the', 'fifth', 'grade', 'prd'],\n",
       " ['that', 'interest', 'me', 'cmma'],\n",
       " ['and', 'can', 'use', 'coln'],\n",
       " ['dont', 'feel', 'incompetent', 'cmma'],\n",
       " ['cmma', 'its', 'fun', 'cmma'],\n",
       " ['desrcibes', 'my', 'skills', 'prd'],\n",
       " ['Could', 'pay', 'better', 'cmma'],\n",
       " ['jobs', 'out', 'there', 'prd'],\n",
       " ['wonderfully', 'detailed', 'comment', 'prd'],\n",
       " ['as', 'originally', 'planned', 'lftparen'],\n",
       " ['opportunities', 'Ive', 'found', 'rghtparen'],\n",
       " ['post', 'for', 'me', 'coln'],\n",
       " ['perfect', 'thank', 'you', 'xclm'],\n",
       " ['xclm', 'I', 'was', 'prd'],\n",
       " ['talk', 'everyday', 'What', 'xclm'],\n",
       " ['everyday', 'What', 'xclm', 'xclm'],\n",
       " ['did', 'this', 'happen', 'qstn'],\n",
       " ...]"
      ]
     },
     "execution_count": 53,
     "metadata": {},
     "output_type": "execute_result"
    }
   ],
   "source": [
    "t"
   ]
  },
  {
   "cell_type": "code",
   "execution_count": null,
   "metadata": {
    "collapsed": true
   },
   "outputs": [],
   "source": []
  }
 ],
 "metadata": {
  "kernelspec": {
   "display_name": "Python 3",
   "language": "python",
   "name": "python3"
  },
  "language_info": {
   "codemirror_mode": {
    "name": "ipython",
    "version": 3
   },
   "file_extension": ".py",
   "mimetype": "text/x-python",
   "name": "python",
   "nbconvert_exporter": "python",
   "pygments_lexer": "ipython3",
   "version": "3.7.6"
  }
 },
 "nbformat": 4,
 "nbformat_minor": 2
}
