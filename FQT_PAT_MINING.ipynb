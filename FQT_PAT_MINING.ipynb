{
 "cells": [
  {
   "cell_type": "code",
   "execution_count": 1,
   "metadata": {
    "collapsed": true
   },
   "outputs": [],
   "source": [
    "import re\n",
    "import string\n",
    "import pandas as pd\n",
    "from mlxtend.frequent_patterns import fpgrowth\n",
    "from mlxtend.preprocessing import TransactionEncoder"
   ]
  },
  {
   "cell_type": "code",
   "execution_count": 2,
   "metadata": {
    "collapsed": true
   },
   "outputs": [],
   "source": [
    "# Test dataframe in the desired format.\n",
    "testdf = pd.DataFrame([[1, 'F', 'test1', 'www.test1.com', \"35, I have a pretty good job but I don't love it. I'm still trying to figure out what I want to be when I grow up. Situation could be a lot worse but I'm at a point where I want to do something I enjoy. @ My family (live with my real mom and step dad) act like me being outed by older sister never happened. And on top of all of this I'm struggling trying to study for my math ged which I failed six times with being 1 point shy from passing.\"], [2, 'M', 'test2', 'www.test2.com', \"If I fail it again, its another two months of waiting to retake it. @ I'm really not sure how i'm supposed to feel anymore knowing that most of my life I was just wasting my time. @ I'm an IT apprentice and was about a month away from finishing my level 4 course. My training provider has just closed down due to a fraud investigation so now im in a position of trying to find a provider for my specific course so I can finish.\"], [3, 'M', 'test3', 'www.test3.com', \"And there's no guarantee my years work can be transferred so I may not even be able to get my certificate without another years of work. @ 29 and I don't like being a mum @ I was going to complain about being a 24yo male who's single and doesn't want to be but some of these responses make mine a drop in the bucket compared to the waters some of you face.\"], [4, 'F', 'test4', 'www.test4.com', \"Best of luck to all of you. @ Split up with my long term so of 5 years and decided to go for a complete career change. Going to pack in this life and go travel for a bit. Experience the world and figure out what it is I want. @ I'm 30, diagnosed last year with ADHS, failed university this year, just needed to write my thesis, no intimacy with my girlfriend of 2 years anymore.\"], [5, 'F', 'test5', 'www.test5.com', \"Yeah Life! @ 32, alcoholic, narcissistic, sociopath, broke, in debt, and i feel eventually my finances will magically fix themselves. I’m also a cocky piece of shit who doesn’t take advice or think there’s anything wrong with me. I truthfully think I’m ok. I need help. So much. @ My dad has lung cancer and is refusing treatment, which is fine. He's a 68 year old man who loves to drink and smoke and has accepted the hand he was dealt. He doesn't have to go through treatment if he doesn't want too.\"]], columns = ['Age', 'Gender', 'Redditor', 'URL', 'Comments'])"
   ]
  },
  {
   "cell_type": "code",
   "execution_count": 3,
   "metadata": {
    "collapsed": true
   },
   "outputs": [],
   "source": [
    "# Define our dictionary for punctuation to word conversion\n",
    "marks = ['.',',',':',';','?','!','-','(',')','\"',\"'\",'~']\n",
    "marks_to_wrds = {' prd ': '.', ' cmma ': ',', ' coln ': ':', ' smicln ': ';', ' qstn ': '?', ' xclm ': '!', ' dsh ': '-', ' lftparen ': '(', ' rghtparen ': ')', ' dblqt ': '\"', ' snglqt ': \"'\", ' elpss ': '~'}"
   ]
  },
  {
   "cell_type": "code",
   "execution_count": 4,
   "metadata": {
    "collapsed": true
   },
   "outputs": [],
   "source": [
    "def pre_fp(df):\n",
    "    \n",
    "    # Concatinate all the comments into one long string.\n",
    "    concat_all_comments = ' '.join(df[\"text\"])\n",
    "    punc_words = marks_to_wrds.keys()\n",
    "    \n",
    "    transactions = []\n",
    "    fqt_pat_sample = concat_all_comments\n",
    "\n",
    "    for character in tqdm(fqt_pat_sample, desc = '1'):\n",
    "        if character in marks:\n",
    "            fqt_pat_sample = fqt_pat_sample.replace(character, list(marks_to_wrds.keys())[list(marks_to_wrds.values()).index(character)])\n",
    "\n",
    "    wrd_pos = 0\n",
    "    \n",
    "    # Remove all remaining punctuation from fqt_pat_sample.\n",
    "    fqt_pat_sample = fqt_pat_sample.translate(str.maketrans('','', string.punctuation))\n",
    "    fqt_pat_sample_split = fqt_pat_sample.split()\n",
    "    for word in tqdm(fqt_pat_sample_split, desc = '2'):\n",
    "        grab_three = []\n",
    "        word_formatted = ' ' + word + ' '\n",
    "        if word_formatted in punc_words:\n",
    "            if wrd_pos >= 3:\n",
    "                grab_three.append(fqt_pat_sample_split[wrd_pos - 3])\n",
    "                grab_three.append(fqt_pat_sample_split[wrd_pos - 2])\n",
    "                grab_three.append(fqt_pat_sample_split[wrd_pos - 1])\n",
    "                grab_three.append(fqt_pat_sample_split[wrd_pos])\n",
    "            \n",
    "                transactions.append(grab_three) \n",
    "        wrd_pos += 1\n",
    "        \n",
    "    return transactions"
   ]
  },
  {
   "cell_type": "code",
   "execution_count": 5,
   "metadata": {
    "collapsed": true
   },
   "outputs": [],
   "source": [
    "def get_fp(transactions, min_sup = 0.01):\n",
    "    \n",
    "    # Put the transactions into dataframe form, this allows us to perform FPgrowth on the resultant dataframe.\n",
    "    te = TransactionEncoder()\n",
    "    te_transformed = te.fit(transactions).transform(transactions)\n",
    "    df = pd.DataFrame(te_transformed, columns = te.columns_)\n",
    "\n",
    "    # Apply FPgrowth to the transactional dataframe.\n",
    "    freq_pats = fpgrowth(df, min_support = min_sup, use_colnames = True)\n",
    "    return freq_pats"
   ]
  },
  {
   "cell_type": "code",
   "execution_count": 6,
   "metadata": {},
   "outputs": [
    {
     "data": {
      "text/plain": [
       "\"\\n# Original FPgrowth function for reference.\\n\\ndef orig_fp(writing_sample):\\n    \\n    transactions = []\\n    fqt_pat_sample = writing_sample\\n\\n    for character in fqt_pat_sample:\\n        if character in marks:\\n            fqt_pat_sample = fqt_pat_sample.replace(character, list(marks_to_wrds.keys())[list(marks_to_wrds.values()).index(character)])\\n\\n    wrd_pos = 0\\n    for word in fqt_pat_sample.split():\\n        grab_three = []\\n        word_formatted = ' ' + word + ' '\\n        if word_formatted in marks_to_wrds.keys():\\n            if wrd_pos >= 3:\\n                grab_three.append(fqt_pat_sample.split()[wrd_pos - 3])\\n                grab_three.append(fqt_pat_sample.split()[wrd_pos - 2])\\n                grab_three.append(fqt_pat_sample.split()[wrd_pos - 1])\\n                grab_three.append(fqt_pat_sample.split()[wrd_pos])\\n            \\n                transactions.append(grab_three) \\n        wrd_pos += 1\\n    \\n    # Put the transactions into dataframe form, this allows us to perform FPgrowth on the resultant dataframe.\\n    te = TransactionEncoder()\\n    te_transformed = te.fit(transactions).transform(transactions)\\n    df = pd.DataFrame(te_transformed, columns = te.columns_)\\n\\n    # Apply FPgrowth to the transactional dataframe.\\n    freq_pats = fpgrowth(df, min_support = 0.5, use_colnames = True)\\n    return freq_pats\\n\""
      ]
     },
     "execution_count": 6,
     "metadata": {},
     "output_type": "execute_result"
    }
   ],
   "source": [
    "'''\n",
    "# Original FPgrowth function for reference.\n",
    "\n",
    "def orig_fp(writing_sample):\n",
    "    \n",
    "    transactions = []\n",
    "    fqt_pat_sample = writing_sample\n",
    "\n",
    "    for character in fqt_pat_sample:\n",
    "        if character in marks:\n",
    "            fqt_pat_sample = fqt_pat_sample.replace(character, list(marks_to_wrds.keys())[list(marks_to_wrds.values()).index(character)])\n",
    "\n",
    "    wrd_pos = 0\n",
    "    for word in fqt_pat_sample.split():\n",
    "        grab_three = []\n",
    "        word_formatted = ' ' + word + ' '\n",
    "        if word_formatted in marks_to_wrds.keys():\n",
    "            if wrd_pos >= 3:\n",
    "                grab_three.append(fqt_pat_sample.split()[wrd_pos - 3])\n",
    "                grab_three.append(fqt_pat_sample.split()[wrd_pos - 2])\n",
    "                grab_three.append(fqt_pat_sample.split()[wrd_pos - 1])\n",
    "                grab_three.append(fqt_pat_sample.split()[wrd_pos])\n",
    "            \n",
    "                transactions.append(grab_three) \n",
    "        wrd_pos += 1\n",
    "    \n",
    "    # Put the transactions into dataframe form, this allows us to perform FPgrowth on the resultant dataframe.\n",
    "    te = TransactionEncoder()\n",
    "    te_transformed = te.fit(transactions).transform(transactions)\n",
    "    df = pd.DataFrame(te_transformed, columns = te.columns_)\n",
    "\n",
    "    # Apply FPgrowth to the transactional dataframe.\n",
    "    freq_pats = fpgrowth(df, min_support = 0.5, use_colnames = True)\n",
    "    return freq_pats\n",
    "'''"
   ]
  },
  {
   "cell_type": "code",
   "execution_count": 7,
   "metadata": {},
   "outputs": [],
   "source": [
    "# testing\n",
    "\n",
    "samp = pd.read_csv('stats_clean.csv', error_bad_lines = False, encoding = 'latin1')\n",
    "samp = samp.dropna()"
   ]
  },
  {
   "cell_type": "code",
   "execution_count": 8,
   "metadata": {},
   "outputs": [
    {
     "ename": "KeyboardInterrupt",
     "evalue": "",
     "output_type": "error",
     "traceback": [
      "\u001b[0;31m---------------------------------------------------------------------------\u001b[0m",
      "\u001b[0;31mKeyboardInterrupt\u001b[0m                         Traceback (most recent call last)",
      "\u001b[0;32m<ipython-input-8-3073b8a9fd26>\u001b[0m in \u001b[0;36m<module>\u001b[0;34m()\u001b[0m\n\u001b[0;32m----> 1\u001b[0;31m \u001b[0mtransactions\u001b[0m \u001b[0;34m=\u001b[0m \u001b[0mpre_fp\u001b[0m\u001b[0;34m(\u001b[0m\u001b[0msamp\u001b[0m\u001b[0;34m)\u001b[0m\u001b[0;34m\u001b[0m\u001b[0m\n\u001b[0m",
      "\u001b[0;32m<ipython-input-4-f07e2763fd89>\u001b[0m in \u001b[0;36mpre_fp\u001b[0;34m(df)\u001b[0m\n\u001b[1;32m      9\u001b[0m     \u001b[0;32mfor\u001b[0m \u001b[0mcharacter\u001b[0m \u001b[0;32min\u001b[0m \u001b[0mfqt_pat_sample\u001b[0m\u001b[0;34m:\u001b[0m\u001b[0;34m\u001b[0m\u001b[0m\n\u001b[1;32m     10\u001b[0m         \u001b[0;32mif\u001b[0m \u001b[0mcharacter\u001b[0m \u001b[0;32min\u001b[0m \u001b[0mmarks\u001b[0m\u001b[0;34m:\u001b[0m\u001b[0;34m\u001b[0m\u001b[0m\n\u001b[0;32m---> 11\u001b[0;31m             \u001b[0mfqt_pat_sample\u001b[0m \u001b[0;34m=\u001b[0m \u001b[0mfqt_pat_sample\u001b[0m\u001b[0;34m.\u001b[0m\u001b[0mreplace\u001b[0m\u001b[0;34m(\u001b[0m\u001b[0mcharacter\u001b[0m\u001b[0;34m,\u001b[0m \u001b[0mlist\u001b[0m\u001b[0;34m(\u001b[0m\u001b[0mmarks_to_wrds\u001b[0m\u001b[0;34m.\u001b[0m\u001b[0mkeys\u001b[0m\u001b[0;34m(\u001b[0m\u001b[0;34m)\u001b[0m\u001b[0;34m)\u001b[0m\u001b[0;34m[\u001b[0m\u001b[0mlist\u001b[0m\u001b[0;34m(\u001b[0m\u001b[0mmarks_to_wrds\u001b[0m\u001b[0;34m.\u001b[0m\u001b[0mvalues\u001b[0m\u001b[0;34m(\u001b[0m\u001b[0;34m)\u001b[0m\u001b[0;34m)\u001b[0m\u001b[0;34m.\u001b[0m\u001b[0mindex\u001b[0m\u001b[0;34m(\u001b[0m\u001b[0mcharacter\u001b[0m\u001b[0;34m)\u001b[0m\u001b[0;34m]\u001b[0m\u001b[0;34m)\u001b[0m\u001b[0;34m\u001b[0m\u001b[0m\n\u001b[0m\u001b[1;32m     12\u001b[0m \u001b[0;34m\u001b[0m\u001b[0m\n\u001b[1;32m     13\u001b[0m     \u001b[0mwrd_pos\u001b[0m \u001b[0;34m=\u001b[0m \u001b[0;36m0\u001b[0m\u001b[0;34m\u001b[0m\u001b[0m\n",
      "\u001b[0;31mKeyboardInterrupt\u001b[0m: "
     ]
    }
   ],
   "source": [
    "transactions = pre_fp(samp)"
   ]
  },
  {
   "cell_type": "code",
   "execution_count": null,
   "metadata": {},
   "outputs": [],
   "source": [
    "get_fp(transactions)"
   ]
  },
  {
   "cell_type": "code",
   "execution_count": 70,
   "metadata": {},
   "outputs": [
    {
     "data": {
      "text/html": [
       "<div>\n",
       "<style scoped>\n",
       "    .dataframe tbody tr th:only-of-type {\n",
       "        vertical-align: middle;\n",
       "    }\n",
       "\n",
       "    .dataframe tbody tr th {\n",
       "        vertical-align: top;\n",
       "    }\n",
       "\n",
       "    .dataframe thead th {\n",
       "        text-align: right;\n",
       "    }\n",
       "</style>\n",
       "<table border=\"1\" class=\"dataframe\">\n",
       "  <thead>\n",
       "    <tr style=\"text-align: right;\">\n",
       "      <th></th>\n",
       "      <th>age</th>\n",
       "      <th>gender</th>\n",
       "      <th>author</th>\n",
       "      <th>full_link</th>\n",
       "      <th>text</th>\n",
       "    </tr>\n",
       "  </thead>\n",
       "  <tbody>\n",
       "    <tr>\n",
       "      <th>0</th>\n",
       "      <td>28</td>\n",
       "      <td>Female</td>\n",
       "      <td>lunabuddy</td>\n",
       "      <td>https://www.reddit.com/r/relationships/comment...</td>\n",
       "      <td>I feel bad but I got pissed when these world l...</td>\n",
       "    </tr>\n",
       "    <tr>\n",
       "      <th>1</th>\n",
       "      <td>55</td>\n",
       "      <td>Male</td>\n",
       "      <td>Peenutbuttjellytime</td>\n",
       "      <td>https://www.reddit.com/r/relationships/comment...</td>\n",
       "      <td>I wouldn't say that being a serial monogamist ...</td>\n",
       "    </tr>\n",
       "    <tr>\n",
       "      <th>2</th>\n",
       "      <td>24</td>\n",
       "      <td>Male</td>\n",
       "      <td>DatingAdviceTA1224</td>\n",
       "      <td>https://www.reddit.com/r/relationships/comment...</td>\n",
       "      <td>I understand exactly where you are coming from...</td>\n",
       "    </tr>\n",
       "    <tr>\n",
       "      <th>3</th>\n",
       "      <td>18</td>\n",
       "      <td>Male</td>\n",
       "      <td>Purple_Cherry_Hunter</td>\n",
       "      <td>https://www.reddit.com/r/relationships/comment...</td>\n",
       "      <td>It's just a generalization stereotype that peo...</td>\n",
       "    </tr>\n",
       "    <tr>\n",
       "      <th>4</th>\n",
       "      <td>21</td>\n",
       "      <td>Female</td>\n",
       "      <td>kafkascockroachgrace</td>\n",
       "      <td>https://www.reddit.com/r/relationships/comment...</td>\n",
       "      <td>U@ Me too@ First and foremost just know that l...</td>\n",
       "    </tr>\n",
       "    <tr>\n",
       "      <th>...</th>\n",
       "      <td>...</td>\n",
       "      <td>...</td>\n",
       "      <td>...</td>\n",
       "      <td>...</td>\n",
       "      <td>...</td>\n",
       "    </tr>\n",
       "    <tr>\n",
       "      <th>26640</th>\n",
       "      <td>26</td>\n",
       "      <td>Female</td>\n",
       "      <td>bonky24</td>\n",
       "      <td>https://www.reddit.com/r/relationship_advice/c...</td>\n",
       "      <td>Honestly its hard but you both deserve someone...</td>\n",
       "    </tr>\n",
       "    <tr>\n",
       "      <th>26641</th>\n",
       "      <td>19</td>\n",
       "      <td>Female</td>\n",
       "      <td>Rmonie01</td>\n",
       "      <td>https://www.reddit.com/r/relationship_advice/c...</td>\n",
       "      <td>Me too@ Hi, I'm 19 and I'm dating a 28 year ol...</td>\n",
       "    </tr>\n",
       "    <tr>\n",
       "      <th>26642</th>\n",
       "      <td>24</td>\n",
       "      <td>Female</td>\n",
       "      <td>thiccvegan_</td>\n",
       "      <td>https://www.reddit.com/r/relationship_advice/c...</td>\n",
       "      <td>I completed my first ever 24 hour fast today! ...</td>\n",
       "    </tr>\n",
       "    <tr>\n",
       "      <th>26643</th>\n",
       "      <td>23</td>\n",
       "      <td>Male</td>\n",
       "      <td>markrediot</td>\n",
       "      <td>https://www.reddit.com/r/relationship_advice/c...</td>\n",
       "      <td>Lol why do you make a new account every week a...</td>\n",
       "    </tr>\n",
       "    <tr>\n",
       "      <th>26644</th>\n",
       "      <td>35</td>\n",
       "      <td>Female</td>\n",
       "      <td>Elwing420</td>\n",
       "      <td>https://www.reddit.com/r/relationship_advice/c...</td>\n",
       "      <td>Lmao the only thing Ive learned from this post...</td>\n",
       "    </tr>\n",
       "  </tbody>\n",
       "</table>\n",
       "<p>26645 rows × 5 columns</p>\n",
       "</div>"
      ],
      "text/plain": [
       "       age  gender                author  \\\n",
       "0       28  Female             lunabuddy   \n",
       "1       55    Male   Peenutbuttjellytime   \n",
       "2       24    Male    DatingAdviceTA1224   \n",
       "3       18    Male  Purple_Cherry_Hunter   \n",
       "4       21  Female  kafkascockroachgrace   \n",
       "...    ...     ...                   ...   \n",
       "26640   26  Female               bonky24   \n",
       "26641   19  Female              Rmonie01   \n",
       "26642   24  Female           thiccvegan_   \n",
       "26643   23    Male            markrediot   \n",
       "26644   35  Female             Elwing420   \n",
       "\n",
       "                                               full_link  \\\n",
       "0      https://www.reddit.com/r/relationships/comment...   \n",
       "1      https://www.reddit.com/r/relationships/comment...   \n",
       "2      https://www.reddit.com/r/relationships/comment...   \n",
       "3      https://www.reddit.com/r/relationships/comment...   \n",
       "4      https://www.reddit.com/r/relationships/comment...   \n",
       "...                                                  ...   \n",
       "26640  https://www.reddit.com/r/relationship_advice/c...   \n",
       "26641  https://www.reddit.com/r/relationship_advice/c...   \n",
       "26642  https://www.reddit.com/r/relationship_advice/c...   \n",
       "26643  https://www.reddit.com/r/relationship_advice/c...   \n",
       "26644  https://www.reddit.com/r/relationship_advice/c...   \n",
       "\n",
       "                                                    text  \n",
       "0      I feel bad but I got pissed when these world l...  \n",
       "1      I wouldn't say that being a serial monogamist ...  \n",
       "2      I understand exactly where you are coming from...  \n",
       "3      It's just a generalization stereotype that peo...  \n",
       "4      U@ Me too@ First and foremost just know that l...  \n",
       "...                                                  ...  \n",
       "26640  Honestly its hard but you both deserve someone...  \n",
       "26641  Me too@ Hi, I'm 19 and I'm dating a 28 year ol...  \n",
       "26642  I completed my first ever 24 hour fast today! ...  \n",
       "26643  Lol why do you make a new account every week a...  \n",
       "26644  Lmao the only thing Ive learned from this post...  \n",
       "\n",
       "[26645 rows x 5 columns]"
      ]
     },
     "execution_count": 70,
     "metadata": {},
     "output_type": "execute_result"
    }
   ],
   "source": [
    "samp"
   ]
  },
  {
   "cell_type": "code",
   "execution_count": 10,
   "metadata": {},
   "outputs": [
    {
     "ename": "NameError",
     "evalue": "name 'fqt_pat_sample' is not defined",
     "output_type": "error",
     "traceback": [
      "\u001b[0;31m---------------------------------------------------------------------------\u001b[0m",
      "\u001b[0;31mNameError\u001b[0m                                 Traceback (most recent call last)",
      "\u001b[0;32m<ipython-input-10-949973ddca1e>\u001b[0m in \u001b[0;36m<module>\u001b[0;34m()\u001b[0m\n\u001b[0;32m----> 1\u001b[0;31m \u001b[0mfqt_pat_sample\u001b[0m\u001b[0;34m\u001b[0m\u001b[0m\n\u001b[0m",
      "\u001b[0;31mNameError\u001b[0m: name 'fqt_pat_sample' is not defined"
     ]
    }
   ],
   "source": [
    "fqt_pat_sample"
   ]
  },
  {
   "cell_type": "code",
   "execution_count": null,
   "metadata": {
    "collapsed": true
   },
   "outputs": [],
   "source": []
  }
 ],
 "metadata": {
  "kernelspec": {
   "display_name": "Python 3",
   "language": "python",
   "name": "python3"
  },
  "language_info": {
   "codemirror_mode": {
    "name": "ipython",
    "version": 3
   },
   "file_extension": ".py",
   "mimetype": "text/x-python",
   "name": "python",
   "nbconvert_exporter": "python",
   "pygments_lexer": "ipython3",
   "version": "3.7.6"
  }
 },
 "nbformat": 4,
 "nbformat_minor": 2
}
