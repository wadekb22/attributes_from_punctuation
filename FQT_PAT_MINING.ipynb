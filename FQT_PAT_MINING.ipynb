{
 "cells": [
  {
   "cell_type": "code",
   "execution_count": 1,
   "metadata": {
    "collapsed": true
   },
   "outputs": [],
   "source": [
    "import re\n",
    "import sys\n",
    "import string\n",
    "import pandas as pd\n",
    "from apyori import apriori\n",
    "from mlxtend.frequent_patterns import fpgrowth\n",
    "from mlxtend.preprocessing import TransactionEncoder\n",
    "\n",
    "## NOTE: PASS IN WRITING SAMPLE ALREADY PREPROCESSED LIKE BELOW, BUT DEFINE MARKS_TO_WRDS IN THIS NOTEBOOK"
   ]
  },
  {
   "cell_type": "code",
   "execution_count": 2,
   "metadata": {
    "collapsed": true
   },
   "outputs": [],
   "source": [
    "# Test comment string, can be deleted.\n",
    "comment_list = [\"35, I have a pretty good job but I don't love it. I'm still trying to figure out what I want to be when I grow up. Situation could be a lot worse but I'm at a point where I want to do something I enjoy.\", \"My family (live with my real mom and step dad) act like me being outed by older sister never happened. And on top of all of this I'm struggling trying to study for my math ged which I failed six times with being 1 point shy from passing. If I fail it again, its another two months of waiting to retake it.\", \"I'm really not sure how i'm supposed to feel anymore knowing that most of my life I was just wasting my time.\", \"I'm an IT apprentice and was about a month away from finishing my level 4 course. My training provider has just closed down due to a fraud investigation so now im in a position of trying to find a provider for my specific course so I can finish. And there's no guarantee my years work can be transferred so I may not even be able to get my certificate without another years of work.\", \"29 and I don't like being a mum\", \"I was going to complain about being a 24yo male who's single and doesn't want to be but some of these responses make mine a drop in the bucket compared to the waters some of you face. Best of luck to all of you.\", \"Split up with my long term so of 5 years and decided to go for a complete career change. Going to pack in this life and go travel for a bit. Experience the world and figure out what it is I want.\", \"I'm 30, diagnosed last year with ADHS, failed university this year, just needed to write my thesis, no intimacy with my girlfriend of 2 years anymore. Yeah Life!\", \"32, alcoholic, narcissistic, sociopath, broke, in debt, and i feel eventually my finances will magically fix themselves. I’m also a cocky piece of shit who doesn’t take advice or think there’s anything wrong with me. I truthfully think I’m ok. I need help. So much.\", \"My dad has lung cancer and is refusing treatment, which is fine. He's a 68 year old man who loves to drink and smoke and has accepted the hand he was dealt. He doesn't have to go through treatment if he doesn't want too.\"]"
   ]
  },
  {
   "cell_type": "code",
   "execution_count": 3,
   "metadata": {
    "collapsed": true
   },
   "outputs": [],
   "source": [
    "'''Test comment preprocessing, can be deleted after integration?'''\n",
    "\n",
    "# This cell deals with reformatting of the comment-array input.\n",
    "\n",
    "# Concatinates all the comments into one sample of the Redditor's writing (string object).\n",
    "writing_sample = ' @ '.join(comment_list)\n",
    "\n",
    "# Now, we need to check for instances of elipses and assign them to a new symbol--less confusion with periods, easier analysis.\n",
    "# The tilde will represent an elipse from here on out.\n",
    "writing_sample = writing_sample.replace('...', '~')\n",
    "\n",
    "\n",
    "# We will loop over every character in the string and extract the punctuation, appending each mark to a list.\n",
    "# We will keep this punctuation sequence in both list and string form for further analysis.\n",
    "marks = ['.',',',':',';','?','!','-','(',')','\"',\"'\",'~']\n",
    "marks_str = ''.join(map(str, marks))\n",
    "\n",
    "'''NEW (just the line below this)'''\n",
    "marks_to_wrds = {' prd ': '.', ' cmma ': ',', ' coln ': ':', ' smicln ': ';', ' qstn ': '?', ' xclm ': '!', ' dsh ': '-', ' lftparen ': '(', ' rghtparen ': ')', ' dblqt ': '\"', ' snglqt ': \"'\", ' elpss ': '~'}\n",
    "\n",
    "punct_list = []\n",
    "\n",
    "for character in writing_sample:\n",
    "    if character in marks:\n",
    "        punct_list.append(character)\n",
    "    \n",
    "punct_str = ''.join(punct_list)"
   ]
  },
  {
   "cell_type": "code",
   "execution_count": null,
   "metadata": {
    "collapsed": true
   },
   "outputs": [],
   "source": [
    "def get_fp(writing_sample):\n",
    "    \n",
    "    transactions = []\n",
    "    fqt_pat_sample = writing_sample\n",
    "\n",
    "    for character in fqt_pat_sample:\n",
    "        if character in marks:\n",
    "            fqt_pat_sample = fqt_pat_sample.replace(character, list(marks_to_wrds.keys())[list(marks_to_wrds.values()).index(character)])\n",
    "\n",
    "    wrd_pos = 0\n",
    "    for word in fqt_pat_sample.split():\n",
    "        grab_three = []\n",
    "        word_formatted = ' ' + word + ' '\n",
    "        if word_formatted in marks_to_wrds.keys():\n",
    "            if wrd_pos >= 3:\n",
    "                grab_three.append(fqt_pat_sample.split()[wrd_pos - 3])\n",
    "                grab_three.append(fqt_pat_sample.split()[wrd_pos - 2])\n",
    "                grab_three.append(fqt_pat_sample.split()[wrd_pos - 1])\n",
    "                grab_three.append(fqt_pat_sample.split()[wrd_pos])\n",
    "            \n",
    "                transactions.append(grab_three) \n",
    "        wrd_pos += 1\n",
    "    \n",
    "    # Put the transactions into dataframe form, this allows us to perform FPgrowth on the resultant dataframe.\n",
    "    te = TransactionEncoder()\n",
    "    te_transformed = te.fit(transactions).transform(transactions)\n",
    "    df = pd.DataFrame(te_transformed, columns = te.columns_)\n",
    "\n",
    "    # Apply FPgrowth to the transactional dataframe.\n",
    "    freq_pats = fpgrowth(df, min_support = 0.5, use_colnames = True)\n",
    "    return freq_pats"
   ]
  }
 ],
 "metadata": {
  "kernelspec": {
   "display_name": "Python 3",
   "language": "python",
   "name": "python3"
  },
  "language_info": {
   "codemirror_mode": {
    "name": "ipython",
    "version": 3
   },
   "file_extension": ".py",
   "mimetype": "text/x-python",
   "name": "python",
   "nbconvert_exporter": "python",
   "pygments_lexer": "ipython3",
   "version": "3.6.1"
  }
 },
 "nbformat": 4,
 "nbformat_minor": 2
}
